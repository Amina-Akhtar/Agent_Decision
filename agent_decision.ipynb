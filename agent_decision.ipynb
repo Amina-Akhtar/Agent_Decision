{
 "cells": [
  {
   "cell_type": "code",
   "execution_count": 2,
   "id": "4a027246-72f8-49d4-9041-73456cf1fe62",
   "metadata": {},
   "outputs": [],
   "source": [
    "import pandas as pd\n",
    "import dspy\n",
    "import os\n",
    "from dspy.evaluate import Evaluate\n",
    "from dspy.evaluate.metrics import answer_exact_match"
   ]
  },
  {
   "cell_type": "code",
   "execution_count": 26,
   "id": "1409dec2-cd53-43ec-99ba-836fe0168a15",
   "metadata": {},
   "outputs": [],
   "source": [
    "# Load the CSV dataset\n",
    "df = pd.read_csv(\"agent_decision_dataset.csv\")"
   ]
  },
  {
   "cell_type": "code",
   "execution_count": 27,
   "id": "6e642167-aa6b-4b33-8ec3-7e415bc747f7",
   "metadata": {},
   "outputs": [],
   "source": [
    "# Shuffle the dataframe\n",
    "df_shuffled = df.sample(frac=1, random_state=42).reset_index(drop=True)\n",
    "\n",
    "# Convert to list of dictionaries\n",
    "dataset_dict = df_shuffled.to_dict(orient='records')\n",
    "\n",
    "# Split dataset \n",
    "split_index = int(len(dataset_dict) * 0.8)\n",
    "trainset = dataset_dict[:split_index]\n",
    "testset = dataset_dict[split_index:]\n",
    "\n",
    "train_examples = [\n",
    "    dspy.Example(Query=x[\"Query\"], Type=x[\"Type\"]).with_inputs(\"Query\")\n",
    "    for x in trainset\n",
    "]\n",
    "\n",
    "test_examples = [\n",
    "    dspy.Example(Query=x[\"Query\"], Type=x[\"Type\"]).with_inputs(\"Query\")\n",
    "    for x in testset\n",
    "]\n"
   ]
  },
  {
   "cell_type": "code",
   "execution_count": 28,
   "id": "b7c7ac6b-9a12-453c-ae18-4f7972569da9",
   "metadata": {},
   "outputs": [],
   "source": [
    "class QueryTypePrediction(dspy.Signature):\n",
    "    \"\"\"\n",
    "    You are an intent classifier for Bookme.pk. \n",
    "\n",
    "    Possible outputs:\n",
    "      - 'static' if the query is about FAQs, policies, or general information.\n",
    "      - 'api' if the query requests live data.\n",
    "\n",
    "    Always respond with ONLY 'static' or 'api'.\n",
    "    \"\"\"\n",
    "    Query = dspy.InputField(desc=\"The user query\")\n",
    "    Type = dspy.OutputField(desc=\"The type of query: static or api\")\n",
    "\n",
    "# Module for Query -> Type prediction\n",
    "class QueryTypePredictor(dspy.Module):\n",
    "    def __init__(self):\n",
    "        super().__init__()\n",
    "        self.generate = dspy.ChainOfThought(\"Query -> Type\")\n",
    "    \n",
    "    def forward(self, Query):\n",
    "        return self.generate(Query=Query)\n"
   ]
  },
  {
   "cell_type": "code",
   "execution_count": 6,
   "id": "1155c500-69df-4121-ab4f-477f892f47f8",
   "metadata": {},
   "outputs": [],
   "source": [
    "llm = dspy.LM(\"groq/llama3-8b-8192\", api_key=\"\")\n",
    "dspy.settings.configure(lm=lm, max_tokens=1024, temperature=0)"
   ]
  },
  {
   "cell_type": "code",
   "execution_count": 30,
   "id": "16ca16cd-b7f0-4dde-9f97-cd756499bf23",
   "metadata": {},
   "outputs": [],
   "source": [
    "class Assess(dspy.Signature):\n",
    "    \"\"\"\n",
    "    Decide if predicted type (api/static) fits the query.\n",
    "    \"\"\"\n",
    "    Query = dspy.InputField(desc=\"The user's query for Bookme.pk\")\n",
    "    Type = dspy.InputField(desc=\"Predicted type of query: 'api' or 'static'\")\n",
    "    verdict = dspy.OutputField(desc=\"Return 'YES' if Type fits the query intent. Otherwise return 'NO'.\")\n",
    "\n",
    "def metric(example, prediction, trace=None):\n",
    "    assessment = dspy.Predict(Assess, temperature=0)(\n",
    "        Query=example['Query'],\n",
    "        Type=prediction.Type\n",
    "    )\n",
    "    \n",
    "    verdict = assessment.verdict.strip().upper()\n",
    "    \n",
    "    print(f\"Query: {example['Query']}\\nPredicted: {prediction.Type}\\nVerdict: {verdict}\\n\")\n",
    "    \n",
    "    return int(verdict == \"YES\")\n"
   ]
  },
  {
   "cell_type": "code",
   "execution_count": 31,
   "id": "5413b485-db88-4ebd-9f5a-58b450a2a47d",
   "metadata": {},
   "outputs": [
    {
     "name": "stdout",
     "output_type": "stream",
     "text": [
      "Prediction(\n",
      "    reasoning='The query \"Hello\" is not a specific question or request, so it cannot be classified into a specific type.',\n",
      "    Type='None'\n",
      ")\n"
     ]
    }
   ],
   "source": [
    "# Initialize the model module\n",
    "generator = QueryTypePredictor()\n",
    "\n",
    "print(generator(Query=\"Hello\"))"
   ]
  },
  {
   "cell_type": "code",
   "execution_count": 32,
   "id": "b278aa92-1787-43eb-aade-b4437b9af67f",
   "metadata": {},
   "outputs": [
    {
     "name": "stdout",
     "output_type": "stream",
     "text": [
      "Query: Show flights from Islamabad to Bahrain next week\n",
      "Predicted: Travel Information\n",
      "Verdict: YES\n",
      "\n",
      "Average Metric: 1.00 / 1 (100.0%):   0%|          | 0/30 [00:00<?, ?it/s]Query: Does Bookme have physical offices?\n",
      "Predicted: Factual\n",
      "Verdict: YES\n",
      "\n",
      "Query: Show me buses from Faisalabad to Lahore tonight\n",
      "Predicted: Informational\n",
      "Verdict: YES\n",
      "\n",
      "Query: Check buses from Lahore to Gujranwala today\n",
      "Predicted: Information Request\n",
      "Verdict: NO\n",
      "\n",
      "Average Metric: 2.00 / 2 (100.0%):   3%|▎         | 1/30 [00:00<00:01, 17.70it/s]Query: Does Bookme accept credit cards?\n",
      "Predicted: Informational\n",
      "Verdict: YES\n",
      "\n",
      "Query: Search flights Karachi to Singapore this week\n",
      "Predicted: Travel\n",
      "Verdict: NO\n",
      "\n",
      "Average Metric: 4.00 / 6 (66.7%):  17%|█▋        | 5/30 [00:00<00:00, 53.19it/s] Query: Check flights from Islamabad to Riyadh and let me know if cancellation is free.\n",
      "Predicted: Travel Information\n",
      "Verdict: YES\n",
      "\n",
      "Average Metric: 5.00 / 7 (71.4%):  23%|██▎       | 7/30 [00:01<00:05,  4.04it/s]Query: Can I cancel my bus ticket online and get refund immediately?\n",
      "Predicted: Informational\n",
      "Verdict: NO\n",
      "\n",
      "Query: What is the maximum luggage allowed on buses?\n",
      "Predicted: Informational\n",
      "Verdict: YES\n",
      "\n",
      "Query: Search flights from Karachi to Bangkok this week\n",
      "Predicted: Travel\n",
      "Verdict: NO\n",
      "\n",
      "Average Metric: 6.00 / 10 (60.0%):  30%|███       | 9/30 [00:02<00:07,  2.86it/s]Query: Book me flights from Karachi to Colombo next week and tell me refund policy.\n",
      "Predicted: Travel Query\n",
      "Verdict: YES\n",
      "\n",
      "Average Metric: 7.00 / 11 (63.6%):  37%|███▋      | 11/30 [00:03<00:06,  3.10it/s]Query: Show me hotels in Hunza for next week with cancellation policy.\n",
      "Predicted: Travel Information\n",
      "Verdict: YES\n",
      "\n",
      "Query: What is Bookme’s vision?\n",
      "Predicted: Informational\n",
      "Verdict: YES\n",
      "\n",
      "Average Metric: 9.00 / 13 (69.2%):  40%|████      | 12/30 [00:04<00:07,  2.43it/s]Query: Check buses from Lahore to Gujranwala today with cancellation terms.\n",
      "Predicted: Information Request\n",
      "Verdict: NO\n",
      "\n",
      "Query: What is Bookme.pk contact number?\n",
      "Predicted: Informational\n",
      "Verdict: YES\n",
      "\n",
      "Query: Check Karachi to Dubai flights next week\n",
      "Predicted: Travel Information\n",
      "Verdict: YES\n",
      "\n",
      "Average Metric: 11.00 / 16 (68.8%):  50%|█████     | 15/30 [00:05<00:06,  2.36it/s]Query: Book me flights from Lahore to Dubai for next Monday with refund option.\n",
      "Predicted: Travel Booking Request\n",
      "Verdict: YES\n",
      "\n",
      "Average Metric: 12.00 / 17 (70.6%):  57%|█████▋    | 17/30 [00:05<00:04,  2.88it/s]Query: Show me hotels in Murree this weekend and their cancellation policies.\n",
      "Predicted: Travel/Booking\n",
      "Verdict: YES\n",
      "\n",
      "Average Metric: 13.00 / 18 (72.2%):  60%|██████    | 18/30 [00:06<00:05,  2.18it/s]Query: I need a flight from Lahore to Karachi and want to know its refund policy for cancellations.\n",
      "Predicted: Travel Information\n",
      "Verdict: YES\n",
      "\n",
      "Average Metric: 14.00 / 19 (73.7%):  63%|██████▎   | 19/30 [00:07<00:05,  1.88it/s]Query: What is the refund policy for buses if I cancel 1 hour before departure?\n",
      "Predicted: Informational\n",
      "Verdict: YES\n",
      "\n",
      "Query: Show buses from Rawalpindi to Lahore tomorrow\n",
      "Predicted: Travel Information\n",
      "Verdict: YES\n",
      "\n",
      "Query: Find hotels in Muzaffarabad for this week\n",
      "Predicted: Travel Information\n",
      "Verdict: YES\n",
      "\n",
      "Average Metric: 17.00 / 22 (77.3%):  70%|███████   | 21/30 [00:08<00:05,  1.58it/s]Query: Book a flight from Islamabad to Dubai and tell me visa requirements.\n",
      "Predicted: Travel Information\n",
      "Verdict: YES\n",
      "\n",
      "Average Metric: 18.00 / 23 (78.3%):  77%|███████▋  | 23/30 [00:09<00:03,  2.19it/s]Query: Can I book a hotel and pay at check-in through Bookme.pk?\n",
      "Predicted: Informational\n",
      "Verdict: YES\n",
      "\n",
      "Query: How do I get a refund in my wallet?\n",
      "Predicted: General Information\n",
      "Verdict: YES\n",
      "\n",
      "Query: Show hotels in Hunza for August\n",
      "Predicted: Travel Information\n",
      "Verdict: YES\n",
      "\n",
      "Average Metric: 21.00 / 26 (80.8%):  83%|████████▎ | 25/30 [00:10<00:02,  1.90it/s]Query: Book me a bus from Lahore to Faisalabad and tell me refund policy.\n",
      "Predicted: Travel Information\n",
      "Verdict: YES\n",
      "\n",
      "Query: Does Bookme refund cancelled tickets?\n",
      "Predicted: Informational\n",
      "Verdict: YES\n",
      "\n",
      "Average Metric: 22.00 / 27 (81.5%):  87%|████████▋ | 26/30 [00:11<00:02,  1.90it/s]Query: List hotels in Islamabad for today\n",
      "Predicted: Search\n",
      "Verdict: NO\n",
      "\n",
      "Average Metric: 23.00 / 29 (79.3%):  93%|█████████▎| 28/30 [00:11<00:00,  2.41it/s]Query: Can I get a refund if I cancel my flight from Lahore to Islamabad?\n",
      "Predicted: Travel/Aviation\n",
      "Verdict: YES\n",
      "\n",
      "Average Metric: 24.00 / 30 (80.0%): 100%|██████████| 30/30 [00:12<00:00,  2.49it/s]"
     ]
    },
    {
     "name": "stderr",
     "output_type": "stream",
     "text": [
      "2025/07/23 16:42:03 INFO dspy.evaluate.evaluate: Average Metric: 24 / 30 (80.0%)\n"
     ]
    },
    {
     "name": "stdout",
     "output_type": "stream",
     "text": [
      "\n"
     ]
    },
    {
     "data": {
      "text/html": [
       "<div>\n",
       "<style scoped>\n",
       "    .dataframe tbody tr th:only-of-type {\n",
       "        vertical-align: middle;\n",
       "    }\n",
       "\n",
       "    .dataframe tbody tr th {\n",
       "        vertical-align: top;\n",
       "    }\n",
       "\n",
       "    .dataframe thead th {\n",
       "        text-align: right;\n",
       "    }\n",
       "</style>\n",
       "<table border=\"1\" class=\"dataframe\">\n",
       "  <thead>\n",
       "    <tr style=\"text-align: right;\">\n",
       "      <th></th>\n",
       "      <th>Query</th>\n",
       "      <th>example_Type</th>\n",
       "      <th>reasoning</th>\n",
       "      <th>pred_Type</th>\n",
       "      <th>metric</th>\n",
       "    </tr>\n",
       "  </thead>\n",
       "  <tbody>\n",
       "    <tr>\n",
       "      <th>0</th>\n",
       "      <td>Show flights from Islamabad to Bahrain next week</td>\n",
       "      <td>api</td>\n",
       "      <td>The query is asking for flights from Islamabad to Bahrain for the ...</td>\n",
       "      <td>Travel Information</td>\n",
       "      <td>✔️ [1]</td>\n",
       "    </tr>\n",
       "    <tr>\n",
       "      <th>1</th>\n",
       "      <td>Does Bookme have physical offices?</td>\n",
       "      <td>static</td>\n",
       "      <td>Bookme is a digital platform that allows users to book appointment...</td>\n",
       "      <td>Factual</td>\n",
       "      <td>✔️ [1]</td>\n",
       "    </tr>\n",
       "    <tr>\n",
       "      <th>2</th>\n",
       "      <td>Show me buses from Faisalabad to Lahore tonight</td>\n",
       "      <td>api</td>\n",
       "      <td>The query is asking for information about buses from Faisalabad to...</td>\n",
       "      <td>Informational</td>\n",
       "      <td>✔️ [1]</td>\n",
       "    </tr>\n",
       "    <tr>\n",
       "      <th>3</th>\n",
       "      <td>Check buses from Lahore to Gujranwala today</td>\n",
       "      <td>api</td>\n",
       "      <td>The query is asking for information about buses from Lahore to Guj...</td>\n",
       "      <td>Information Request</td>\n",
       "      <td></td>\n",
       "    </tr>\n",
       "    <tr>\n",
       "      <th>4</th>\n",
       "      <td>Does Bookme accept credit cards?</td>\n",
       "      <td>static</td>\n",
       "      <td>The query is asking about the payment method accepted by Bookme, s...</td>\n",
       "      <td>Informational</td>\n",
       "      <td>✔️ [1]</td>\n",
       "    </tr>\n",
       "    <tr>\n",
       "      <th>5</th>\n",
       "      <td>Search flights Karachi to Singapore this week</td>\n",
       "      <td>api</td>\n",
       "      <td>The query is searching for flights from Karachi to Singapore for t...</td>\n",
       "      <td>Travel</td>\n",
       "      <td></td>\n",
       "    </tr>\n",
       "    <tr>\n",
       "      <th>6</th>\n",
       "      <td>Check flights from Islamabad to Riyadh and let me know if cancella...</td>\n",
       "      <td>api</td>\n",
       "      <td>The query is asking to check flights from Islamabad to Riyadh and ...</td>\n",
       "      <td>Travel Information</td>\n",
       "      <td>✔️ [1]</td>\n",
       "    </tr>\n",
       "    <tr>\n",
       "      <th>7</th>\n",
       "      <td>Can I cancel my bus ticket online and get refund immediately?</td>\n",
       "      <td>static</td>\n",
       "      <td>The query is asking about the possibility of canceling a bus ticke...</td>\n",
       "      <td>Informational</td>\n",
       "      <td></td>\n",
       "    </tr>\n",
       "    <tr>\n",
       "      <th>8</th>\n",
       "      <td>What is the maximum luggage allowed on buses?</td>\n",
       "      <td>static</td>\n",
       "      <td>The query is asking about the maximum luggage allowed on buses, wh...</td>\n",
       "      <td>Informational</td>\n",
       "      <td>✔️ [1]</td>\n",
       "    </tr>\n",
       "    <tr>\n",
       "      <th>9</th>\n",
       "      <td>Search flights from Karachi to Bangkok this week</td>\n",
       "      <td>api</td>\n",
       "      <td>The query is searching for flights from Karachi to Bangkok for thi...</td>\n",
       "      <td>Travel</td>\n",
       "      <td></td>\n",
       "    </tr>\n",
       "  </tbody>\n",
       "</table>\n",
       "</div>"
      ],
      "text/plain": [
       "                                                                   Query  \\\n",
       "0                       Show flights from Islamabad to Bahrain next week   \n",
       "1                                     Does Bookme have physical offices?   \n",
       "2                        Show me buses from Faisalabad to Lahore tonight   \n",
       "3                            Check buses from Lahore to Gujranwala today   \n",
       "4                                       Does Bookme accept credit cards?   \n",
       "5                          Search flights Karachi to Singapore this week   \n",
       "6  Check flights from Islamabad to Riyadh and let me know if cancella...   \n",
       "7          Can I cancel my bus ticket online and get refund immediately?   \n",
       "8                          What is the maximum luggage allowed on buses?   \n",
       "9                       Search flights from Karachi to Bangkok this week   \n",
       "\n",
       "  example_Type  \\\n",
       "0          api   \n",
       "1       static   \n",
       "2          api   \n",
       "3          api   \n",
       "4       static   \n",
       "5          api   \n",
       "6          api   \n",
       "7       static   \n",
       "8       static   \n",
       "9          api   \n",
       "\n",
       "                                                               reasoning  \\\n",
       "0  The query is asking for flights from Islamabad to Bahrain for the ...   \n",
       "1  Bookme is a digital platform that allows users to book appointment...   \n",
       "2  The query is asking for information about buses from Faisalabad to...   \n",
       "3  The query is asking for information about buses from Lahore to Guj...   \n",
       "4  The query is asking about the payment method accepted by Bookme, s...   \n",
       "5  The query is searching for flights from Karachi to Singapore for t...   \n",
       "6  The query is asking to check flights from Islamabad to Riyadh and ...   \n",
       "7  The query is asking about the possibility of canceling a bus ticke...   \n",
       "8  The query is asking about the maximum luggage allowed on buses, wh...   \n",
       "9  The query is searching for flights from Karachi to Bangkok for thi...   \n",
       "\n",
       "             pred_Type  metric  \n",
       "0   Travel Information  ✔️ [1]  \n",
       "1              Factual  ✔️ [1]  \n",
       "2        Informational  ✔️ [1]  \n",
       "3  Information Request          \n",
       "4        Informational  ✔️ [1]  \n",
       "5               Travel          \n",
       "6   Travel Information  ✔️ [1]  \n",
       "7        Informational          \n",
       "8        Informational  ✔️ [1]  \n",
       "9               Travel          "
      ]
     },
     "metadata": {},
     "output_type": "display_data"
    },
    {
     "data": {
      "text/html": [
       "\n",
       "            <div style='\n",
       "                text-align: center;\n",
       "                font-size: 16px;\n",
       "                font-weight: bold;\n",
       "                color: #555;\n",
       "                margin: 10px 0;'>\n",
       "                ... 20 more rows not displayed ...\n",
       "            </div>\n",
       "            "
      ],
      "text/plain": [
       "<IPython.core.display.HTML object>"
      ]
     },
     "metadata": {},
     "output_type": "display_data"
    },
    {
     "name": "stdout",
     "output_type": "stream",
     "text": [
      "\n",
      "Evaluation Results: 80.0\n"
     ]
    }
   ],
   "source": [
    "# Initialize your evaluator for the Use–Tool dataset\n",
    "evaluator = Evaluate(\n",
    "    devset=test_examples,\n",
    "    metric=metric,            # Your updated metric function for Use->Tool evaluation\n",
    "    display_progress=True,\n",
    "    display_table=10,         # Adjust for your console width\n",
    "    num_threads=1,\n",
    "    provide_traceback=True\n",
    ")\n",
    "\n",
    "# Evaluate the ToolPredictor module\n",
    "results = evaluator(generator)\n",
    "\n",
    "print(f\"\\nEvaluation Results: {results}\")"
   ]
  },
  {
   "cell_type": "code",
   "execution_count": 33,
   "id": "a6a05fa6-f067-45e4-8bad-d9b557a8ddeb",
   "metadata": {},
   "outputs": [
    {
     "name": "stdout",
     "output_type": "stream",
     "text": [
      "Going to sample between 1 and 4 traces per predictor.\n",
      "Will attempt to bootstrap 4 candidate sets.\n",
      "Query: Search flights from Lahore to Istanbul this month\n",
      "Predicted: Travel/Flight Booking\n",
      "Verdict: YES\n",
      "\n",
      "Query: Can I use Bookme without an account?\n",
      "Predicted: Informational\n",
      "Verdict: YES\n",
      "\n",
      "Query: Find buses from Islamabad to Peshawar tonight\n",
      "Predicted: Travel Information\n",
      "Verdict: YES\n",
      "\n",
      "Query: Check flights from Karachi to Muscat tomorrow\n",
      "Predicted: Travel Information\n",
      "Verdict: YES\n",
      "\n",
      "Query: How can I know if my booking is confirmed?\n",
      "Predicted: Informational\n",
      "Verdict: YES\n",
      "\n",
      "Query: Check buses from Rawalpindi to Murree today\n",
      "Predicted: Travel Information\n",
      "Verdict: YES\n",
      "\n",
      "Average Metric: 6.00 / 6 (100.0%):   4%|▍         | 5/119 [00:00<00:00, 125.00it/s]Query: Book a hotel in Murree for upcoming Friday with free cancellation.\n",
      "Predicted: Booking Query\n",
      "Verdict: YES\n",
      "\n",
      "Query: Search hotels in Skardu for next weekend\n",
      "Predicted: Travel Booking\n",
      "Verdict: YES\n",
      "\n",
      "Query: Find flights from Islamabad to Dubai this Friday\n",
      "Predicted: Travel Query\n",
      "Verdict: YES\n",
      "\n",
      "Query: Show flights from Karachi to Doha next week with refund option.\n",
      "Predicted: Travel Query\n",
      "Verdict: YES\n",
      "\n",
      "Query: How can I contact Bookme support?\n",
      "Predicted: Informational\n",
      "Verdict: YES\n",
      "\n",
      "Query: Where is Bookme.pk headquartered?\n",
      "Predicted: Informational\n",
      "Verdict: YES\n",
      "\n",
      "Query: What payment methods are accepted?\n",
      "Predicted: Informational\n",
      "Verdict: YES\n",
      "\n",
      "Average Metric: 7.00 / 7 (100.0%):   5%|▌         | 6/119 [00:01<00:24,  4.63it/s] Query: Is there a loyalty program for bus tickets?\n",
      "Predicted: Informational\n",
      "Verdict: YES\n",
      "\n",
      "Query: List buses from Lahore to Sialkot tomorrow morning\n",
      "Predicted: Informational\n",
      "Verdict: NO\n",
      "\n",
      "Average Metric: 14.00 / 15 (93.3%):  12%|█▏        | 14/119 [00:01<00:19,  5.34it/s]Query: Find me hotels in Karachi tonight with free cancellation.\n",
      "Predicted: Travel Search\n",
      "Verdict: YES\n",
      "\n",
      "Query: Find bus from Multan to Faisalabad tonight\n",
      "Predicted: Travel Information\n",
      "Verdict: YES\n",
      "\n",
      "Query: Show available hotels in Karachi for tonight\n",
      "Predicted: Booking/Travel Information\n",
      "Verdict: YES\n",
      "\n",
      "Average Metric: 15.00 / 16 (93.8%):  13%|█▎        | 16/119 [00:02<00:12,  8.11it/s]Query: Show flights from Lahore to Istanbul next month and refund options.\n",
      "Predicted: Travel Information\n",
      "Verdict: YES\n",
      "\n",
      "Query: Is there any referral program?\n",
      "Predicted: Informational\n",
      "Verdict: YES\n",
      "\n",
      "Average Metric: 19.00 / 20 (95.0%):  16%|█▌        | 19/119 [00:02<00:12,  8.11it/s]Query: Check flights from Lahore to Kuala Lumpur and baggage policy.\n",
      "Predicted: Travel Information\n",
      "Verdict: YES\n",
      "\n",
      "Query: Does Bookme offer discounts on flights?\n",
      "Predicted: Informational\n",
      "Verdict: YES\n",
      "\n",
      "Average Metric: 20.00 / 21 (95.2%):  17%|█▋        | 20/119 [00:03<00:12,  8.11it/s]Query: I need a hotel in Karachi tonight, can I cancel if plans change?\n",
      "Predicted: Booking Inquiry\n",
      "Verdict: YES\n",
      "\n",
      "Average Metric: 22.00 / 23 (95.7%):  18%|█▊        | 22/119 [00:03<00:14,  6.59it/s]Query: Is it possible to book movie tickets and cancel them later?\n",
      "Predicted: Informational\n",
      "Verdict: NO\n",
      "\n",
      "Average Metric: 22.00 / 24 (91.7%):  20%|██        | 24/119 [00:04<00:17,  5.36it/s]Query: Can I book a bus ticket from Multan to Faisalabad for tonight and get refund if not used?\n",
      "Predicted: Booking Query\n",
      "Verdict: YES\n",
      "\n",
      "Average Metric: 23.00 / 25 (92.0%):  20%|██        | 24/119 [00:04<00:17,  5.36it/s]Query: Can I pay for hotel booking via JazzCash and get refund in same account?\n",
      "Predicted: Informational\n",
      "Verdict: YES\n",
      "\n",
      "Average Metric: 24.00 / 26 (92.3%):  22%|██▏       | 26/119 [00:04<00:20,  4.45it/s]Query: How can I get a refund for my booked flight ticket from Bookme?\n",
      "Predicted: Customer Support\n",
      "Verdict: YES\n",
      "\n",
      "Query: How to deactivate notifications?\n",
      "Predicted: Informational\n",
      "Verdict: YES\n",
      "\n",
      "Query: Does Bookme sell event tickets?\n",
      "Predicted: Factual\n",
      "Verdict: YES\n",
      "\n",
      "Query: Can I pay using JazzCash?\n",
      "Predicted: Payment Method Inquiry\n",
      "Verdict: YES\n",
      "\n",
      "Average Metric: 25.00 / 27 (92.6%):  22%|██▏       | 26/119 [00:04<00:20,  4.45it/s]Query: Where can I see my e-tickets?\n",
      "Predicted: Informational\n",
      "Verdict: YES\n",
      "\n",
      "Query: Find hotels in Islamabad for next week\n",
      "Predicted: Travel\n",
      "Verdict: NO\n",
      "\n",
      "Query: Is there a customer care number?\n",
      "Predicted: Information Request\n",
      "Verdict: YES\n",
      "\n",
      "Query: How to check loyalty tier status?\n",
      "Predicted: Informational\n",
      "Verdict: YES\n",
      "\n",
      "Average Metric: 31.00 / 34 (91.2%):  28%|██▊       | 33/119 [00:05<00:18,  4.70it/s]Query: Find me flights from Karachi to Dubai and tell me if they are refundable.\n",
      "Predicted: Travel Query\n",
      "Verdict: YES\n",
      "\n",
      "Query: Find me hotels in Murree for this weekend\n",
      "Predicted: Travel Information\n",
      "Verdict: YES\n",
      "\n",
      "Average Metric: 32.00 / 35 (91.4%):  29%|██▊       | 34/119 [00:05<00:18,  4.70it/s]Query: How to subscribe to Bookme newsletter?\n",
      "Predicted: Informational\n",
      "Verdict: YES\n",
      "\n",
      "Query: What are Bookme loyalty rewards?\n",
      "Predicted: Informational\n",
      "Verdict: YES\n",
      "\n",
      "Query: What are the timings for customer support?\n",
      "Predicted: Informational\n",
      "Verdict: YES\n",
      "\n",
      "Query: Can I reserve a hotel in Naran for next week and cancel later without charges?\n",
      "Predicted: Hotel Reservation Cancellation Policy\n",
      "Verdict: YES\n",
      "\n",
      "Query: List flights from Karachi to Colombo next week\n",
      "Predicted: Travel Information\n",
      "Verdict: YES\n",
      "\n",
      "Query: Find hotels in Gilgit for upcoming weekend\n",
      "Predicted: Travel\n",
      "Verdict: NO\n",
      "\n",
      "Average Metric: 32.00 / 35 (91.4%):  29%|██▉       | 35/119 [00:05<00:13,  6.41it/s]Query: What is the cancellation policy for flights?\n",
      "Predicted: Informational\n",
      "Verdict: YES\n",
      "\n",
      "Query: How to check my booking history?\n",
      "Predicted: Informational\n",
      "Verdict: YES\n",
      "\n",
      "Query: List buses Lahore to Rawalpindi today\n",
      "Predicted: Transportation Query\n",
      "Verdict: YES\n",
      "\n",
      "Average Metric: 41.00 / 45 (91.1%):  37%|███▋      | 44/119 [00:05<00:11,  6.41it/s]Query: Can I cancel flight booked from Bookme and get refund in my wallet?\n",
      "Predicted: Booking/Cancellation\n",
      "Verdict: YES\n",
      "\n",
      "Average Metric: 42.00 / 46 (91.3%):  39%|███▊      | 46/119 [00:06<00:08,  8.35it/s]Query: Can I change passenger name after booking flight from Bookme?\n",
      "Predicted: Frequently Asked Question (FAQ)\n",
      "Verdict: YES\n",
      "\n",
      "Query: Show bus from Karachi to Hyderabad today\n",
      "Predicted: Transportation Query\n",
      "Verdict: YES\n",
      "\n",
      "Average Metric: 44.00 / 48 (91.7%):  39%|███▉      | 47/119 [00:07<00:10,  6.99it/s]Query: I need bus tickets Lahore to Rawalpindi today and refund details.\n",
      "Predicted: Travel Information Request\n",
      "Verdict: YES\n",
      "\n",
      "Query: List hotels in Murree for upcoming Friday\n",
      "Predicted: Informational Query\n",
      "Verdict: YES\n",
      "\n",
      "Average Metric: 46.00 / 50 (92.0%):  41%|████      | 49/119 [00:07<00:11,  5.98it/s]Query: Show me Lahore to Multan buses tomorrow morning and their refund policy.\n",
      "Predicted: Informational Query\n",
      "Verdict: YES\n",
      "\n",
      "Query: Show me Lahore to Multan buses tomorrow morning\n",
      "Predicted: Information Request\n",
      "Verdict: YES\n",
      "\n",
      "Query: How can I cancel my bus ticket?\n",
      "Predicted: Customer Support\n",
      "Verdict: YES\n",
      "\n",
      "Average Metric: 49.00 / 53 (92.5%):  44%|████▎     | 52/119 [00:08<00:12,  5.39it/s]Query: I want to book a flight from Karachi to Bangkok, what is the baggage allowance?\n",
      "Predicted: Travel Information\n",
      "Verdict: YES\n",
      "\n",
      "Query: Check flights from Karachi to Dubai on 25th July\n",
      "Predicted: Travel Information\n",
      "Verdict: YES\n",
      "\n",
      "Query: Can I book movie tickets through Bookme?\n",
      "Predicted: Informational\n",
      "Verdict: YES\n",
      "\n",
      "Query: How can I share my booking with someone?\n",
      "Predicted: Informational\n",
      "Verdict: YES\n",
      "\n",
      "Query: Is there any student discount?\n",
      "Predicted: Informational\n",
      "Verdict: YES\n",
      "\n",
      "Query: List hotels in Naran for upcoming weekend\n",
      "Predicted: Travel Information\n",
      "Verdict: YES\n",
      "\n",
      "Average Metric: 55.00 / 59 (93.2%):  49%|████▊     | 58/119 [00:09<00:11,  5.40it/s]Query: Can I change flight date after booking on Bookme.pk?\n",
      "Predicted: Informational\n",
      "Verdict: YES\n",
      "\n",
      "Query: Does Bookme charge any service fee?\n",
      "Predicted: Informational\n",
      "Verdict: YES\n",
      "\n",
      "Query: How can I delete my Bookme account?\n",
      "Predicted: Customer Support\n",
      "Verdict: YES\n",
      "\n",
      "Query: How long does it take to receive refund?\n",
      "Predicted: Informational\n",
      "Verdict: YES\n",
      "\n",
      "Query: Find bus Lahore to Bahawalpur tonight\n",
      "Predicted: Informational\n",
      "Verdict: NO\n",
      "\n",
      "Query: Can I book train tickets on Bookme?\n",
      "Predicted: Informational\n",
      "Verdict: YES\n",
      "\n",
      "Average Metric: 56.00 / 60 (93.3%):  50%|████▉     | 59/119 [00:09<00:11,  5.40it/s]Query: Search flights from Karachi to Doha this week\n",
      "Predicted: Travel\n",
      "Verdict: NO\n",
      "\n",
      "Average Metric: 60.00 / 66 (90.9%):  55%|█████▍    | 65/119 [00:09<00:07,  7.17it/s]Query: I want to book a hotel in Lahore, does it allow early check-in?\n",
      "Predicted: Booking Query\n",
      "Verdict: YES\n",
      "\n",
      "Query: Can I change email linked to my account?\n",
      "Predicted: Help\n",
      "Verdict: YES\n",
      "\n",
      "Average Metric: 61.00 / 67 (91.0%):  55%|█████▌    | 66/119 [00:09<00:07,  7.17it/s]Query: Find buses from Islamabad to Abbottabad today\n",
      "Predicted: Informational Query\n",
      "Verdict: YES\n",
      "\n",
      "Average Metric: 63.00 / 69 (91.3%):  57%|█████▋    | 68/119 [00:10<00:05,  9.07it/s]Query: Find hotels in Muzaffarabad this week with refund facility.\n",
      "Predicted: Travel/Booking Query\n",
      "Verdict: YES\n",
      "\n",
      "Query: How to login if I forgot my password?\n",
      "Predicted: Informational\n",
      "Verdict: NO\n",
      "\n",
      "Average Metric: 64.00 / 71 (90.1%):  59%|█████▉    | 70/119 [00:10<00:06,  8.13it/s]Query: I need to book a bus ticket and know refund policy before payment.\n",
      "Predicted: Information Request\n",
      "Verdict: NO\n",
      "\n",
      "Average Metric: 64.00 / 72 (88.9%):  61%|██████    | 72/119 [00:11<00:06,  6.84it/s]Query: Is it possible to book a flight from Lahore to Karachi and then have its refund 2 days later?\n",
      "Predicted: Query\n",
      "Verdict: YES\n",
      "\n",
      "Query: Show movie tickets in Lahore today\n",
      "Predicted: Information Request\n",
      "Verdict: NO\n",
      "\n",
      "Query: Check buses from Faisalabad to Multan tonight\n",
      "Predicted: Travel Information\n",
      "Verdict: YES\n",
      "\n",
      "Average Metric: 66.00 / 75 (88.0%):  62%|██████▏   | 74/119 [00:11<00:07,  5.75it/s]Query: Show flights Karachi to Doha this week with cancellation policy.\n",
      "Predicted: Travel Information\n",
      "Verdict: YES\n",
      "\n",
      "Query: Show bus timings from Lahore to Faisalabad tonight\n",
      "Predicted: Informational\n",
      "Verdict: NO\n",
      "\n",
      "Query: How to redeem a voucher code?\n",
      "Predicted: Informational\n",
      "Verdict: YES\n",
      "\n",
      "Average Metric: 68.00 / 78 (87.2%):  65%|██████▍   | 77/119 [00:12<00:07,  5.40it/s]Query: Find me cheap flights to Dubai and tell me luggage limit.\n",
      "Predicted: Travel Information\n",
      "Verdict: YES\n",
      "\n",
      "Average Metric: 69.00 / 79 (87.3%):  66%|██████▋   | 79/119 [00:12<00:06,  6.36it/s]Query: Find me hotel in Islamabad today and tell me if free cancellation available.\n",
      "Predicted: Travel Booking Query\n",
      "Verdict: YES\n",
      "\n",
      "Query: Show me flights from Lahore to Dubai tomorrow\n",
      "Predicted: Travel Information\n",
      "Verdict: YES\n",
      "\n",
      "Query: Does Bookme offer cashback?\n",
      "Predicted: Informational\n",
      "Verdict: YES\n",
      "\n",
      "Average Metric: 70.00 / 80 (87.5%):  66%|██████▋   | 79/119 [00:12<00:06,  6.36it/s]Query: Show me hotels in Lahore for tonight\n",
      "Predicted: Travel Information\n",
      "Verdict: YES\n",
      "\n",
      "Query: List hotels in Swat for next weekend\n",
      "Predicted: Travel Information\n",
      "Verdict: YES\n",
      "\n",
      "Query: Can I pay with EasyPaisa?\n",
      "Predicted: Payment Method\n",
      "Verdict: YES\n",
      "\n",
      "Average Metric: 75.00 / 85 (88.2%):  71%|███████   | 84/119 [00:12<00:06,  5.04it/s]Query: Can I book an event ticket and cancel later for refund?\n",
      "Predicted: Booking and Cancellation Policy\n",
      "Verdict: YES\n",
      "\n",
      "Query: Does Bookme have a mobile app?\n",
      "Predicted: Informational\n",
      "Verdict: YES\n",
      "\n",
      "Query: Does Bookme support PayPal?\n",
      "Predicted: Informational\n",
      "Verdict: YES\n",
      "\n",
      "Query: Check flights from Islamabad to Riyadh next week\n",
      "Predicted: Travel Information\n",
      "Verdict: YES\n",
      "\n",
      "Query: Show flights from Lahore to Dubai next Monday\n",
      "Predicted: Flight Query\n",
      "Verdict: YES\n",
      "\n",
      "Query: Search hotels in Karachi for next Friday\n",
      "Predicted: Travel/Booking\n",
      "Verdict: YES\n",
      "\n",
      "Average Metric: 81.00 / 91 (89.0%):  76%|███████▌  | 90/119 [00:13<00:03,  8.20it/s]Query: Book me a hotel in Islamabad for tomorrow and tell me check-in policy.\n",
      "Predicted: Booking Request\n",
      "Verdict: NO\n",
      "\n",
      "Average Metric: 81.00 / 92 (88.0%):  77%|███████▋  | 92/119 [00:13<00:02,  9.49it/s]Query: Check buses from Islamabad to Abbottabad today and tell me refund policy.\n",
      "Predicted: Travel Information\n",
      "Verdict: YES\n",
      "\n",
      "Query: Find hotels in Karachi near airport tonight\n",
      "Predicted: Travel\n",
      "Verdict: NO\n",
      "\n",
      "Query: How do I reset my password?\n",
      "Predicted: Password Reset\n",
      "Verdict: YES\n",
      "\n",
      "Query: Can I change my seat after booking?\n",
      "Predicted: Informational\n",
      "Verdict: YES\n",
      "\n",
      "Average Metric: 84.00 / 96 (87.5%):  80%|███████▉  | 95/119 [00:14<00:03,  7.79it/s]Query: Book me a flight from Karachi to Muscat tomorrow and tell me hand carry limit.\n",
      "Predicted: Travel Query\n",
      "Verdict: YES\n",
      "\n",
      "Average Metric: 85.00 / 97 (87.6%):  82%|████████▏ | 97/119 [00:14<00:02,  7.90it/s]Query: How can I cancel my hotel booking made on Bookme.pk?\n",
      "Predicted: Customer Support\n",
      "Verdict: YES\n",
      "\n",
      "Query: How do I create an account on Bookme?\n",
      "Predicted: Informational\n",
      "Verdict: YES\n",
      "\n",
      "Query: How do I update my profile information?\n",
      "Predicted: FAQ\n",
      "Verdict: YES\n",
      "\n",
      "Average Metric: 86.00 / 98 (87.8%):  82%|████████▏ | 97/119 [00:15<00:02,  7.90it/s]Query: How to book a hotel on Bookme?\n",
      "Predicted: Informational\n",
      "Verdict: YES\n",
      "\n",
      "Query: List buses from Lahore to Islamabad tomorrow night\n",
      "Predicted: Travel Information\n",
      "Verdict: YES\n",
      "\n",
      "Average Metric: 90.00 / 102 (88.2%):  85%|████████▍ | 101/119 [00:15<00:03,  5.62it/s]Query: Find flights from Karachi to Singapore and tell me cancellation charges.\n",
      "Predicted: Travel Information\n",
      "Verdict: YES\n",
      "\n",
      "Query: Can I book cricket tickets on Bookme?\n",
      "Predicted: Informational\n",
      "Verdict: YES\n",
      "\n",
      "Average Metric: 92.00 / 104 (88.5%):  87%|████████▋ | 103/119 [00:15<00:02,  7.84it/s]Query: Can I get cashback if I book flight tickets through Bookme.pk?\n",
      "Predicted: Informational\n",
      "Verdict: YES\n",
      "\n",
      "Average Metric: 93.00 / 105 (88.6%):  88%|████████▊ | 105/119 [00:15<00:02,  6.33it/s]Query: Can I cancel my flight ticket and get a full refund within 24 hours?\n",
      "Predicted: Travel/Aviation\n",
      "Verdict: NO\n",
      "\n",
      "Query: How to use my wallet balance?\n",
      "Predicted: Informational\n",
      "Verdict: YES\n",
      "\n",
      "Query: List events in Karachi this weekend\n",
      "Predicted: Informational\n",
      "Verdict: YES\n",
      "\n",
      "Query: Find flights from Islamabad to Jeddah next month\n",
      "Predicted: Travel\n",
      "Verdict: NO\n",
      "\n",
      "Average Metric: 95.00 / 109 (87.2%):  91%|█████████ | 108/119 [00:16<00:02,  4.96it/s]Query: Can I book a bus ticket from Islamabad to Peshawar and get refund if I cancel?\n",
      "Predicted: Booking/Refund Inquiry\n",
      "Verdict: YES\n",
      "\n",
      "Query: Are there any buses from Islamabad to Multan today?\n",
      "Predicted: Informational\n",
      "Verdict: YES\n",
      "\n",
      "Average Metric: 97.00 / 111 (87.4%):  92%|█████████▏| 110/119 [00:16<00:01,  6.47it/s]Query: Show me hotels in Skardu with breakfast included and free cancellation.\n",
      "Predicted: Hotel Search Query\n",
      "Verdict: YES\n",
      "\n",
      "Query: How to check event schedules?\n",
      "Predicted: Informational\n",
      "Verdict: YES\n",
      "\n",
      "Average Metric: 99.00 / 113 (87.6%):  94%|█████████▍| 112/119 [00:17<00:01,  5.57it/s]Query: Check flights to Dubai from Karachi tomorrow and tell me fare rules.\n",
      "Predicted: Travel Information\n",
      "Verdict: YES\n",
      "\n",
      "Query: Check flights from Lahore to Kuala Lumpur this week\n",
      "Predicted: Travel Information\n",
      "Verdict: YES\n",
      "\n",
      "Average Metric: 101.00 / 115 (87.8%):  96%|█████████▌| 114/119 [00:17<00:00,  5.27it/s]Query: Can I book a bus seat and later change it to another seat?\n",
      "Predicted: Informational\n",
      "Verdict: NO\n",
      "\n",
      "Query: Check flights from Lahore to Doha next week\n",
      "Predicted: Travel Information\n",
      "Verdict: YES\n",
      "\n",
      "Query: Find me cheap flights to Dubai from Karachi\n",
      "Predicted: Travel\n",
      "Verdict: NO\n",
      "\n",
      "Average Metric: 102.00 / 118 (86.4%):  98%|█████████▊| 117/119 [00:18<00:00,  4.85it/s]Query: Can I cancel train tickets booked via Bookme.pk?\n",
      "Predicted: Informational\n",
      "Verdict: YES\n",
      "\n",
      "Average Metric: 103.00 / 119 (86.6%): 100%|██████████| 119/119 [00:18<00:00,  6.37it/s]"
     ]
    },
    {
     "name": "stderr",
     "output_type": "stream",
     "text": [
      "2025/07/23 16:42:39 INFO dspy.evaluate.evaluate: Average Metric: 103 / 119 (86.6%)\n"
     ]
    },
    {
     "name": "stdout",
     "output_type": "stream",
     "text": [
      "\n",
      "New best score: 86.55 for seed -3\n",
      "Scores so far: [86.55]\n",
      "Best score so far: 86.55\n",
      "  0%|          | 0/119 [00:00<?, ?it/s]Query: Can I use Bookme without an account?\n",
      "Predicted: static\n",
      "Verdict: YES\n",
      "\n",
      "Average Metric: 1.00 / 1 (100.0%):   1%|          | 1/119 [00:01<02:42,  1.38s/it]Query: Search flights from Lahore to Istanbul this month\n",
      "Predicted: api\n",
      "Verdict: YES\n",
      "\n",
      "Average Metric: 2.00 / 2 (100.0%):   2%|▏         | 2/119 [00:02<01:58,  1.01s/it]Query: Show flights from Karachi to Doha next week with refund option.\n",
      "Predicted: api\n",
      "Verdict: YES\n",
      "\n",
      "Average Metric: 3.00 / 3 (100.0%):   3%|▎         | 3/119 [00:03<02:04,  1.08s/it]Query: Find buses from Islamabad to Peshawar tonight\n",
      "Predicted: api\n",
      "Verdict: YES\n",
      "\n",
      "Average Metric: 4.00 / 4 (100.0%):   3%|▎         | 4/119 [00:03<01:30,  1.27it/s]Query: Check flights from Karachi to Muscat tomorrow\n",
      "Predicted: api\n",
      "Verdict: YES\n",
      "\n",
      "Average Metric: 5.00 / 5 (100.0%):   4%|▍         | 5/119 [00:04<01:47,  1.06it/s]Query: How can I know if my booking is confirmed?\n",
      "Predicted: static\n",
      "Verdict: YES\n",
      "\n",
      "Average Metric: 6.00 / 6 (100.0%):   5%|▌         | 6/119 [00:05<01:38,  1.15it/s]Query: Check buses from Rawalpindi to Murree today\n",
      "Predicted: api\n",
      "Verdict: YES\n",
      "\n",
      "Average Metric: 7.00 / 7 (100.0%):   6%|▌         | 7/119 [00:07<01:57,  1.05s/it]Query: Book a hotel in Murree for upcoming Friday with free cancellation.\n",
      "Predicted: api\n",
      "Verdict: YES\n",
      "\n",
      "Average Metric: 8.00 / 8 (100.0%):   7%|▋         | 8/119 [00:07<01:38,  1.13it/s]Query: Search hotels in Skardu for next weekend\n",
      "Predicted: api\n",
      "Verdict: YES\n",
      "\n",
      "Average Metric: 9.00 / 9 (100.0%):   8%|▊         | 9/119 [00:08<01:34,  1.17it/s]Query: Find flights from Islamabad to Dubai this Friday\n",
      "Predicted: api\n",
      "Verdict: YES\n",
      "\n",
      "Average Metric: 10.00 / 10 (100.0%):   8%|▊         | 10/119 [00:09<01:39,  1.09it/s]Query: Find me hotels in Karachi tonight with free cancellation.\n",
      "Predicted: api\n",
      "Verdict: YES\n",
      "\n",
      "Average Metric: 11.00 / 11 (100.0%):   9%|▉         | 11/119 [00:10<01:32,  1.17it/s]Query: How can I contact Bookme support?\n",
      "Predicted: static\n",
      "Verdict: YES\n",
      "\n",
      "Average Metric: 12.00 / 12 (100.0%):  10%|█         | 12/119 [00:10<01:24,  1.27it/s]Query: Where is Bookme.pk headquartered?\n",
      "Predicted: static\n",
      "Verdict: YES\n",
      "\n",
      "Average Metric: 13.00 / 13 (100.0%):  11%|█         | 13/119 [00:11<01:16,  1.38it/s]Query: What payment methods are accepted?\n",
      "Predicted: static\n",
      "Verdict: YES\n",
      "\n",
      "Average Metric: 14.00 / 14 (100.0%):  12%|█▏        | 14/119 [00:12<01:16,  1.37it/s]Query: Is there a loyalty program for bus tickets?\n",
      "Predicted: static\n",
      "Verdict: YES\n",
      "\n",
      "Average Metric: 15.00 / 15 (100.0%):  13%|█▎        | 15/119 [00:12<01:12,  1.44it/s]Query: List buses from Lahore to Sialkot tomorrow morning\n",
      "Predicted: api\n",
      "Verdict: YES\n",
      "\n",
      "Average Metric: 16.00 / 16 (100.0%):  13%|█▎        | 16/119 [00:13<01:25,  1.21it/s]Query: Find bus from Multan to Faisalabad tonight\n",
      "Predicted: api\n",
      "Verdict: YES\n",
      "\n",
      "Average Metric: 17.00 / 17 (100.0%):  14%|█▍        | 17/119 [00:15<01:36,  1.06it/s]Query: Show flights from Lahore to Istanbul next month and refund options.\n",
      "Predicted: api\n",
      "Verdict: YES\n",
      "\n",
      "Average Metric: 18.00 / 18 (100.0%):  15%|█▌        | 18/119 [00:15<01:24,  1.20it/s]Query: I need a hotel in Karachi tonight, can I cancel if plans change?\n",
      "Predicted: static\n",
      "Verdict: YES\n",
      "\n",
      "Average Metric: 19.00 / 19 (100.0%):  16%|█▌        | 19/119 [00:17<01:54,  1.15s/it]Query: Show available hotels in Karachi for tonight\n",
      "Predicted: api\n",
      "Verdict: YES\n",
      "\n",
      "Average Metric: 20.00 / 20 (100.0%):  17%|█▋        | 20/119 [00:18<01:47,  1.08s/it]"
     ]
    },
    {
     "name": "stderr",
     "output_type": "stream",
     "text": [
      "2025/07/23 16:43:06 WARNING dspy.adapters.json_adapter: Failed to use structured output format, falling back to JSON mode.\n",
      "2025/07/23 16:43:08 WARNING dspy.adapters.json_adapter: Failed to use structured output format, falling back to JSON mode.\n"
     ]
    },
    {
     "name": "stdout",
     "output_type": "stream",
     "text": [
      "Query: Is there any referral program?\n",
      "Predicted: static\n",
      "Verdict: YES\n",
      "\n",
      "Average Metric: 21.00 / 21 (100.0%):  18%|█▊        | 21/119 [00:29<06:44,  4.13s/it]Query: Check flights from Lahore to Kuala Lumpur and baggage policy.\n",
      "Predicted: api\n",
      "Verdict: YES\n",
      "\n",
      "Average Metric: 22.00 / 22 (100.0%):  18%|█▊        | 22/119 [00:31<05:35,  3.45s/it]Query: Does Bookme offer discounts on flights?\n",
      "Predicted: static\n",
      "Verdict: YES\n",
      "\n",
      "Average Metric: 23.00 / 23 (100.0%):  18%|█▊        | 22/119 [00:31<05:35,  3.45s/it]"
     ]
    },
    {
     "name": "stderr",
     "output_type": "stream",
     "text": [
      "2025/07/23 16:43:24 WARNING dspy.adapters.json_adapter: Failed to use structured output format, falling back to JSON mode.\n",
      "2025/07/23 16:43:25 WARNING dspy.adapters.json_adapter: Failed to use structured output format, falling back to JSON mode.\n"
     ]
    },
    {
     "name": "stdout",
     "output_type": "stream",
     "text": [
      "Query: Is it possible to book movie tickets and cancel them later?\n",
      "Predicted: static\n",
      "Verdict: YES\n",
      "\n",
      "Average Metric: 24.00 / 24 (100.0%):  20%|██        | 24/119 [00:46<08:30,  5.37s/it]Query: Can I book a bus ticket from Multan to Faisalabad for tonight and get refund if not used?\n",
      "Predicted: api\n",
      "Verdict: YES\n",
      "\n",
      "Average Metric: 25.00 / 25 (100.0%):  21%|██        | 25/119 [00:47<06:37,  4.23s/it]Query: Can I pay for hotel booking via JazzCash and get refund in same account?\n",
      "Predicted: static\n",
      "Verdict: YES\n",
      "\n",
      "Average Metric: 26.00 / 26 (100.0%):  22%|██▏       | 26/119 [00:49<05:29,  3.54s/it]Query: How can I get a refund for my booked flight ticket from Bookme?\n",
      "Predicted: static\n",
      "Verdict: YES\n",
      "\n",
      "Average Metric: 27.00 / 27 (100.0%):  23%|██▎       | 27/119 [00:49<04:00,  2.61s/it]Query: How to deactivate notifications?\n",
      "Predicted: static\n",
      "Verdict: YES\n",
      "\n",
      "Average Metric: 28.00 / 28 (100.0%):  24%|██▎       | 28/119 [00:54<04:58,  3.28s/it]Query: Find me flights from Karachi to Dubai and tell me if they are refundable.\n",
      "Predicted: api\n",
      "Verdict: YES\n",
      "\n",
      "Average Metric: 29.00 / 29 (100.0%):  24%|██▍       | 29/119 [00:58<05:18,  3.54s/it]Query: Can I pay using JazzCash?\n",
      "Predicted: static\n",
      "Verdict: YES\n",
      "\n",
      "Average Metric: 30.00 / 30 (100.0%):  25%|██▌       | 30/119 [01:03<05:54,  3.99s/it]"
     ]
    },
    {
     "name": "stderr",
     "output_type": "stream",
     "text": [
      "2025/07/23 16:43:43 WARNING dspy.adapters.json_adapter: Failed to use structured output format, falling back to JSON mode.\n"
     ]
    },
    {
     "name": "stdout",
     "output_type": "stream",
     "text": [
      "Query: Does Bookme sell event tickets?\n",
      "Predicted: static\n",
      "Verdict: YES\n",
      "\n",
      "Average Metric: 31.00 / 31 (100.0%):  26%|██▌       | 31/119 [01:05<05:01,  3.42s/it]Query: Where can I see my e-tickets?\n",
      "Predicted: static\n",
      "Verdict: YES\n",
      "\n",
      "Average Metric: 32.00 / 32 (100.0%):  27%|██▋       | 32/119 [01:06<03:48,  2.63s/it]"
     ]
    },
    {
     "name": "stderr",
     "output_type": "stream",
     "text": [
      "2025/07/23 16:43:54 WARNING dspy.adapters.json_adapter: Failed to use structured output format, falling back to JSON mode.\n",
      "2025/07/23 16:43:55 WARNING dspy.adapters.json_adapter: Failed to use structured output format, falling back to JSON mode.\n"
     ]
    },
    {
     "name": "stdout",
     "output_type": "stream",
     "text": [
      "Query: Find hotels in Islamabad for next week\n",
      "Predicted: api\n",
      "Verdict: YES\n",
      "\n",
      "Average Metric: 33.00 / 33 (100.0%):  28%|██▊       | 33/119 [01:16<07:00,  4.89s/it]Query: Is there a customer care number?\n",
      "Predicted: static\n",
      "Verdict: YES\n",
      "\n",
      "Average Metric: 34.00 / 34 (100.0%):  29%|██▊       | 34/119 [01:16<05:03,  3.58s/it]Query: How to check loyalty tier status?\n",
      "Predicted: static\n",
      "Verdict: YES\n",
      "\n",
      "Average Metric: 35.00 / 35 (100.0%):  29%|██▉       | 35/119 [01:17<03:52,  2.77s/it]"
     ]
    },
    {
     "name": "stderr",
     "output_type": "stream",
     "text": [
      "2025/07/23 16:44:09 WARNING dspy.adapters.json_adapter: Failed to use structured output format, falling back to JSON mode.\n",
      "2025/07/23 16:44:10 WARNING dspy.adapters.json_adapter: Failed to use structured output format, falling back to JSON mode.\n"
     ]
    },
    {
     "name": "stdout",
     "output_type": "stream",
     "text": [
      "Query: Find me hotels in Murree for this weekend\n",
      "Predicted: api\n",
      "Verdict: YES\n",
      "\n",
      "Average Metric: 36.00 / 36 (100.0%):  30%|███       | 36/119 [01:33<09:04,  6.56s/it]Query: Can I reserve a hotel in Naran for next week and cancel later without charges?\n",
      "Predicted: api\n",
      "Verdict: YES\n",
      "\n",
      "Average Metric: 37.00 / 37 (100.0%):  31%|███       | 37/119 [01:33<06:31,  4.78s/it]Query: How to subscribe to Bookme newsletter?\n",
      "Predicted: static\n",
      "Verdict: YES\n",
      "\n",
      "Average Metric: 38.00 / 38 (100.0%):  32%|███▏      | 38/119 [01:34<04:56,  3.66s/it]Query: What are Bookme loyalty rewards?\n",
      "Predicted: static\n",
      "Verdict: YES\n",
      "\n",
      "Average Metric: 39.00 / 39 (100.0%):  33%|███▎      | 39/119 [01:35<03:39,  2.74s/it]"
     ]
    },
    {
     "name": "stderr",
     "output_type": "stream",
     "text": [
      "2025/07/23 16:44:25 WARNING dspy.adapters.json_adapter: Failed to use structured output format, falling back to JSON mode.\n",
      "2025/07/23 16:44:27 WARNING dspy.adapters.json_adapter: Failed to use structured output format, falling back to JSON mode.\n"
     ]
    },
    {
     "name": "stdout",
     "output_type": "stream",
     "text": [
      "Query: What are the timings for customer support?\n",
      "Predicted: static\n",
      "Verdict: YES\n",
      "\n",
      "Average Metric: 40.00 / 40 (100.0%):  34%|███▎      | 40/119 [01:47<07:23,  5.62s/it]Query: List flights from Karachi to Colombo next week\n",
      "Predicted: api\n",
      "Verdict: YES\n",
      "\n",
      "Average Metric: 41.00 / 41 (100.0%):  34%|███▍      | 41/119 [01:49<05:40,  4.37s/it]Query: Can I change passenger name after booking flight from Bookme?\n",
      "Predicted: static\n",
      "Verdict: YES\n",
      "\n",
      "Average Metric: 42.00 / 42 (100.0%):  35%|███▌      | 42/119 [01:49<04:09,  3.24s/it]Query: What is the cancellation policy for flights?\n",
      "Predicted: static\n",
      "Verdict: YES\n",
      "\n",
      "Average Metric: 43.00 / 43 (100.0%):  36%|███▌      | 43/119 [01:55<04:52,  3.85s/it]Query: Find hotels in Gilgit for upcoming weekend\n",
      "Predicted: api\n",
      "Verdict: YES\n",
      "\n",
      "Average Metric: 44.00 / 44 (100.0%):  37%|███▋      | 44/119 [01:55<03:24,  2.72s/it]"
     ]
    },
    {
     "name": "stderr",
     "output_type": "stream",
     "text": [
      "2025/07/23 16:44:45 WARNING dspy.adapters.json_adapter: Failed to use structured output format, falling back to JSON mode.\n",
      "2025/07/23 16:44:46 WARNING dspy.adapters.json_adapter: Failed to use structured output format, falling back to JSON mode.\n"
     ]
    },
    {
     "name": "stdout",
     "output_type": "stream",
     "text": [
      "Query: List buses Lahore to Rawalpindi today\n",
      "Predicted: api\n",
      "Verdict: YES\n",
      "\n",
      "Average Metric: 45.00 / 45 (100.0%):  38%|███▊      | 45/119 [02:07<06:55,  5.61s/it]Query: How to check my booking history?\n",
      "Predicted: static\n",
      "Verdict: YES\n",
      "\n",
      "Average Metric: 46.00 / 46 (100.0%):  39%|███▊      | 46/119 [02:08<04:54,  4.03s/it]Query: Can I cancel flight booked from Bookme and get refund in my wallet?\n",
      "Predicted: static\n",
      "Verdict: YES\n",
      "\n",
      "Average Metric: 47.00 / 47 (100.0%):  39%|███▉      | 47/119 [02:11<04:36,  3.84s/it]Query: I need bus tickets Lahore to Rawalpindi today and refund details.\n",
      "Predicted: api\n",
      "Verdict: YES\n",
      "\n",
      "Average Metric: 48.00 / 48 (100.0%):  40%|████      | 48/119 [02:13<03:57,  3.35s/it]Query: Show me Lahore to Multan buses tomorrow morning and their refund policy.\n",
      "Predicted: api\n",
      "Verdict: YES\n",
      "\n",
      "Average Metric: 49.00 / 49 (100.0%):  41%|████      | 49/119 [02:19<04:56,  4.23s/it]"
     ]
    },
    {
     "name": "stderr",
     "output_type": "stream",
     "text": [
      "2025/07/23 16:45:02 WARNING dspy.adapters.json_adapter: Failed to use structured output format, falling back to JSON mode.\n"
     ]
    },
    {
     "name": "stdout",
     "output_type": "stream",
     "text": [
      "Query: List hotels in Murree for upcoming Friday\n",
      "Predicted: api\n",
      "Verdict: YES\n",
      "\n",
      "Average Metric: 50.00 / 50 (100.0%):  42%|████▏     | 50/119 [02:23<04:30,  3.92s/it]Query: Show bus from Karachi to Hyderabad today\n",
      "Predicted: api\n",
      "Verdict: YES\n",
      "\n",
      "Average Metric: 51.00 / 51 (100.0%):  43%|████▎     | 51/119 [02:23<03:22,  2.98s/it]"
     ]
    },
    {
     "name": "stderr",
     "output_type": "stream",
     "text": [
      "2025/07/23 16:45:13 WARNING dspy.adapters.json_adapter: Failed to use structured output format, falling back to JSON mode.\n",
      "2025/07/23 16:45:14 WARNING dspy.adapters.json_adapter: Failed to use structured output format, falling back to JSON mode.\n"
     ]
    },
    {
     "name": "stdout",
     "output_type": "stream",
     "text": [
      "Query: Show me Lahore to Multan buses tomorrow morning\n",
      "Predicted: api\n",
      "Verdict: YES\n",
      "\n",
      "Average Metric: 52.00 / 52 (100.0%):  44%|████▎     | 52/119 [02:36<06:27,  5.78s/it]Query: I want to book a flight from Karachi to Bangkok, what is the baggage allowance?\n",
      "Predicted: api\n",
      "Verdict: YES\n",
      "\n",
      "Average Metric: 53.00 / 53 (100.0%):  45%|████▍     | 53/119 [02:36<04:30,  4.10s/it]Query: How can I cancel my bus ticket?\n",
      "Predicted: static\n",
      "Verdict: YES\n",
      "\n",
      "Average Metric: 54.00 / 54 (100.0%):  45%|████▌     | 54/119 [02:39<04:02,  3.72s/it]Query: Can I change flight date after booking on Bookme.pk?\n",
      "Predicted: static\n",
      "Verdict: YES\n",
      "\n",
      "Average Metric: 55.00 / 55 (100.0%):  46%|████▌     | 55/119 [02:42<03:40,  3.44s/it]Query: Can I book movie tickets through Bookme?\n",
      "Predicted: static\n",
      "Verdict: YES\n",
      "\n",
      "Average Metric: 56.00 / 56 (100.0%):  47%|████▋     | 56/119 [02:47<04:15,  4.05s/it]"
     ]
    },
    {
     "name": "stderr",
     "output_type": "stream",
     "text": [
      "2025/07/23 16:45:29 WARNING dspy.adapters.json_adapter: Failed to use structured output format, falling back to JSON mode.\n"
     ]
    },
    {
     "name": "stdout",
     "output_type": "stream",
     "text": [
      "Query: How can I share my booking with someone?\n",
      "Predicted: static\n",
      "Verdict: YES\n",
      "\n",
      "Average Metric: 57.00 / 57 (100.0%):  48%|████▊     | 57/119 [02:51<04:06,  3.97s/it]Query: Check flights from Karachi to Dubai on 25th July\n",
      "Predicted: api\n",
      "Verdict: YES\n",
      "\n",
      "Average Metric: 58.00 / 58 (100.0%):  49%|████▊     | 58/119 [02:51<02:59,  2.94s/it]"
     ]
    },
    {
     "name": "stderr",
     "output_type": "stream",
     "text": [
      "2025/07/23 16:45:41 WARNING dspy.adapters.json_adapter: Failed to use structured output format, falling back to JSON mode.\n",
      "2025/07/23 16:45:42 WARNING dspy.adapters.json_adapter: Failed to use structured output format, falling back to JSON mode.\n"
     ]
    },
    {
     "name": "stdout",
     "output_type": "stream",
     "text": [
      "Query: Is there any student discount?\n",
      "Predicted: static\n",
      "Verdict: YES\n",
      "\n",
      "Average Metric: 59.00 / 59 (100.0%):  50%|████▉     | 59/119 [03:03<05:42,  5.71s/it]Query: List hotels in Naran for upcoming weekend\n",
      "Predicted: api\n",
      "Verdict: YES\n",
      "\n",
      "Average Metric: 60.00 / 60 (100.0%):  50%|█████     | 60/119 [03:04<04:13,  4.29s/it]Query: I want to book a hotel in Lahore, does it allow early check-in?\n",
      "Predicted: static\n",
      "Verdict: YES\n",
      "\n",
      "Average Metric: 61.00 / 61 (100.0%):  51%|█████▏    | 61/119 [03:06<03:17,  3.41s/it]Query: Does Bookme charge any service fee?\n",
      "Predicted: static\n",
      "Verdict: YES\n",
      "\n",
      "Average Metric: 62.00 / 62 (100.0%):  52%|█████▏    | 62/119 [03:06<02:19,  2.44s/it]"
     ]
    },
    {
     "name": "stderr",
     "output_type": "stream",
     "text": [
      "2025/07/23 16:45:55 WARNING dspy.adapters.json_adapter: Failed to use structured output format, falling back to JSON mode.\n",
      "2025/07/23 16:45:56 WARNING dspy.adapters.json_adapter: Failed to use structured output format, falling back to JSON mode.\n"
     ]
    },
    {
     "name": "stdout",
     "output_type": "stream",
     "text": [
      "Query: How can I delete my Bookme account?\n",
      "Predicted: static\n",
      "Verdict: YES\n",
      "\n",
      "Average Metric: 63.00 / 63 (100.0%):  53%|█████▎    | 63/119 [03:18<04:48,  5.15s/it]Query: How long does it take to receive refund?\n",
      "Predicted: static\n",
      "Verdict: YES\n",
      "\n",
      "Average Metric: 64.00 / 64 (100.0%):  54%|█████▍    | 64/119 [03:19<03:43,  4.07s/it]Query: Find bus Lahore to Bahawalpur tonight\n",
      "Predicted: api\n",
      "Verdict: YES\n",
      "\n",
      "Average Metric: 65.00 / 65 (100.0%):  54%|█████▍    | 64/119 [03:19<03:43,  4.07s/it]"
     ]
    },
    {
     "name": "stderr",
     "output_type": "stream",
     "text": [
      "2025/07/23 16:46:09 WARNING dspy.adapters.json_adapter: Failed to use structured output format, falling back to JSON mode.\n"
     ]
    },
    {
     "name": "stdout",
     "output_type": "stream",
     "text": [
      "Query: Can I book train tickets on Bookme?\n",
      "Predicted: static\n",
      "Verdict: YES\n",
      "\n",
      "Average Metric: 66.00 / 66 (100.0%):  55%|█████▌    | 66/119 [03:31<04:26,  5.04s/it]"
     ]
    },
    {
     "name": "stderr",
     "output_type": "stream",
     "text": [
      "2025/07/23 16:46:11 WARNING dspy.adapters.json_adapter: Failed to use structured output format, falling back to JSON mode.\n"
     ]
    },
    {
     "name": "stdout",
     "output_type": "stream",
     "text": [
      "Query: Find hotels in Muzaffarabad this week with refund facility.\n",
      "Predicted: api\n",
      "Verdict: YES\n",
      "\n",
      "Average Metric: 67.00 / 67 (100.0%):  56%|█████▋    | 67/119 [03:34<03:48,  4.39s/it]Query: Search flights from Karachi to Doha this week\n",
      "Predicted: api\n",
      "Verdict: YES\n",
      "\n",
      "Average Metric: 68.00 / 68 (100.0%):  56%|█████▋    | 67/119 [03:34<03:48,  4.39s/it]Query: Can I change email linked to my account?\n",
      "Predicted: static\n",
      "Verdict: YES\n",
      "\n",
      "Average Metric: 69.00 / 69 (100.0%):  58%|█████▊    | 69/119 [03:39<03:01,  3.64s/it]Query: Find buses from Islamabad to Abbottabad today\n",
      "Predicted: api\n",
      "Verdict: YES\n",
      "\n",
      "Average Metric: 70.00 / 70 (100.0%):  59%|█████▉    | 70/119 [03:40<02:26,  2.99s/it]"
     ]
    },
    {
     "name": "stderr",
     "output_type": "stream",
     "text": [
      "2025/07/23 16:46:29 WARNING dspy.adapters.json_adapter: Failed to use structured output format, falling back to JSON mode.\n"
     ]
    },
    {
     "name": "stdout",
     "output_type": "stream",
     "text": [
      "Query: I need to book a bus ticket and know refund policy before payment.\n",
      "Predicted: api\n",
      "Verdict: YES\n",
      "\n",
      "Average Metric: 71.00 / 71 (100.0%):  60%|█████▉    | 71/119 [03:52<04:10,  5.22s/it]"
     ]
    },
    {
     "name": "stderr",
     "output_type": "stream",
     "text": [
      "2025/07/23 16:46:32 WARNING dspy.adapters.json_adapter: Failed to use structured output format, falling back to JSON mode.\n"
     ]
    },
    {
     "name": "stdout",
     "output_type": "stream",
     "text": [
      "Query: Is it possible to book a flight from Lahore to Karachi and then have its refund 2 days later?\n",
      "Predicted: static\n",
      "Verdict: YES\n",
      "\n",
      "Average Metric: 72.00 / 72 (100.0%):  61%|██████    | 72/119 [03:54<03:28,  4.44s/it]Query: How to login if I forgot my password?\n",
      "Predicted: static\n",
      "Verdict: YES\n",
      "\n",
      "Average Metric: 73.00 / 73 (100.0%):  61%|██████    | 72/119 [03:54<03:28,  4.44s/it]Query: Show movie tickets in Lahore today\n",
      "Predicted: api\n",
      "Verdict: YES\n",
      "\n",
      "Average Metric: 74.00 / 74 (100.0%):  62%|██████▏   | 74/119 [03:59<02:46,  3.71s/it]Query: Show flights Karachi to Doha this week with cancellation policy.\n",
      "Predicted: api\n",
      "Verdict: YES\n",
      "\n",
      "Average Metric: 75.00 / 75 (100.0%):  63%|██████▎   | 75/119 [04:02<02:31,  3.45s/it]Query: Find me cheap flights to Dubai and tell me luggage limit.\n",
      "Predicted: api\n",
      "Verdict: YES\n",
      "\n",
      "Average Metric: 76.00 / 76 (100.0%):  64%|██████▍   | 76/119 [04:08<02:57,  4.14s/it]Query: Show bus timings from Lahore to Faisalabad tonight\n",
      "Predicted: api\n",
      "Verdict: YES\n",
      "\n",
      "Average Metric: 77.00 / 77 (100.0%):  65%|██████▍   | 77/119 [04:10<02:26,  3.49s/it]"
     ]
    },
    {
     "name": "stderr",
     "output_type": "stream",
     "text": [
      "2025/07/23 16:46:50 WARNING dspy.adapters.json_adapter: Failed to use structured output format, falling back to JSON mode.\n"
     ]
    },
    {
     "name": "stdout",
     "output_type": "stream",
     "text": [
      "Query: Check buses from Faisalabad to Multan tonight\n",
      "Predicted: api\n",
      "Verdict: YES\n",
      "\n",
      "Average Metric: 78.00 / 78 (100.0%):  66%|██████▌   | 78/119 [04:14<02:26,  3.58s/it]"
     ]
    },
    {
     "name": "stderr",
     "output_type": "stream",
     "text": [
      "2025/07/23 16:46:59 WARNING dspy.adapters.json_adapter: Failed to use structured output format, falling back to JSON mode.\n"
     ]
    },
    {
     "name": "stdout",
     "output_type": "stream",
     "text": [
      "Query: Find me hotel in Islamabad today and tell me if free cancellation available.\n",
      "Predicted: api\n",
      "Verdict: YES\n",
      "\n",
      "Average Metric: 79.00 / 79 (100.0%):  66%|██████▋   | 79/119 [04:20<02:52,  4.30s/it]Query: How to redeem a voucher code?\n",
      "Predicted: static\n",
      "Verdict: YES\n",
      "\n",
      "Average Metric: 80.00 / 80 (100.0%):  67%|██████▋   | 80/119 [04:22<02:27,  3.79s/it]Query: Can I book an event ticket and cancel later for refund?\n",
      "Predicted: static\n",
      "Verdict: YES\n",
      "\n",
      "Average Metric: 81.00 / 81 (100.0%):  68%|██████▊   | 81/119 [04:27<02:33,  4.04s/it]Query: Does Bookme offer cashback?\n",
      "Predicted: static\n",
      "Verdict: YES\n",
      "\n",
      "Average Metric: 82.00 / 82 (100.0%):  69%|██████▉   | 82/119 [04:30<02:18,  3.73s/it]"
     ]
    },
    {
     "name": "stderr",
     "output_type": "stream",
     "text": [
      "2025/07/23 16:47:10 WARNING dspy.adapters.json_adapter: Failed to use structured output format, falling back to JSON mode.\n"
     ]
    },
    {
     "name": "stdout",
     "output_type": "stream",
     "text": [
      "Query: Show me flights from Lahore to Dubai tomorrow\n",
      "Predicted: api\n",
      "Verdict: YES\n",
      "\n",
      "Average Metric: 83.00 / 83 (100.0%):  70%|██████▉   | 83/119 [04:34<02:15,  3.77s/it]Query: List hotels in Swat for next weekend\n",
      "Predicted: api\n",
      "Verdict: YES\n",
      "\n",
      "Average Metric: 84.00 / 84 (100.0%):  71%|███████   | 84/119 [04:39<02:26,  4.19s/it]"
     ]
    },
    {
     "name": "stderr",
     "output_type": "stream",
     "text": [
      "2025/07/23 16:47:19 WARNING dspy.adapters.json_adapter: Failed to use structured output format, falling back to JSON mode.\n"
     ]
    },
    {
     "name": "stdout",
     "output_type": "stream",
     "text": [
      "Query: Can I pay with EasyPaisa?\n",
      "Predicted: static\n",
      "Verdict: YES\n",
      "\n",
      "Average Metric: 85.00 / 85 (100.0%):  71%|███████▏  | 85/119 [04:42<02:12,  3.89s/it]Query: Show me hotels in Lahore for tonight\n",
      "Predicted: api\n",
      "Verdict: YES\n",
      "\n",
      "Average Metric: 86.00 / 86 (100.0%):  72%|███████▏  | 86/119 [04:42<01:31,  2.76s/it]"
     ]
    },
    {
     "name": "stderr",
     "output_type": "stream",
     "text": [
      "2025/07/23 16:47:31 WARNING dspy.adapters.json_adapter: Failed to use structured output format, falling back to JSON mode.\n"
     ]
    },
    {
     "name": "stdout",
     "output_type": "stream",
     "text": [
      "Query: Book me a hotel in Islamabad for tomorrow and tell me check-in policy.\n",
      "Predicted: api\n",
      "Verdict: YES\n",
      "\n",
      "Average Metric: 87.00 / 87 (100.0%):  73%|███████▎  | 87/119 [04:54<02:50,  5.32s/it]"
     ]
    },
    {
     "name": "stderr",
     "output_type": "stream",
     "text": [
      "2025/07/23 16:47:33 WARNING dspy.adapters.json_adapter: Failed to use structured output format, falling back to JSON mode.\n"
     ]
    },
    {
     "name": "stdout",
     "output_type": "stream",
     "text": [
      "Query: Does Bookme support PayPal?\n",
      "Predicted: static\n",
      "Verdict: YES\n",
      "\n",
      "Average Metric: 88.00 / 88 (100.0%):  74%|███████▍  | 88/119 [04:55<02:07,  4.12s/it]Query: Does Bookme have a mobile app?\n",
      "Predicted: static\n",
      "Verdict: YES\n",
      "\n",
      "Average Metric: 89.00 / 89 (100.0%):  75%|███████▍  | 89/119 [04:56<01:35,  3.18s/it]"
     ]
    },
    {
     "name": "stderr",
     "output_type": "stream",
     "text": [
      "2025/07/23 16:47:45 WARNING dspy.adapters.json_adapter: Failed to use structured output format, falling back to JSON mode.\n"
     ]
    },
    {
     "name": "stdout",
     "output_type": "stream",
     "text": [
      "Query: Check flights from Islamabad to Riyadh next week\n",
      "Predicted: api\n",
      "Verdict: YES\n",
      "\n",
      "Average Metric: 90.00 / 90 (100.0%):  76%|███████▌  | 90/119 [05:07<02:41,  5.56s/it]"
     ]
    },
    {
     "name": "stderr",
     "output_type": "stream",
     "text": [
      "2025/07/23 16:47:48 WARNING dspy.adapters.json_adapter: Failed to use structured output format, falling back to JSON mode.\n"
     ]
    },
    {
     "name": "stdout",
     "output_type": "stream",
     "text": [
      "Query: Search hotels in Karachi for next Friday\n",
      "Predicted: api\n",
      "Verdict: YES\n",
      "\n",
      "Average Metric: 91.00 / 91 (100.0%):  76%|███████▋  | 91/119 [05:09<02:05,  4.50s/it]Query: Show flights from Lahore to Dubai next Monday\n",
      "Predicted: api\n",
      "Verdict: YES\n",
      "\n",
      "Average Metric: 92.00 / 92 (100.0%):  77%|███████▋  | 92/119 [05:10<01:28,  3.29s/it]Query: Check buses from Islamabad to Abbottabad today and tell me refund policy.\n",
      "Predicted: api\n",
      "Verdict: YES\n",
      "\n",
      "Average Metric: 93.00 / 93 (100.0%):  78%|███████▊  | 93/119 [05:13<01:26,  3.33s/it]Query: Find hotels in Karachi near airport tonight\n",
      "Predicted: api\n",
      "Verdict: YES\n",
      "\n",
      "Average Metric: 94.00 / 94 (100.0%):  79%|███████▉  | 94/119 [05:19<01:46,  4.24s/it]"
     ]
    },
    {
     "name": "stderr",
     "output_type": "stream",
     "text": [
      "2025/07/23 16:47:59 WARNING dspy.adapters.json_adapter: Failed to use structured output format, falling back to JSON mode.\n"
     ]
    },
    {
     "name": "stdout",
     "output_type": "stream",
     "text": [
      "Query: How do I reset my password?\n",
      "Predicted: static\n",
      "Verdict: YES\n",
      "\n",
      "Average Metric: 95.00 / 95 (100.0%):  80%|███████▉  | 95/119 [05:22<01:32,  3.85s/it]Query: Book me a flight from Karachi to Muscat tomorrow and tell me hand carry limit.\n",
      "Predicted: api\n",
      "Verdict: YES\n",
      "\n",
      "Average Metric: 96.00 / 96 (100.0%):  81%|████████  | 96/119 [05:25<01:20,  3.50s/it]"
     ]
    },
    {
     "name": "stderr",
     "output_type": "stream",
     "text": [
      "2025/07/23 16:48:10 WARNING dspy.adapters.json_adapter: Failed to use structured output format, falling back to JSON mode.\n"
     ]
    },
    {
     "name": "stdout",
     "output_type": "stream",
     "text": [
      "Query: How can I cancel my hotel booking made on Bookme.pk?\n",
      "Predicted: static\n",
      "Verdict: YES\n",
      "\n",
      "Average Metric: 97.00 / 97 (100.0%):  82%|████████▏ | 97/119 [05:31<01:34,  4.28s/it]Query: Can I change my seat after booking?\n",
      "Predicted: static\n",
      "Verdict: YES\n",
      "\n",
      "Average Metric: 98.00 / 98 (100.0%):  82%|████████▏ | 98/119 [05:34<01:23,  3.99s/it]Query: Find flights from Karachi to Singapore and tell me cancellation charges.\n",
      "Predicted: api\n",
      "Verdict: YES\n",
      "\n",
      "Average Metric: 99.00 / 99 (100.0%):  83%|████████▎ | 99/119 [05:39<01:21,  4.09s/it]Query: How do I update my profile information?\n",
      "Predicted: static\n",
      "Verdict: YES\n",
      "\n",
      "Average Metric: 100.00 / 100 (100.0%):  84%|████████▍ | 100/119 [05:43<01:16,  4.02s/it]"
     ]
    },
    {
     "name": "stderr",
     "output_type": "stream",
     "text": [
      "2025/07/23 16:48:27 WARNING dspy.adapters.json_adapter: Failed to use structured output format, falling back to JSON mode.\n"
     ]
    },
    {
     "name": "stdout",
     "output_type": "stream",
     "text": [
      "Query: How to book a hotel on Bookme?\n",
      "Predicted: static\n",
      "Verdict: YES\n",
      "\n",
      "Average Metric: 101.00 / 101 (100.0%):  85%|████████▍ | 101/119 [05:48<01:18,  4.36s/it]Query: How do I create an account on Bookme?\n",
      "Predicted: static\n",
      "Verdict: YES\n",
      "\n",
      "Average Metric: 102.00 / 102 (100.0%):  86%|████████▌ | 102/119 [05:48<00:54,  3.22s/it]"
     ]
    },
    {
     "name": "stderr",
     "output_type": "stream",
     "text": [
      "2025/07/23 16:48:40 WARNING dspy.adapters.json_adapter: Failed to use structured output format, falling back to JSON mode.\n",
      "2025/07/23 16:48:41 WARNING dspy.adapters.json_adapter: Failed to use structured output format, falling back to JSON mode.\n"
     ]
    },
    {
     "name": "stdout",
     "output_type": "stream",
     "text": [
      "Query: List buses from Lahore to Islamabad tomorrow night\n",
      "Predicted: api\n",
      "Verdict: YES\n",
      "\n",
      "Average Metric: 103.00 / 103 (100.0%):  87%|████████▋ | 103/119 [06:02<01:43,  6.47s/it]Query: Can I book cricket tickets on Bookme?\n",
      "Predicted: static\n",
      "Verdict: YES\n",
      "\n",
      "Average Metric: 104.00 / 104 (100.0%):  87%|████████▋ | 104/119 [06:04<01:14,  4.99s/it]Query: Can I get cashback if I book flight tickets through Bookme.pk?\n",
      "Predicted: static\n",
      "Verdict: YES\n",
      "\n",
      "Average Metric: 105.00 / 105 (100.0%):  88%|████████▊ | 105/119 [06:04<00:50,  3.60s/it]Query: Can I cancel my flight ticket and get a full refund within 24 hours?\n",
      "Predicted: static\n",
      "Verdict: YES\n",
      "\n",
      "Average Metric: 106.00 / 106 (100.0%):  89%|████████▉ | 106/119 [06:08<00:45,  3.53s/it]Query: Can I book a bus ticket from Islamabad to Peshawar and get refund if I cancel?\n",
      "Predicted: static\n",
      "Verdict: YES\n",
      "\n",
      "Average Metric: 107.00 / 107 (100.0%):  90%|████████▉ | 107/119 [06:10<00:38,  3.17s/it]Query: List events in Karachi this weekend\n",
      "Predicted: api\n",
      "Verdict: YES\n",
      "\n",
      "Average Metric: 108.00 / 108 (100.0%):  91%|█████████ | 108/119 [06:16<00:43,  3.95s/it]"
     ]
    },
    {
     "name": "stderr",
     "output_type": "stream",
     "text": [
      "2025/07/23 16:48:58 WARNING dspy.adapters.json_adapter: Failed to use structured output format, falling back to JSON mode.\n"
     ]
    },
    {
     "name": "stdout",
     "output_type": "stream",
     "text": [
      "Query: Find flights from Islamabad to Jeddah next month\n",
      "Predicted: api\n",
      "Verdict: YES\n",
      "\n",
      "Average Metric: 109.00 / 109 (100.0%):  92%|█████████▏| 109/119 [06:19<00:37,  3.78s/it]Query: How to use my wallet balance?\n",
      "Predicted: static\n",
      "Verdict: YES\n",
      "\n",
      "Average Metric: 110.00 / 110 (100.0%):  92%|█████████▏| 110/119 [06:22<00:31,  3.48s/it]Query: Are there any buses from Islamabad to Multan today?\n",
      "Predicted: api\n",
      "Verdict: YES\n",
      "\n",
      "Average Metric: 111.00 / 111 (100.0%):  93%|█████████▎| 111/119 [06:27<00:32,  4.06s/it]"
     ]
    },
    {
     "name": "stderr",
     "output_type": "stream",
     "text": [
      "2025/07/23 16:49:10 WARNING dspy.adapters.json_adapter: Failed to use structured output format, falling back to JSON mode.\n"
     ]
    },
    {
     "name": "stdout",
     "output_type": "stream",
     "text": [
      "Query: Check flights to Dubai from Karachi tomorrow and tell me fare rules.\n",
      "Predicted: api\n",
      "Verdict: YES\n",
      "\n",
      "Average Metric: 112.00 / 112 (100.0%):  94%|█████████▍| 112/119 [06:31<00:28,  4.08s/it]Query: Show me hotels in Skardu with breakfast included and free cancellation.\n",
      "Predicted: api\n",
      "Verdict: YES\n",
      "\n",
      "Average Metric: 113.00 / 113 (100.0%):  95%|█████████▍| 113/119 [06:34<00:21,  3.52s/it]Query: Can I book a bus seat and later change it to another seat?\n",
      "Predicted: static\n",
      "Verdict: YES\n",
      "\n",
      "Average Metric: 114.00 / 114 (100.0%):  96%|█████████▌| 114/119 [06:40<00:22,  4.41s/it]"
     ]
    },
    {
     "name": "stderr",
     "output_type": "stream",
     "text": [
      "2025/07/23 16:49:22 WARNING dspy.adapters.json_adapter: Failed to use structured output format, falling back to JSON mode.\n"
     ]
    },
    {
     "name": "stdout",
     "output_type": "stream",
     "text": [
      "Query: Check flights from Lahore to Kuala Lumpur this week\n",
      "Predicted: api\n",
      "Verdict: YES\n",
      "Query: How to check event schedules?\n",
      "Predicted: static\n",
      "Verdict: YES\n",
      "\n",
      "\n",
      "Average Metric: 116.00 / 116 (100.0%):  97%|█████████▋| 115/119 [06:44<00:16,  4.23s/it]"
     ]
    },
    {
     "name": "stderr",
     "output_type": "stream",
     "text": [
      "2025/07/23 16:49:36 WARNING dspy.adapters.json_adapter: Failed to use structured output format, falling back to JSON mode.\n",
      "2025/07/23 16:49:37 WARNING dspy.adapters.json_adapter: Failed to use structured output format, falling back to JSON mode.\n"
     ]
    },
    {
     "name": "stdout",
     "output_type": "stream",
     "text": [
      "Query: Check flights from Lahore to Doha next week\n",
      "Predicted: api\n",
      "Verdict: YES\n",
      "\n",
      "Average Metric: 117.00 / 117 (100.0%):  98%|█████████▊| 117/119 [06:58<00:11,  5.56s/it]Query: Can I cancel train tickets booked via Bookme.pk?\n",
      "Predicted: static\n",
      "Verdict: YES\n",
      "\n",
      "Average Metric: 118.00 / 118 (100.0%):  99%|█████████▉| 118/119 [06:59<00:04,  4.51s/it]Query: Find me cheap flights to Dubai from Karachi\n",
      "Predicted: api\n",
      "Verdict: YES\n",
      "\n",
      "Average Metric: 119.00 / 119 (100.0%): 100%|██████████| 119/119 [07:00<00:00,  3.53s/it]"
     ]
    },
    {
     "name": "stderr",
     "output_type": "stream",
     "text": [
      "2025/07/23 16:49:39 INFO dspy.evaluate.evaluate: Average Metric: 119 / 119 (100.0%)\n"
     ]
    },
    {
     "name": "stdout",
     "output_type": "stream",
     "text": [
      "\n",
      "New best score: 100.0 for seed -2\n",
      "Scores so far: [86.55, 100.0]\n",
      "Best score so far: 100.0\n"
     ]
    },
    {
     "name": "stderr",
     "output_type": "stream",
     "text": [
      "  1%|          | 1/119 [00:02<05:13,  2.66s/it]"
     ]
    },
    {
     "name": "stdout",
     "output_type": "stream",
     "text": [
      "Query: Search flights from Lahore to Istanbul this month\n",
      "Predicted: api\n",
      "Verdict: YES\n",
      "\n"
     ]
    },
    {
     "name": "stderr",
     "output_type": "stream",
     "text": [
      "  3%|▎         | 3/119 [00:07<04:10,  2.16s/it]"
     ]
    },
    {
     "name": "stdout",
     "output_type": "stream",
     "text": [
      "Query: Can I use Bookme without an account?\n",
      "Predicted: static\n",
      "Verdict: YES\n",
      "\n",
      "Query: Show flights from Karachi to Doha next week with refund option.\n",
      "Predicted: api\n",
      "Verdict: YES\n",
      "\n",
      "Query: Find buses from Islamabad to Peshawar tonight\n",
      "Predicted: api\n",
      "Verdict: YES\n",
      "\n"
     ]
    },
    {
     "name": "stderr",
     "output_type": "stream",
     "text": [
      "  3%|▎         | 4/119 [00:07<03:37,  1.89s/it]\n"
     ]
    },
    {
     "name": "stdout",
     "output_type": "stream",
     "text": [
      "Bootstrapped 4 full traces after 4 examples for up to 1 rounds, amounting to 4 attempts.\n",
      "  0%|          | 0/119 [00:00<?, ?it/s]Query: Search flights from Lahore to Istanbul this month\n",
      "Predicted: api\n",
      "Verdict: YES\n",
      "\n",
      "Average Metric: 1.00 / 1 (100.0%):   1%|          | 1/119 [00:03<06:24,  3.26s/it]Query: Can I use Bookme without an account?\n",
      "Predicted: static\n",
      "Verdict: YES\n",
      "\n",
      "Average Metric: 2.00 / 2 (100.0%):   2%|▏         | 2/119 [00:04<03:38,  1.87s/it]"
     ]
    },
    {
     "name": "stderr",
     "output_type": "stream",
     "text": [
      "2025/07/23 16:50:01 WARNING dspy.adapters.json_adapter: Failed to use structured output format, falling back to JSON mode.\n",
      "2025/07/23 16:50:03 WARNING dspy.adapters.json_adapter: Failed to use structured output format, falling back to JSON mode.\n"
     ]
    },
    {
     "name": "stdout",
     "output_type": "stream",
     "text": [
      "Query: Show flights from Karachi to Doha next week with refund option.\n",
      "Predicted: api\n",
      "Verdict: YES\n",
      "\n",
      "Average Metric: 3.00 / 3 (100.0%):   3%|▎         | 3/119 [00:16<12:26,  6.43s/it]Query: Find buses from Islamabad to Peshawar tonight\n",
      "Predicted: api\n",
      "Verdict: YES\n",
      "\n",
      "Average Metric: 4.00 / 4 (100.0%):   3%|▎         | 4/119 [00:17<08:53,  4.64s/it]Query: Check flights from Karachi to Muscat tomorrow\n",
      "Predicted: api\n",
      "Verdict: YES\n",
      "\n",
      "Average Metric: 5.00 / 5 (100.0%):   4%|▍         | 5/119 [00:18<06:13,  3.28s/it]Query: How can I know if my booking is confirmed?\n",
      "Predicted: static\n",
      "Verdict: YES\n",
      "\n",
      "Average Metric: 6.00 / 6 (100.0%):   5%|▌         | 6/119 [00:19<04:26,  2.36s/it]"
     ]
    },
    {
     "name": "stderr",
     "output_type": "stream",
     "text": [
      "2025/07/23 16:50:15 WARNING dspy.adapters.json_adapter: Failed to use structured output format, falling back to JSON mode.\n"
     ]
    },
    {
     "name": "stdout",
     "output_type": "stream",
     "text": [
      "Query: Check buses from Rawalpindi to Murree today\n",
      "Predicted: api\n",
      "Verdict: YES\n",
      "\n",
      "Average Metric: 7.00 / 7 (100.0%):   6%|▌         | 7/119 [00:29<09:22,  5.02s/it]"
     ]
    },
    {
     "name": "stderr",
     "output_type": "stream",
     "text": [
      "2025/07/23 16:50:18 WARNING dspy.adapters.json_adapter: Failed to use structured output format, falling back to JSON mode.\n"
     ]
    },
    {
     "name": "stdout",
     "output_type": "stream",
     "text": [
      "Query: Search hotels in Skardu for next weekend\n",
      "Predicted: api\n",
      "Verdict: YES\n",
      "\n",
      "Average Metric: 8.00 / 8 (100.0%):   7%|▋         | 8/119 [00:31<07:14,  3.91s/it]Query: Book a hotel in Murree for upcoming Friday with free cancellation.\n",
      "Predicted: api\n",
      "Verdict: YES\n",
      "\n",
      "Average Metric: 9.00 / 9 (100.0%):   8%|▊         | 9/119 [00:34<06:35,  3.60s/it]Query: Find flights from Islamabad to Dubai this Friday\n",
      "Predicted: api\n",
      "Verdict: YES\n",
      "\n",
      "Average Metric: 10.00 / 10 (100.0%):   8%|▊         | 10/119 [00:34<04:52,  2.69s/it]"
     ]
    },
    {
     "name": "stderr",
     "output_type": "stream",
     "text": [
      "2025/07/23 16:50:31 WARNING dspy.adapters.json_adapter: Failed to use structured output format, falling back to JSON mode.\n"
     ]
    },
    {
     "name": "stdout",
     "output_type": "stream",
     "text": [
      "Query: Find me hotels in Karachi tonight with free cancellation.\n",
      "Predicted: api\n",
      "Verdict: YES\n",
      "\n",
      "Average Metric: 11.00 / 11 (100.0%):   9%|▉         | 11/119 [00:45<09:26,  5.25s/it]"
     ]
    },
    {
     "name": "stderr",
     "output_type": "stream",
     "text": [
      "2025/07/23 16:50:34 WARNING dspy.adapters.json_adapter: Failed to use structured output format, falling back to JSON mode.\n"
     ]
    },
    {
     "name": "stdout",
     "output_type": "stream",
     "text": [
      "Query: Where is Bookme.pk headquartered?\n",
      "Predicted: static\n",
      "Verdict: YES\n",
      "\n",
      "Average Metric: 12.00 / 12 (100.0%):  10%|█         | 12/119 [00:47<07:16,  4.08s/it]Query: How can I contact Bookme support?\n",
      "Predicted: static\n",
      "Verdict: YES\n",
      "\n",
      "Average Metric: 13.00 / 13 (100.0%):  11%|█         | 13/119 [00:48<05:31,  3.13s/it]"
     ]
    },
    {
     "name": "stderr",
     "output_type": "stream",
     "text": [
      "2025/07/23 16:50:45 WARNING dspy.adapters.json_adapter: Failed to use structured output format, falling back to JSON mode.\n"
     ]
    },
    {
     "name": "stdout",
     "output_type": "stream",
     "text": [
      "Query: What payment methods are accepted?\n",
      "Predicted: static\n",
      "Verdict: YES\n",
      "\n",
      "Average Metric: 14.00 / 14 (100.0%):  12%|█▏        | 14/119 [00:59<09:46,  5.58s/it]"
     ]
    },
    {
     "name": "stderr",
     "output_type": "stream",
     "text": [
      "2025/07/23 16:50:47 WARNING dspy.adapters.json_adapter: Failed to use structured output format, falling back to JSON mode.\n"
     ]
    },
    {
     "name": "stdout",
     "output_type": "stream",
     "text": [
      "Query: List buses from Lahore to Sialkot tomorrow morning\n",
      "Predicted: api\n",
      "Verdict: YES\n",
      "\n",
      "Average Metric: 15.00 / 15 (100.0%):  13%|█▎        | 15/119 [01:01<07:41,  4.44s/it]Query: Is there a loyalty program for bus tickets?\n",
      "Predicted: static\n",
      "Verdict: YES\n",
      "\n",
      "Average Metric: 16.00 / 16 (100.0%):  13%|█▎        | 16/119 [01:01<05:33,  3.24s/it]Query: Show flights from Lahore to Istanbul next month and refund options.\n",
      "Predicted: api\n",
      "Verdict: YES\n",
      "\n",
      "Average Metric: 17.00 / 17 (100.0%):  14%|█▍        | 17/119 [01:02<04:18,  2.53s/it]"
     ]
    },
    {
     "name": "stderr",
     "output_type": "stream",
     "text": [
      "2025/07/23 16:50:59 WARNING dspy.adapters.json_adapter: Failed to use structured output format, falling back to JSON mode.\n"
     ]
    },
    {
     "name": "stdout",
     "output_type": "stream",
     "text": [
      "Query: Find bus from Multan to Faisalabad tonight\n",
      "Predicted: api\n",
      "Verdict: YES\n",
      "\n",
      "Average Metric: 18.00 / 18 (100.0%):  15%|█▌        | 18/119 [01:13<08:23,  4.99s/it]"
     ]
    },
    {
     "name": "stderr",
     "output_type": "stream",
     "text": [
      "2025/07/23 16:51:01 WARNING dspy.adapters.json_adapter: Failed to use structured output format, falling back to JSON mode.\n"
     ]
    },
    {
     "name": "stdout",
     "output_type": "stream",
     "text": [
      "Query: Show available hotels in Karachi for tonight\n",
      "Predicted: api\n",
      "Verdict: YES\n",
      "\n",
      "Average Metric: 19.00 / 19 (100.0%):  16%|█▌        | 19/119 [01:15<07:04,  4.24s/it]Query: I need a hotel in Karachi tonight, can I cancel if plans change?\n",
      "Predicted: api\n",
      "Verdict: YES\n",
      "\n",
      "Average Metric: 20.00 / 20 (100.0%):  17%|█▋        | 20/119 [01:16<05:00,  3.04s/it]"
     ]
    },
    {
     "name": "stderr",
     "output_type": "stream",
     "text": [
      "2025/07/23 16:51:18 WARNING dspy.adapters.json_adapter: Failed to use structured output format, falling back to JSON mode.\n",
      "2025/07/23 16:51:18 WARNING dspy.adapters.json_adapter: Failed to use structured output format, falling back to JSON mode.\n"
     ]
    },
    {
     "name": "stdout",
     "output_type": "stream",
     "text": [
      "Query: Check flights from Lahore to Kuala Lumpur and baggage policy.\n",
      "Predicted: api\n",
      "Verdict: YES\n",
      "\n",
      "Average Metric: 21.00 / 21 (100.0%):  18%|█▊        | 21/119 [01:32<11:14,  6.88s/it]Query: Is there any referral program?\n",
      "Predicted: static\n",
      "Verdict: YES\n",
      "\n",
      "Average Metric: 22.00 / 22 (100.0%):  18%|█▊        | 22/119 [01:32<08:11,  5.07s/it]Query: Does Bookme offer discounts on flights?\n",
      "Predicted: static\n",
      "Verdict: YES\n",
      "\n",
      "Average Metric: 23.00 / 23 (100.0%):  19%|█▉        | 23/119 [01:33<05:58,  3.73s/it]Query: Is it possible to book movie tickets and cancel them later?\n",
      "Predicted: static\n",
      "Verdict: YES\n",
      "\n",
      "Average Metric: 24.00 / 24 (100.0%):  20%|██        | 24/119 [01:34<04:31,  2.86s/it]Query: Can I book a bus ticket from Multan to Faisalabad for tonight and get refund if not used?\n",
      "Predicted: api\n",
      "Verdict: YES\n",
      "\n",
      "Average Metric: 25.00 / 25 (100.0%):  21%|██        | 25/119 [01:35<03:28,  2.22s/it]"
     ]
    },
    {
     "name": "stderr",
     "output_type": "stream",
     "text": [
      "2025/07/23 16:51:31 WARNING dspy.adapters.json_adapter: Failed to use structured output format, falling back to JSON mode.\n"
     ]
    },
    {
     "name": "stdout",
     "output_type": "stream",
     "text": [
      "Query: Can I pay for hotel booking via JazzCash and get refund in same account?\n",
      "Predicted: static\n",
      "Verdict: YES\n",
      "\n",
      "Average Metric: 26.00 / 26 (100.0%):  22%|██▏       | 26/119 [01:45<07:20,  4.74s/it]Query: Find me flights from Karachi to Dubai and tell me if they are refundable.\n",
      "Predicted: api\n",
      "Verdict: YES\n",
      "\n",
      "Average Metric: 27.00 / 27 (100.0%):  23%|██▎       | 27/119 [01:47<05:50,  3.81s/it]"
     ]
    },
    {
     "name": "stderr",
     "output_type": "stream",
     "text": [
      "2025/07/23 16:51:34 WARNING dspy.adapters.json_adapter: Failed to use structured output format, falling back to JSON mode.\n"
     ]
    },
    {
     "name": "stdout",
     "output_type": "stream",
     "text": [
      "Query: How to deactivate notifications?\n",
      "Predicted: static\n",
      "Verdict: YES\n",
      "\n",
      "Average Metric: 28.00 / 28 (100.0%):  24%|██▎       | 28/119 [01:50<05:26,  3.59s/it]Query: How can I get a refund for my booked flight ticket from Bookme?\n",
      "Predicted: static\n",
      "Verdict: YES\n",
      "\n",
      "Average Metric: 29.00 / 29 (100.0%):  24%|██▍       | 29/119 [01:51<04:05,  2.73s/it]"
     ]
    },
    {
     "name": "stderr",
     "output_type": "stream",
     "text": [
      "2025/07/23 16:51:47 WARNING dspy.adapters.json_adapter: Failed to use structured output format, falling back to JSON mode.\n"
     ]
    },
    {
     "name": "stdout",
     "output_type": "stream",
     "text": [
      "Query: Does Bookme sell event tickets?\n",
      "Predicted: static\n",
      "Verdict: YES\n",
      "\n",
      "Average Metric: 30.00 / 30 (100.0%):  25%|██▌       | 30/119 [02:01<07:41,  5.18s/it]"
     ]
    },
    {
     "name": "stderr",
     "output_type": "stream",
     "text": [
      "2025/07/23 16:51:50 WARNING dspy.adapters.json_adapter: Failed to use structured output format, falling back to JSON mode.\n"
     ]
    },
    {
     "name": "stdout",
     "output_type": "stream",
     "text": [
      "Query: Where can I see my e-tickets?\n",
      "Predicted: static\n",
      "Verdict: YES\n",
      "\n",
      "Average Metric: 31.00 / 31 (100.0%):  26%|██▌       | 31/119 [02:04<06:23,  4.35s/it]Query: Find hotels in Islamabad for next week\n",
      "Predicted: api\n",
      "Verdict: YES\n",
      "\n",
      "Average Metric: 32.00 / 32 (100.0%):  27%|██▋       | 32/119 [02:06<05:11,  3.58s/it]Query: Can I pay using JazzCash?\n",
      "Predicted: static\n",
      "Verdict: YES\n",
      "\n",
      "Average Metric: 33.00 / 33 (100.0%):  28%|██▊       | 33/119 [02:06<03:44,  2.61s/it]"
     ]
    },
    {
     "name": "stderr",
     "output_type": "stream",
     "text": [
      "2025/07/23 16:52:03 WARNING dspy.adapters.json_adapter: Failed to use structured output format, falling back to JSON mode.\n",
      "2025/07/23 16:52:03 WARNING dspy.adapters.json_adapter: Failed to use structured output format, falling back to JSON mode.\n"
     ]
    },
    {
     "name": "stdout",
     "output_type": "stream",
     "text": [
      "Query: Is there a customer care number?\n",
      "Predicted: static\n",
      "Verdict: YES\n",
      "\n",
      "Average Metric: 34.00 / 34 (100.0%):  29%|██▊       | 34/119 [02:17<07:12,  5.08s/it]Query: How to check loyalty tier status?\n",
      "Predicted: static\n",
      "Verdict: YES\n",
      "\n",
      "Average Metric: 35.00 / 35 (100.0%):  29%|██▉       | 35/119 [02:18<05:14,  3.74s/it]Query: Can I reserve a hotel in Naran for next week and cancel later without charges?\n",
      "Predicted: static\n",
      "Verdict: YES\n",
      "\n",
      "Average Metric: 36.00 / 36 (100.0%):  30%|███       | 36/119 [02:23<05:46,  4.17s/it]"
     ]
    },
    {
     "name": "stderr",
     "output_type": "stream",
     "text": [
      "2025/07/23 16:52:15 WARNING dspy.adapters.json_adapter: Failed to use structured output format, falling back to JSON mode.\n"
     ]
    },
    {
     "name": "stdout",
     "output_type": "stream",
     "text": [
      "Query: How to subscribe to Bookme newsletter?\n",
      "Predicted: static\n",
      "Verdict: YES\n",
      "\n",
      "Average Metric: 37.00 / 37 (100.0%):  31%|███       | 37/119 [02:29<06:28,  4.74s/it]Query: Find me hotels in Murree for this weekend\n",
      "Predicted: api\n",
      "Verdict: YES\n",
      "\n",
      "Average Metric: 38.00 / 38 (100.0%):  32%|███▏      | 38/119 [02:29<04:44,  3.51s/it]Query: What are Bookme loyalty rewards?\n",
      "Predicted: static\n",
      "Verdict: YES\n",
      "\n",
      "Average Metric: 39.00 / 39 (100.0%):  33%|███▎      | 39/119 [02:30<03:38,  2.73s/it]"
     ]
    },
    {
     "name": "stderr",
     "output_type": "stream",
     "text": [
      "2025/07/23 16:52:26 WARNING dspy.adapters.json_adapter: Failed to use structured output format, falling back to JSON mode.\n"
     ]
    },
    {
     "name": "stdout",
     "output_type": "stream",
     "text": [
      "Query: What are the timings for customer support?\n",
      "Predicted: static\n",
      "Verdict: YES\n",
      "\n",
      "Average Metric: 40.00 / 40 (100.0%):  33%|███▎      | 39/119 [02:40<03:38,  2.73s/it]"
     ]
    },
    {
     "name": "stderr",
     "output_type": "stream",
     "text": [
      "2025/07/23 16:52:28 WARNING dspy.adapters.json_adapter: Failed to use structured output format, falling back to JSON mode.\n"
     ]
    },
    {
     "name": "stdout",
     "output_type": "stream",
     "text": [
      "Average Metric: 40.00 / 40 (100.0%):  34%|███▎      | 40/119 [02:40<06:27,  4.90s/it]Query: List flights from Karachi to Colombo next week\n",
      "Predicted: api\n",
      "Verdict: YES\n",
      "\n",
      "Average Metric: 41.00 / 41 (100.0%):  34%|███▍      | 41/119 [02:42<05:05,  3.92s/it]Query: Can I change passenger name after booking flight from Bookme?\n",
      "Predicted: static\n",
      "Verdict: YES\n",
      "\n",
      "Average Metric: 42.00 / 42 (100.0%):  35%|███▌      | 42/119 [02:43<03:47,  2.95s/it]"
     ]
    },
    {
     "name": "stderr",
     "output_type": "stream",
     "text": [
      "2025/07/23 16:52:39 WARNING dspy.adapters.json_adapter: Failed to use structured output format, falling back to JSON mode.\n"
     ]
    },
    {
     "name": "stdout",
     "output_type": "stream",
     "text": [
      "Query: Find hotels in Gilgit for upcoming weekend\n",
      "Predicted: api\n",
      "Verdict: YES\n",
      "\n",
      "Average Metric: 43.00 / 43 (100.0%):  36%|███▌      | 43/119 [02:53<06:37,  5.23s/it]"
     ]
    },
    {
     "name": "stderr",
     "output_type": "stream",
     "text": [
      "2025/07/23 16:52:41 WARNING dspy.adapters.json_adapter: Failed to use structured output format, falling back to JSON mode.\n"
     ]
    },
    {
     "name": "stdout",
     "output_type": "stream",
     "text": [
      "Query: How to check my booking history?\n",
      "Predicted: static\n",
      "Verdict: YES\n",
      "\n",
      "Average Metric: 44.00 / 44 (100.0%):  37%|███▋      | 44/119 [02:55<05:07,  4.10s/it]Query: What is the cancellation policy for flights?\n",
      "Predicted: static\n",
      "Verdict: YES\n",
      "\n",
      "Average Metric: 45.00 / 45 (100.0%):  38%|███▊      | 45/119 [02:55<03:47,  3.07s/it]"
     ]
    },
    {
     "name": "stderr",
     "output_type": "stream",
     "text": [
      "2025/07/23 16:52:53 WARNING dspy.adapters.json_adapter: Failed to use structured output format, falling back to JSON mode.\n",
      "2025/07/23 16:52:54 WARNING dspy.adapters.json_adapter: Failed to use structured output format, falling back to JSON mode.\n"
     ]
    },
    {
     "name": "stdout",
     "output_type": "stream",
     "text": [
      "Query: List buses Lahore to Rawalpindi today\n",
      "Predicted: api\n",
      "Verdict: YES\n",
      "\n",
      "Average Metric: 46.00 / 46 (100.0%):  39%|███▊      | 46/119 [03:08<07:05,  5.82s/it]Query: Can I cancel flight booked from Bookme and get refund in my wallet?\n",
      "Predicted: static\n",
      "Verdict: YES\n",
      "\n",
      "Average Metric: 47.00 / 47 (100.0%):  39%|███▉      | 47/119 [03:08<05:06,  4.25s/it]Query: I need bus tickets Lahore to Rawalpindi today and refund details.\n",
      "Predicted: api\n",
      "Verdict: YES\n",
      "\n",
      "Average Metric: 48.00 / 48 (100.0%):  40%|████      | 48/119 [03:09<03:51,  3.26s/it]Query: Show me Lahore to Multan buses tomorrow morning and their refund policy.\n",
      "Predicted: api\n",
      "Verdict: YES\n",
      "\n",
      "Average Metric: 49.00 / 49 (100.0%):  41%|████      | 49/119 [03:15<04:35,  3.93s/it]"
     ]
    },
    {
     "name": "stderr",
     "output_type": "stream",
     "text": [
      "2025/07/23 16:53:06 WARNING dspy.adapters.json_adapter: Failed to use structured output format, falling back to JSON mode.\n"
     ]
    },
    {
     "name": "stdout",
     "output_type": "stream",
     "text": [
      "Query: List hotels in Murree for upcoming Friday\n",
      "Predicted: api\n",
      "Verdict: YES\n",
      "\n",
      "Average Metric: 50.00 / 50 (100.0%):  42%|████▏     | 50/119 [03:20<04:58,  4.33s/it]Query: Show bus from Karachi to Hyderabad today\n",
      "Predicted: api\n",
      "Verdict: YES\n",
      "\n",
      "Average Metric: 51.00 / 51 (100.0%):  43%|████▎     | 51/119 [03:21<03:40,  3.25s/it]Query: Show me Lahore to Multan buses tomorrow morning\n",
      "Predicted: api\n",
      "Verdict: YES\n",
      "\n",
      "Average Metric: 52.00 / 52 (100.0%):  44%|████▎     | 52/119 [03:26<04:20,  3.89s/it]"
     ]
    },
    {
     "name": "stderr",
     "output_type": "stream",
     "text": [
      "2025/07/23 16:53:18 WARNING dspy.adapters.json_adapter: Failed to use structured output format, falling back to JSON mode.\n"
     ]
    },
    {
     "name": "stdout",
     "output_type": "stream",
     "text": [
      "Query: How can I cancel my bus ticket?\n",
      "Predicted: static\n",
      "Verdict: YES\n",
      "\n",
      "Average Metric: 53.00 / 53 (100.0%):  45%|████▍     | 53/119 [03:31<04:46,  4.34s/it]Query: Can I change flight date after booking on Bookme.pk?\n",
      "Predicted: static\n",
      "Verdict: YES\n",
      "\n",
      "Average Metric: 54.00 / 54 (100.0%):  45%|████▌     | 54/119 [03:35<04:23,  4.05s/it]Query: I want to book a flight from Karachi to Bangkok, what is the baggage allowance?\n",
      "Predicted: api\n",
      "Verdict: YES\n",
      "\n",
      "Average Metric: 55.00 / 55 (100.0%):  46%|████▌     | 55/119 [03:35<03:13,  3.02s/it]"
     ]
    },
    {
     "name": "stderr",
     "output_type": "stream",
     "text": [
      "2025/07/23 16:53:33 WARNING dspy.adapters.json_adapter: Failed to use structured output format, falling back to JSON mode.\n",
      "2025/07/23 16:53:34 WARNING dspy.adapters.json_adapter: Failed to use structured output format, falling back to JSON mode.\n"
     ]
    },
    {
     "name": "stdout",
     "output_type": "stream",
     "text": [
      "Query: Check flights from Karachi to Dubai on 25th July\n",
      "Predicted: api\n",
      "Verdict: YES\n",
      "\n",
      "Average Metric: 56.00 / 56 (100.0%):  47%|████▋     | 56/119 [03:48<06:08,  5.85s/it]Query: Can I book movie tickets through Bookme?\n",
      "Predicted: static\n",
      "Verdict: YES\n",
      "\n",
      "Average Metric: 57.00 / 57 (100.0%):  48%|████▊     | 57/119 [03:48<04:16,  4.14s/it]Query: How can I share my booking with someone?\n",
      "Predicted: static\n",
      "Verdict: YES\n",
      "\n",
      "Average Metric: 58.00 / 58 (100.0%):  49%|████▊     | 58/119 [03:51<03:50,  3.79s/it]Query: Is there any student discount?\n",
      "Predicted: static\n",
      "Verdict: YES\n",
      "\n",
      "Average Metric: 59.00 / 59 (100.0%):  50%|████▉     | 59/119 [03:52<02:51,  2.86s/it]"
     ]
    },
    {
     "name": "stderr",
     "output_type": "stream",
     "text": [
      "2025/07/23 16:53:49 WARNING dspy.adapters.json_adapter: Failed to use structured output format, falling back to JSON mode.\n",
      "2025/07/23 16:53:50 WARNING dspy.adapters.json_adapter: Failed to use structured output format, falling back to JSON mode.\n"
     ]
    },
    {
     "name": "stdout",
     "output_type": "stream",
     "text": [
      "Query: List hotels in Naran for upcoming weekend\n",
      "Predicted: api\n",
      "Verdict: YES\n",
      "\n",
      "Average Metric: 60.00 / 60 (100.0%):  50%|█████     | 60/119 [04:03<05:29,  5.58s/it]Query: I want to book a hotel in Lahore, does it allow early check-in?\n",
      "Predicted: static\n",
      "Verdict: YES\n",
      "\n",
      "Average Metric: 61.00 / 61 (100.0%):  51%|█████▏    | 61/119 [04:04<03:52,  4.00s/it]Query: Does Bookme charge any service fee?\n",
      "Predicted: static\n",
      "Verdict: YES\n",
      "\n",
      "Average Metric: 62.00 / 62 (100.0%):  52%|█████▏    | 62/119 [04:07<03:28,  3.65s/it]Query: How can I delete my Bookme account?\n",
      "Predicted: static\n",
      "Verdict: YES\n",
      "\n",
      "Average Metric: 63.00 / 63 (100.0%):  53%|█████▎    | 63/119 [04:07<02:31,  2.70s/it]"
     ]
    },
    {
     "name": "stderr",
     "output_type": "stream",
     "text": [
      "2025/07/23 16:54:05 WARNING dspy.adapters.json_adapter: Failed to use structured output format, falling back to JSON mode.\n",
      "2025/07/23 16:54:06 WARNING dspy.adapters.json_adapter: Failed to use structured output format, falling back to JSON mode.\n"
     ]
    },
    {
     "name": "stdout",
     "output_type": "stream",
     "text": [
      "Query: How long does it take to receive refund?\n",
      "Predicted: static\n",
      "Verdict: YES\n",
      "\n",
      "Average Metric: 64.00 / 64 (100.0%):  54%|█████▍    | 64/119 [04:20<05:08,  5.61s/it]Query: Find bus Lahore to Bahawalpur tonight\n",
      "Predicted: api\n",
      "Verdict: YES\n",
      "\n",
      "Average Metric: 65.00 / 65 (100.0%):  55%|█████▍    | 65/119 [04:20<03:45,  4.18s/it]Query: Can I book train tickets on Bookme?\n",
      "Predicted: static\n",
      "Verdict: YES\n",
      "\n",
      "Average Metric: 66.00 / 66 (100.0%):  55%|█████▌    | 66/119 [04:21<02:48,  3.18s/it]Query: Search flights from Karachi to Doha this week\n",
      "Predicted: api\n",
      "Verdict: YES\n",
      "\n",
      "Average Metric: 67.00 / 67 (100.0%):  56%|█████▋    | 67/119 [04:22<02:08,  2.47s/it]"
     ]
    },
    {
     "name": "stderr",
     "output_type": "stream",
     "text": [
      "2025/07/23 16:54:18 WARNING dspy.adapters.json_adapter: Failed to use structured output format, falling back to JSON mode.\n"
     ]
    },
    {
     "name": "stdout",
     "output_type": "stream",
     "text": [
      "Query: Find hotels in Muzaffarabad this week with refund facility.\n",
      "Predicted: api\n",
      "Verdict: YES\n",
      "\n",
      "Average Metric: 68.00 / 68 (100.0%):  57%|█████▋    | 68/119 [04:32<04:05,  4.81s/it]"
     ]
    },
    {
     "name": "stderr",
     "output_type": "stream",
     "text": [
      "2025/07/23 16:54:20 WARNING dspy.adapters.json_adapter: Failed to use structured output format, falling back to JSON mode.\n"
     ]
    },
    {
     "name": "stdout",
     "output_type": "stream",
     "text": [
      "Query: Find buses from Islamabad to Abbottabad today\n",
      "Predicted: api\n",
      "Verdict: YES\n",
      "\n",
      "Average Metric: 69.00 / 69 (100.0%):  58%|█████▊    | 69/119 [04:34<03:07,  3.76s/it]Query: Can I change email linked to my account?\n",
      "Predicted: static\n",
      "Verdict: YES\n",
      "\n",
      "Average Metric: 70.00 / 70 (100.0%):  59%|█████▉    | 70/119 [04:34<02:21,  2.88s/it]"
     ]
    },
    {
     "name": "stderr",
     "output_type": "stream",
     "text": [
      "2025/07/23 16:54:30 WARNING dspy.adapters.json_adapter: Failed to use structured output format, falling back to JSON mode.\n",
      "2025/07/23 16:54:31 WARNING dspy.adapters.json_adapter: Failed to use structured output format, falling back to JSON mode.\n"
     ]
    },
    {
     "name": "stdout",
     "output_type": "stream",
     "text": [
      "Query: I need to book a bus ticket and know refund policy before payment.\n",
      "Predicted: api\n",
      "Verdict: YES\n",
      "\n",
      "Average Metric: 71.00 / 71 (100.0%):  60%|█████▉    | 71/119 [04:45<04:10,  5.21s/it]Query: How to login if I forgot my password?\n",
      "Predicted: static\n",
      "Verdict: YES\n",
      "\n",
      "Average Metric: 72.00 / 72 (100.0%):  61%|██████    | 72/119 [04:45<02:54,  3.71s/it]Query: Is it possible to book a flight from Lahore to Karachi and then have its refund 2 days later?\n",
      "Predicted: static\n",
      "Verdict: YES\n",
      "\n",
      "Average Metric: 73.00 / 73 (100.0%):  61%|██████▏   | 73/119 [04:47<02:17,  3.00s/it]"
     ]
    },
    {
     "name": "stderr",
     "output_type": "stream",
     "text": [
      "2025/07/23 16:54:42 WARNING dspy.adapters.json_adapter: Failed to use structured output format, falling back to JSON mode.\n"
     ]
    },
    {
     "name": "stdout",
     "output_type": "stream",
     "text": [
      "Query: Show flights Karachi to Doha this week with cancellation policy.\n",
      "Predicted: api\n",
      "Verdict: YES\n",
      "\n",
      "Average Metric: 74.00 / 74 (100.0%):  62%|██████▏   | 74/119 [04:57<03:48,  5.08s/it]"
     ]
    },
    {
     "name": "stderr",
     "output_type": "stream",
     "text": [
      "2025/07/23 16:54:44 WARNING dspy.adapters.json_adapter: Failed to use structured output format, falling back to JSON mode.\n"
     ]
    },
    {
     "name": "stdout",
     "output_type": "stream",
     "text": [
      "Query: Check buses from Faisalabad to Multan tonight\n",
      "Predicted: api\n",
      "Verdict: YES\n",
      "\n",
      "Average Metric: 75.00 / 75 (100.0%):  63%|██████▎   | 75/119 [04:58<02:56,  4.02s/it]Query: Show movie tickets in Lahore today\n",
      "Predicted: api\n",
      "Verdict: YES\n",
      "\n",
      "Average Metric: 76.00 / 76 (100.0%):  64%|██████▍   | 76/119 [04:58<02:04,  2.89s/it]"
     ]
    },
    {
     "name": "stderr",
     "output_type": "stream",
     "text": [
      "2025/07/23 16:54:55 WARNING dspy.adapters.json_adapter: Failed to use structured output format, falling back to JSON mode.\n",
      "2025/07/23 16:54:56 WARNING dspy.adapters.json_adapter: Failed to use structured output format, falling back to JSON mode.\n"
     ]
    },
    {
     "name": "stdout",
     "output_type": "stream",
     "text": [
      "Query: Find me cheap flights to Dubai and tell me luggage limit.\n",
      "Predicted: api\n",
      "Verdict: YES\n",
      "\n",
      "Average Metric: 77.00 / 77 (100.0%):  65%|██████▍   | 77/119 [05:10<03:51,  5.52s/it]Query: Show bus timings from Lahore to Faisalabad tonight\n",
      "Predicted: api\n",
      "Verdict: YES\n",
      "\n",
      "Average Metric: 78.00 / 78 (100.0%):  65%|██████▍   | 77/119 [05:10<03:51,  5.52s/it]Query: How to redeem a voucher code?\n",
      "Predicted: static\n",
      "Verdict: YES\n",
      "\n",
      "Average Metric: 79.00 / 79 (100.0%):  66%|██████▋   | 79/119 [05:12<02:13,  3.34s/it]"
     ]
    },
    {
     "name": "stderr",
     "output_type": "stream",
     "text": [
      "2025/07/23 16:55:07 WARNING dspy.adapters.json_adapter: Failed to use structured output format, falling back to JSON mode.\n"
     ]
    },
    {
     "name": "stdout",
     "output_type": "stream",
     "text": [
      "Query: Find me hotel in Islamabad today and tell me if free cancellation available.\n",
      "Predicted: api\n",
      "Verdict: YES\n",
      "\n",
      "Average Metric: 80.00 / 80 (100.0%):  67%|██████▋   | 80/119 [05:21<03:10,  4.88s/it]"
     ]
    },
    {
     "name": "stderr",
     "output_type": "stream",
     "text": [
      "2025/07/23 16:55:09 WARNING dspy.adapters.json_adapter: Failed to use structured output format, falling back to JSON mode.\n"
     ]
    },
    {
     "name": "stdout",
     "output_type": "stream",
     "text": [
      "Query: Show me flights from Lahore to Dubai tomorrow\n",
      "Predicted: api\n",
      "Verdict: YES\n",
      "\n",
      "Average Metric: 81.00 / 81 (100.0%):  68%|██████▊   | 81/119 [05:23<02:31,  4.00s/it]Query: Can I book an event ticket and cancel later for refund?\n",
      "Predicted: static\n",
      "Verdict: YES\n",
      "\n",
      "Average Metric: 82.00 / 82 (100.0%):  69%|██████▉   | 82/119 [05:23<01:49,  2.97s/it]"
     ]
    },
    {
     "name": "stderr",
     "output_type": "stream",
     "text": [
      "2025/07/23 16:55:21 WARNING dspy.adapters.json_adapter: Failed to use structured output format, falling back to JSON mode.\n",
      "2025/07/23 16:55:21 WARNING dspy.adapters.json_adapter: Failed to use structured output format, falling back to JSON mode.\n"
     ]
    },
    {
     "name": "stdout",
     "output_type": "stream",
     "text": [
      "Query: Does Bookme offer cashback?\n",
      "Predicted: static\n",
      "Verdict: YES\n",
      "\n",
      "Average Metric: 83.00 / 83 (100.0%):  70%|██████▉   | 83/119 [05:35<03:17,  5.49s/it]Query: Show me hotels in Lahore for tonight\n",
      "Predicted: api\n",
      "Verdict: YES\n",
      "\n",
      "Average Metric: 84.00 / 84 (100.0%):  71%|███████   | 84/119 [05:35<02:21,  4.04s/it]Query: List hotels in Swat for next weekend\n",
      "Predicted: api\n",
      "Verdict: YES\n",
      "\n",
      "Average Metric: 85.00 / 85 (100.0%):  71%|███████▏  | 85/119 [05:37<01:52,  3.30s/it]Query: Can I pay with EasyPaisa?\n",
      "Predicted: static\n",
      "Verdict: YES\n",
      "\n",
      "Average Metric: 86.00 / 86 (100.0%):  72%|███████▏  | 86/119 [05:38<01:26,  2.63s/it]"
     ]
    },
    {
     "name": "stderr",
     "output_type": "stream",
     "text": [
      "2025/07/23 16:55:33 WARNING dspy.adapters.json_adapter: Failed to use structured output format, falling back to JSON mode.\n",
      "2025/07/23 16:55:35 WARNING dspy.adapters.json_adapter: Failed to use structured output format, falling back to JSON mode.\n"
     ]
    },
    {
     "name": "stdout",
     "output_type": "stream",
     "text": [
      "Query: Book me a hotel in Islamabad for tomorrow and tell me check-in policy.\n",
      "Predicted: api\n",
      "Verdict: YES\n",
      "\n",
      "Average Metric: 87.00 / 87 (100.0%):  73%|███████▎  | 87/119 [05:49<02:41,  5.04s/it]Query: Does Bookme have a mobile app?\n",
      "Predicted: static\n",
      "Verdict: YES\n",
      "\n",
      "Average Metric: 88.00 / 88 (100.0%):  74%|███████▍  | 88/119 [05:50<01:59,  3.86s/it]Query: Does Bookme support PayPal?\n",
      "Predicted: static\n",
      "Verdict: YES\n",
      "\n",
      "Average Metric: 89.00 / 89 (100.0%):  75%|███████▍  | 89/119 [05:50<01:22,  2.75s/it]"
     ]
    },
    {
     "name": "stderr",
     "output_type": "stream",
     "text": [
      "2025/07/23 16:55:46 WARNING dspy.adapters.json_adapter: Failed to use structured output format, falling back to JSON mode.\n",
      "2025/07/23 16:55:47 WARNING dspy.adapters.json_adapter: Failed to use structured output format, falling back to JSON mode.\n"
     ]
    },
    {
     "name": "stdout",
     "output_type": "stream",
     "text": [
      "Query: Check flights from Islamabad to Riyadh next week\n",
      "Predicted: api\n",
      "Verdict: YES\n",
      "\n",
      "Average Metric: 90.00 / 90 (100.0%):  76%|███████▌  | 90/119 [06:00<02:27,  5.09s/it]Query: Show flights from Lahore to Dubai next Monday\n",
      "Predicted: api\n",
      "Verdict: YES\n",
      "\n",
      "Average Metric: 91.00 / 91 (100.0%):  76%|███████▋  | 91/119 [06:01<01:42,  3.64s/it]"
     ]
    },
    {
     "name": "stderr",
     "output_type": "stream",
     "text": [
      "2025/07/23 16:56:01 WARNING dspy.adapters.json_adapter: Failed to use structured output format, falling back to JSON mode.\n",
      "2025/07/23 16:56:02 WARNING dspy.adapters.json_adapter: Failed to use structured output format, falling back to JSON mode.\n"
     ]
    },
    {
     "name": "stdout",
     "output_type": "stream",
     "text": [
      "Query: Search hotels in Karachi for next Friday\n",
      "Predicted: api\n",
      "Verdict: YES\n",
      "\n",
      "Average Metric: 92.00 / 92 (100.0%):  77%|███████▋  | 92/119 [06:16<03:09,  7.02s/it]Query: Check buses from Islamabad to Abbottabad today and tell me refund policy.\n",
      "Predicted: api\n",
      "Verdict: YES\n",
      "\n",
      "Average Metric: 93.00 / 93 (100.0%):  78%|███████▊  | 93/119 [06:16<02:12,  5.09s/it]Query: Book me a flight from Karachi to Muscat tomorrow and tell me hand carry limit.\n",
      "Predicted: api\n",
      "Verdict: YES\n",
      "\n",
      "Average Metric: 94.00 / 94 (100.0%):  79%|███████▉  | 94/119 [06:17<01:35,  3.80s/it]Query: Find hotels in Karachi near airport tonight\n",
      "Predicted: api\n",
      "Verdict: YES\n",
      "\n",
      "Average Metric: 95.00 / 95 (100.0%):  80%|███████▉  | 95/119 [06:18<01:10,  2.94s/it]Query: How do I reset my password?\n",
      "Predicted: static\n",
      "Verdict: YES\n",
      "\n",
      "Average Metric: 96.00 / 96 (100.0%):  81%|████████  | 96/119 [06:18<00:51,  2.26s/it]"
     ]
    },
    {
     "name": "stderr",
     "output_type": "stream",
     "text": [
      "2025/07/23 16:56:14 WARNING dspy.adapters.json_adapter: Failed to use structured output format, falling back to JSON mode.\n"
     ]
    },
    {
     "name": "stdout",
     "output_type": "stream",
     "text": [
      "Query: Can I change my seat after booking?\n",
      "Predicted: static\n",
      "Verdict: YES\n",
      "\n",
      "Average Metric: 97.00 / 97 (100.0%):  82%|████████▏ | 97/119 [06:28<01:37,  4.41s/it]"
     ]
    },
    {
     "name": "stderr",
     "output_type": "stream",
     "text": [
      "2025/07/23 16:56:16 WARNING dspy.adapters.json_adapter: Failed to use structured output format, falling back to JSON mode.\n"
     ]
    },
    {
     "name": "stdout",
     "output_type": "stream",
     "text": [
      "Query: How can I cancel my hotel booking made on Bookme.pk?\n",
      "Predicted: static\n",
      "Verdict: YES\n",
      "\n",
      "Average Metric: 98.00 / 98 (100.0%):  82%|████████▏ | 98/119 [06:30<01:19,  3.79s/it]Query: Find flights from Karachi to Singapore and tell me cancellation charges.\n",
      "Predicted: api\n",
      "Verdict: YES\n",
      "\n",
      "Average Metric: 99.00 / 99 (100.0%):  83%|████████▎ | 99/119 [06:31<00:55,  2.79s/it]"
     ]
    },
    {
     "name": "stderr",
     "output_type": "stream",
     "text": [
      "2025/07/23 16:56:27 WARNING dspy.adapters.json_adapter: Failed to use structured output format, falling back to JSON mode.\n",
      "2025/07/23 16:56:28 WARNING dspy.adapters.json_adapter: Failed to use structured output format, falling back to JSON mode.\n"
     ]
    },
    {
     "name": "stdout",
     "output_type": "stream",
     "text": [
      "Query: How do I create an account on Bookme?\n",
      "Predicted: static\n",
      "Verdict: YES\n",
      "\n",
      "Average Metric: 100.00 / 100 (100.0%):  84%|████████▍ | 100/119 [06:41<01:35,  5.02s/it]Query: How do I update my profile information?\n",
      "Predicted: static\n",
      "Verdict: YES\n",
      "\n",
      "Average Metric: 101.00 / 101 (100.0%):  85%|████████▍ | 101/119 [06:42<01:07,  3.77s/it]Query: How to book a hotel on Bookme?\n",
      "Predicted: static\n",
      "Verdict: YES\n",
      "\n",
      "Average Metric: 102.00 / 102 (100.0%):  86%|████████▌ | 102/119 [06:42<00:47,  2.81s/it]"
     ]
    },
    {
     "name": "stderr",
     "output_type": "stream",
     "text": [
      "2025/07/23 16:56:38 WARNING dspy.adapters.json_adapter: Failed to use structured output format, falling back to JSON mode.\n"
     ]
    },
    {
     "name": "stdout",
     "output_type": "stream",
     "text": [
      "Query: List buses from Lahore to Islamabad tomorrow night\n",
      "Predicted: api\n",
      "Verdict: YES\n",
      "\n",
      "Average Metric: 103.00 / 103 (100.0%):  87%|████████▋ | 103/119 [06:52<01:16,  4.78s/it]"
     ]
    },
    {
     "name": "stderr",
     "output_type": "stream",
     "text": [
      "2025/07/23 16:56:40 WARNING dspy.adapters.json_adapter: Failed to use structured output format, falling back to JSON mode.\n"
     ]
    },
    {
     "name": "stdout",
     "output_type": "stream",
     "text": [
      "Query: Can I book cricket tickets on Bookme?\n",
      "Predicted: static\n",
      "Verdict: YES\n",
      "\n",
      "Average Metric: 104.00 / 104 (100.0%):  87%|████████▋ | 104/119 [06:54<01:01,  4.11s/it]Query: Can I get cashback if I book flight tickets through Bookme.pk?\n",
      "Predicted: static\n",
      "Verdict: YES\n",
      "\n",
      "Average Metric: 105.00 / 105 (100.0%):  88%|████████▊ | 105/119 [06:55<00:44,  3.21s/it]"
     ]
    },
    {
     "name": "stderr",
     "output_type": "stream",
     "text": [
      "2025/07/23 16:56:50 WARNING dspy.adapters.json_adapter: Failed to use structured output format, falling back to JSON mode.\n"
     ]
    },
    {
     "name": "stdout",
     "output_type": "stream",
     "text": [
      "Query: Can I cancel my flight ticket and get a full refund within 24 hours?\n",
      "Predicted: static\n",
      "Verdict: YES\n",
      "\n",
      "Average Metric: 106.00 / 106 (100.0%):  89%|████████▉ | 106/119 [07:04<01:03,  4.90s/it]"
     ]
    },
    {
     "name": "stderr",
     "output_type": "stream",
     "text": [
      "2025/07/23 16:56:53 WARNING dspy.adapters.json_adapter: Failed to use structured output format, falling back to JSON mode.\n"
     ]
    },
    {
     "name": "stdout",
     "output_type": "stream",
     "text": [
      "Query: Can I book a bus ticket from Islamabad to Peshawar and get refund if I cancel?\n",
      "Predicted: static\n",
      "Verdict: YES\n",
      "\n",
      "Average Metric: 107.00 / 107 (100.0%):  90%|████████▉ | 107/119 [07:07<00:49,  4.13s/it]Query: How to use my wallet balance?\n",
      "Predicted: static\n",
      "Verdict: YES\n",
      "\n",
      "Average Metric: 108.00 / 108 (100.0%):  91%|█████████ | 108/119 [07:08<00:37,  3.37s/it]"
     ]
    },
    {
     "name": "stderr",
     "output_type": "stream",
     "text": [
      "2025/07/23 16:57:04 WARNING dspy.adapters.json_adapter: Failed to use structured output format, falling back to JSON mode.\n"
     ]
    },
    {
     "name": "stdout",
     "output_type": "stream",
     "text": [
      "Query: List events in Karachi this weekend\n",
      "Predicted: api\n",
      "Verdict: YES\n",
      "\n",
      "Average Metric: 109.00 / 109 (100.0%):  92%|█████████▏| 109/119 [07:18<00:52,  5.25s/it]"
     ]
    },
    {
     "name": "stderr",
     "output_type": "stream",
     "text": [
      "2025/07/23 16:57:06 WARNING dspy.adapters.json_adapter: Failed to use structured output format, falling back to JSON mode.\n"
     ]
    },
    {
     "name": "stdout",
     "output_type": "stream",
     "text": [
      "Query: Show me hotels in Skardu with breakfast included and free cancellation.\n",
      "Predicted: api\n",
      "Verdict: YES\n",
      "\n",
      "Average Metric: 110.00 / 110 (100.0%):  92%|█████████▏| 110/119 [07:19<00:36,  4.08s/it]Query: Find flights from Islamabad to Jeddah next month\n",
      "Predicted: api\n",
      "Verdict: YES\n",
      "\n",
      "Average Metric: 111.00 / 111 (100.0%):  93%|█████████▎| 111/119 [07:20<00:23,  2.96s/it]"
     ]
    },
    {
     "name": "stderr",
     "output_type": "stream",
     "text": [
      "2025/07/23 16:57:16 WARNING dspy.adapters.json_adapter: Failed to use structured output format, falling back to JSON mode.\n"
     ]
    },
    {
     "name": "stdout",
     "output_type": "stream",
     "text": [
      "Query: Are there any buses from Islamabad to Multan today?\n",
      "Predicted: api\n",
      "Verdict: YES\n",
      "\n",
      "Average Metric: 112.00 / 112 (100.0%):  94%|█████████▍| 112/119 [07:30<00:36,  5.26s/it]"
     ]
    },
    {
     "name": "stderr",
     "output_type": "stream",
     "text": [
      "2025/07/23 16:57:18 WARNING dspy.adapters.json_adapter: Failed to use structured output format, falling back to JSON mode.\n"
     ]
    },
    {
     "name": "stdout",
     "output_type": "stream",
     "text": [
      "Query: How to check event schedules?\n",
      "Predicted: static\n",
      "Verdict: YES\n",
      "\n",
      "Average Metric: 113.00 / 113 (100.0%):  95%|█████████▍| 113/119 [07:32<00:24,  4.11s/it]Query: Check flights to Dubai from Karachi tomorrow and tell me fare rules.\n",
      "Predicted: api\n",
      "Verdict: YES\n",
      "\n",
      "Average Metric: 114.00 / 114 (100.0%):  96%|█████████▌| 114/119 [07:32<00:15,  3.14s/it]"
     ]
    },
    {
     "name": "stderr",
     "output_type": "stream",
     "text": [
      "2025/07/23 16:57:28 WARNING dspy.adapters.json_adapter: Failed to use structured output format, falling back to JSON mode.\n"
     ]
    },
    {
     "name": "stdout",
     "output_type": "stream",
     "text": [
      "Query: Can I book a bus seat and later change it to another seat?\n",
      "Predicted: static\n",
      "Verdict: YES\n",
      "\n",
      "Average Metric: 115.00 / 115 (100.0%):  97%|█████████▋| 115/119 [07:42<00:19,  4.93s/it]"
     ]
    },
    {
     "name": "stderr",
     "output_type": "stream",
     "text": [
      "2025/07/23 16:57:31 WARNING dspy.adapters.json_adapter: Failed to use structured output format, falling back to JSON mode.\n"
     ]
    },
    {
     "name": "stdout",
     "output_type": "stream",
     "text": [
      "Query: Can I cancel train tickets booked via Bookme.pk?\n",
      "Predicted: static\n",
      "Verdict: YES\n",
      "\n",
      "Average Metric: 116.00 / 116 (100.0%):  97%|█████████▋| 116/119 [07:44<00:12,  4.07s/it]Query: Check flights from Lahore to Kuala Lumpur this week\n",
      "Predicted: api\n",
      "Verdict: YES\n",
      "\n",
      "Average Metric: 117.00 / 117 (100.0%):  98%|█████████▊| 117/119 [07:45<00:06,  3.17s/it]"
     ]
    },
    {
     "name": "stderr",
     "output_type": "stream",
     "text": [
      "2025/07/23 16:57:40 WARNING dspy.adapters.json_adapter: Failed to use structured output format, falling back to JSON mode.\n"
     ]
    },
    {
     "name": "stdout",
     "output_type": "stream",
     "text": [
      "Query: Check flights from Lahore to Doha next week\n",
      "Predicted: api\n",
      "Verdict: YES\n",
      "\n",
      "Average Metric: 118.00 / 118 (100.0%):  99%|█████████▉| 118/119 [07:54<00:04,  5.00s/it]"
     ]
    },
    {
     "name": "stderr",
     "output_type": "stream",
     "text": [
      "2025/07/23 16:57:42 WARNING dspy.adapters.json_adapter: Failed to use structured output format, falling back to JSON mode.\n"
     ]
    },
    {
     "name": "stdout",
     "output_type": "stream",
     "text": [
      "Query: Find me cheap flights to Dubai from Karachi\n",
      "Predicted: api\n",
      "Verdict: YES\n",
      "\n",
      "Average Metric: 119.00 / 119 (100.0%): 100%|██████████| 119/119 [07:56<00:00,  4.01s/it]"
     ]
    },
    {
     "name": "stderr",
     "output_type": "stream",
     "text": [
      "2025/07/23 16:57:44 INFO dspy.evaluate.evaluate: Average Metric: 119 / 119 (100.0%)\n"
     ]
    },
    {
     "name": "stdout",
     "output_type": "stream",
     "text": [
      "\n",
      "Scores so far: [86.55, 100.0, 100.0]\n",
      "Best score so far: 100.0\n"
     ]
    },
    {
     "name": "stderr",
     "output_type": "stream",
     "text": [
      "  1%|          | 1/119 [00:03<06:46,  3.44s/it]"
     ]
    },
    {
     "name": "stdout",
     "output_type": "stream",
     "text": [
      "Query: How can I share my booking with someone?\n",
      "Predicted: static\n",
      "Verdict: YES\n",
      "\n"
     ]
    },
    {
     "name": "stderr",
     "output_type": "stream",
     "text": [
      "  2%|▏         | 2/119 [00:06<06:28,  3.32s/it]"
     ]
    },
    {
     "name": "stdout",
     "output_type": "stream",
     "text": [
      "Query: List buses from Lahore to Islamabad tomorrow night\n",
      "Predicted: api\n",
      "Verdict: YES\n",
      "\n"
     ]
    },
    {
     "name": "stderr",
     "output_type": "stream",
     "text": [
      "  3%|▎         | 3/119 [00:11<08:06,  4.19s/it]"
     ]
    },
    {
     "name": "stdout",
     "output_type": "stream",
     "text": [
      "Query: Find flights from Karachi to Singapore and tell me cancellation charges.\n",
      "Predicted: api\n",
      "Verdict: YES\n",
      "\n"
     ]
    },
    {
     "name": "stderr",
     "output_type": "stream",
     "text": [
      "  3%|▎         | 4/119 [00:14<07:10,  3.74s/it]\n"
     ]
    },
    {
     "name": "stdout",
     "output_type": "stream",
     "text": [
      "Query: Find buses from Islamabad to Peshawar tonight\n",
      "Predicted: api\n",
      "Verdict: YES\n",
      "\n",
      "Bootstrapped 4 full traces after 4 examples for up to 1 rounds, amounting to 4 attempts.\n",
      "  0%|          | 0/119 [00:00<?, ?it/s]Query: Can I use Bookme without an account?\n",
      "Predicted: static\n",
      "Verdict: YES\n",
      "\n",
      "Average Metric: 1.00 / 1 (100.0%):   1%|          | 1/119 [00:03<07:20,  3.73s/it]Query: Search flights from Lahore to Istanbul this month\n",
      "Predicted: api\n",
      "Verdict: YES\n",
      "\n",
      "Average Metric: 2.00 / 2 (100.0%):   2%|▏         | 2/119 [00:04<03:50,  1.97s/it]"
     ]
    },
    {
     "name": "stderr",
     "output_type": "stream",
     "text": [
      "2025/07/23 16:58:14 WARNING dspy.adapters.json_adapter: Failed to use structured output format, falling back to JSON mode.\n",
      "2025/07/23 16:58:14 WARNING dspy.adapters.json_adapter: Failed to use structured output format, falling back to JSON mode.\n"
     ]
    },
    {
     "name": "stdout",
     "output_type": "stream",
     "text": [
      "Query: Show flights from Karachi to Doha next week with refund option.\n",
      "Predicted: api\n",
      "Verdict: YES\n",
      "\n",
      "Average Metric: 3.00 / 3 (100.0%):   3%|▎         | 3/119 [00:16<13:05,  6.78s/it]Query: Find buses from Islamabad to Peshawar tonight\n",
      "Predicted: api\n",
      "Verdict: YES\n",
      "\n",
      "Average Metric: 4.00 / 4 (100.0%):   3%|▎         | 4/119 [00:17<07:56,  4.14s/it]Query: Check flights from Karachi to Muscat tomorrow\n",
      "Predicted: api\n",
      "Verdict: YES\n",
      "\n",
      "Average Metric: 5.00 / 5 (100.0%):   4%|▍         | 5/119 [00:20<07:09,  3.77s/it]Query: How can I know if my booking is confirmed?\n",
      "Predicted: static\n",
      "Verdict: YES\n",
      "\n",
      "Average Metric: 6.00 / 6 (100.0%):   5%|▌         | 6/119 [00:20<05:08,  2.73s/it]"
     ]
    },
    {
     "name": "stderr",
     "output_type": "stream",
     "text": [
      "2025/07/23 16:58:31 WARNING dspy.adapters.json_adapter: Failed to use structured output format, falling back to JSON mode.\n"
     ]
    },
    {
     "name": "stdout",
     "output_type": "stream",
     "text": [
      "Query: Check buses from Rawalpindi to Murree today\n",
      "Predicted: api\n",
      "Verdict: YES\n",
      "\n",
      "Average Metric: 7.00 / 7 (100.0%):   6%|▌         | 7/119 [00:33<11:20,  6.07s/it]"
     ]
    },
    {
     "name": "stderr",
     "output_type": "stream",
     "text": [
      "2025/07/23 16:58:34 WARNING dspy.adapters.json_adapter: Failed to use structured output format, falling back to JSON mode.\n"
     ]
    },
    {
     "name": "stdout",
     "output_type": "stream",
     "text": [
      "Query: Search hotels in Skardu for next weekend\n",
      "Predicted: api\n",
      "Verdict: YES\n",
      "\n",
      "Average Metric: 8.00 / 8 (100.0%):   7%|▋         | 8/119 [00:35<08:30,  4.59s/it]Query: Book a hotel in Murree for upcoming Friday with free cancellation.\n",
      "Predicted: api\n",
      "Verdict: YES\n",
      "\n",
      "Average Metric: 9.00 / 9 (100.0%):   8%|▊         | 9/119 [00:36<06:21,  3.46s/it]Query: Find flights from Islamabad to Dubai this Friday\n",
      "Predicted: api\n",
      "Verdict: YES\n",
      "\n",
      "Average Metric: 10.00 / 10 (100.0%):   8%|▊         | 10/119 [00:37<04:52,  2.68s/it]"
     ]
    },
    {
     "name": "stderr",
     "output_type": "stream",
     "text": [
      "2025/07/23 16:58:47 WARNING dspy.adapters.json_adapter: Failed to use structured output format, falling back to JSON mode.\n"
     ]
    },
    {
     "name": "stdout",
     "output_type": "stream",
     "text": [
      "Query: Find me hotels in Karachi tonight with free cancellation.\n",
      "Predicted: api\n",
      "Verdict: YES\n",
      "\n",
      "Average Metric: 11.00 / 11 (100.0%):   9%|▉         | 11/119 [00:49<10:12,  5.67s/it]"
     ]
    },
    {
     "name": "stderr",
     "output_type": "stream",
     "text": [
      "2025/07/23 16:58:50 WARNING dspy.adapters.json_adapter: Failed to use structured output format, falling back to JSON mode.\n"
     ]
    },
    {
     "name": "stdout",
     "output_type": "stream",
     "text": [
      "Query: Where is Bookme.pk headquartered?\n",
      "Predicted: static\n",
      "Verdict: YES\n",
      "\n",
      "Average Metric: 12.00 / 12 (100.0%):  10%|█         | 12/119 [00:51<08:10,  4.59s/it]Query: How can I contact Bookme support?\n",
      "Predicted: static\n",
      "Verdict: YES\n",
      "\n",
      "Average Metric: 13.00 / 13 (100.0%):  11%|█         | 13/119 [00:52<06:09,  3.48s/it]Query: What payment methods are accepted?\n",
      "Predicted: static\n",
      "Verdict: YES\n",
      "\n",
      "Average Metric: 14.00 / 14 (100.0%):  12%|█▏        | 14/119 [00:53<04:33,  2.61s/it]"
     ]
    },
    {
     "name": "stderr",
     "output_type": "stream",
     "text": [
      "2025/07/23 16:59:03 WARNING dspy.adapters.json_adapter: Failed to use structured output format, falling back to JSON mode.\n"
     ]
    },
    {
     "name": "stdout",
     "output_type": "stream",
     "text": [
      "Query: Is there a loyalty program for bus tickets?\n",
      "Predicted: static\n",
      "Verdict: YES\n",
      "\n",
      "Average Metric: 15.00 / 15 (100.0%):  13%|█▎        | 15/119 [01:05<09:26,  5.45s/it]Query: Show flights from Lahore to Istanbul next month and refund options.\n",
      "Predicted: api\n",
      "Verdict: YES\n",
      "\n",
      "Average Metric: 16.00 / 16 (100.0%):  13%|█▎        | 16/119 [01:06<07:22,  4.30s/it]"
     ]
    },
    {
     "name": "stderr",
     "output_type": "stream",
     "text": [
      "2025/07/23 16:59:07 WARNING dspy.adapters.json_adapter: Failed to use structured output format, falling back to JSON mode.\n"
     ]
    },
    {
     "name": "stdout",
     "output_type": "stream",
     "text": [
      "Query: Find bus from Multan to Faisalabad tonight\n",
      "Predicted: api\n",
      "Verdict: YES\n",
      "\n",
      "Average Metric: 17.00 / 17 (100.0%):  14%|█▍        | 17/119 [01:08<06:03,  3.56s/it]Query: List buses from Lahore to Sialkot tomorrow morning\n",
      "Predicted: api\n",
      "Verdict: YES\n",
      "\n",
      "Average Metric: 18.00 / 18 (100.0%):  15%|█▌        | 18/119 [01:09<04:21,  2.59s/it]"
     ]
    },
    {
     "name": "stderr",
     "output_type": "stream",
     "text": [
      "2025/07/23 16:59:21 WARNING dspy.adapters.json_adapter: Failed to use structured output format, falling back to JSON mode.\n"
     ]
    },
    {
     "name": "stdout",
     "output_type": "stream",
     "text": [
      "Query: Show available hotels in Karachi for tonight\n",
      "Predicted: api\n",
      "Verdict: YES\n",
      "\n",
      "Average Metric: 19.00 / 19 (100.0%):  15%|█▌        | 18/119 [01:23<04:21,  2.59s/it]"
     ]
    },
    {
     "name": "stderr",
     "output_type": "stream",
     "text": [
      "2025/07/23 16:59:23 WARNING dspy.adapters.json_adapter: Failed to use structured output format, falling back to JSON mode.\n"
     ]
    },
    {
     "name": "stdout",
     "output_type": "stream",
     "text": [
      "Average Metric: 19.00 / 19 (100.0%):  16%|█▌        | 19/119 [01:23<10:24,  6.24s/it]Query: Is there any referral program?\n",
      "Predicted: static\n",
      "Verdict: YES\n",
      "Query: I need a hotel in Karachi tonight, can I cancel if plans change?\n",
      "Predicted: api\n",
      "Verdict: YES\n",
      "\n",
      "\n",
      "Average Metric: 21.00 / 21 (100.0%):  17%|█▋        | 20/119 [01:26<08:18,  5.04s/it]Query: Check flights from Lahore to Kuala Lumpur and baggage policy.\n",
      "Predicted: api\n",
      "Verdict: YES\n",
      "Query: Does Bookme offer discounts on flights?\n",
      "Predicted: static\n",
      "Verdict: YES\n",
      "\n",
      "\n",
      "Average Metric: 23.00 / 23 (100.0%):  18%|█▊        | 22/119 [01:27<04:59,  3.09s/it]"
     ]
    },
    {
     "name": "stderr",
     "output_type": "stream",
     "text": [
      "2025/07/23 16:59:39 WARNING dspy.adapters.json_adapter: Failed to use structured output format, falling back to JSON mode.\n",
      "2025/07/23 16:59:40 WARNING dspy.adapters.json_adapter: Failed to use structured output format, falling back to JSON mode.\n"
     ]
    },
    {
     "name": "stdout",
     "output_type": "stream",
     "text": [
      "Query: Is it possible to book movie tickets and cancel them later?\n",
      "Predicted: static\n",
      "Verdict: YES\n",
      "\n",
      "Average Metric: 24.00 / 24 (100.0%):  20%|██        | 24/119 [01:42<07:27,  4.71s/it]Query: Can I book a bus ticket from Multan to Faisalabad for tonight and get refund if not used?\n",
      "Predicted: api\n",
      "Verdict: YES\n",
      "\n",
      "Average Metric: 25.00 / 25 (100.0%):  21%|██        | 25/119 [01:43<06:10,  3.94s/it]Query: Can I pay for hotel booking via JazzCash and get refund in same account?\n",
      "Predicted: static\n",
      "Verdict: YES\n",
      "\n",
      "Average Metric: 26.00 / 26 (100.0%):  22%|██▏       | 26/119 [01:43<04:43,  3.05s/it]Query: How can I get a refund for my booked flight ticket from Bookme?\n",
      "Predicted: static\n",
      "Verdict: YES\n",
      "\n",
      "Average Metric: 27.00 / 27 (100.0%):  23%|██▎       | 27/119 [01:48<05:29,  3.58s/it]Query: Find me flights from Karachi to Dubai and tell me if they are refundable.\n",
      "Predicted: api\n",
      "Verdict: YES\n",
      "\n",
      "Average Metric: 28.00 / 28 (100.0%):  24%|██▎       | 28/119 [01:49<04:13,  2.78s/it]"
     ]
    },
    {
     "name": "stderr",
     "output_type": "stream",
     "text": [
      "2025/07/23 17:00:00 WARNING dspy.adapters.json_adapter: Failed to use structured output format, falling back to JSON mode.\n"
     ]
    },
    {
     "name": "stdout",
     "output_type": "stream",
     "text": [
      "Query: How to deactivate notifications?\n",
      "Predicted: static\n",
      "Verdict: YES\n",
      "\n",
      "Average Metric: 29.00 / 29 (100.0%):  24%|██▍       | 29/119 [02:02<08:33,  5.71s/it]"
     ]
    },
    {
     "name": "stderr",
     "output_type": "stream",
     "text": [
      "2025/07/23 17:00:02 WARNING dspy.adapters.json_adapter: Failed to use structured output format, falling back to JSON mode.\n"
     ]
    },
    {
     "name": "stdout",
     "output_type": "stream",
     "text": [
      "Query: Can I pay using JazzCash?\n",
      "Predicted: static\n",
      "Verdict: YES\n",
      "\n",
      "Average Metric: 30.00 / 30 (100.0%):  25%|██▌       | 30/119 [02:04<06:42,  4.53s/it]Query: Does Bookme sell event tickets?\n",
      "Predicted: static\n",
      "Verdict: YES\n",
      "\n",
      "Average Metric: 31.00 / 31 (100.0%):  26%|██▌       | 31/119 [02:04<05:03,  3.45s/it]Query: Where can I see my e-tickets?\n",
      "Predicted: static\n",
      "Verdict: YES\n",
      "\n",
      "Average Metric: 32.00 / 32 (100.0%):  27%|██▋       | 32/119 [02:06<04:03,  2.80s/it]Query: Is there a customer care number?\n",
      "Predicted: static\n",
      "Verdict: YES\n",
      "\n",
      "Average Metric: 33.00 / 33 (100.0%):  28%|██▊       | 33/119 [02:11<05:15,  3.67s/it]Query: How to check loyalty tier status?\n",
      "Predicted: static\n",
      "Verdict: YES\n",
      "\n",
      "Average Metric: 34.00 / 34 (100.0%):  29%|██▊       | 34/119 [02:14<04:54,  3.47s/it]"
     ]
    },
    {
     "name": "stderr",
     "output_type": "stream",
     "text": [
      "2025/07/23 17:00:15 WARNING dspy.adapters.json_adapter: Failed to use structured output format, falling back to JSON mode.\n"
     ]
    },
    {
     "name": "stdout",
     "output_type": "stream",
     "text": [
      "Query: Find hotels in Islamabad for next week\n",
      "Predicted: api\n",
      "Verdict: YES\n",
      "\n",
      "Average Metric: 35.00 / 35 (100.0%):  29%|██▉       | 35/119 [02:19<05:27,  3.90s/it]Query: Can I reserve a hotel in Naran for next week and cancel later without charges?\n",
      "Predicted: static\n",
      "Verdict: YES\n",
      "\n",
      "Average Metric: 36.00 / 36 (100.0%):  30%|███       | 36/119 [02:20<03:53,  2.81s/it]"
     ]
    },
    {
     "name": "stderr",
     "output_type": "stream",
     "text": [
      "2025/07/23 17:00:30 WARNING dspy.adapters.json_adapter: Failed to use structured output format, falling back to JSON mode.\n",
      "2025/07/23 17:00:31 WARNING dspy.adapters.json_adapter: Failed to use structured output format, falling back to JSON mode.\n"
     ]
    },
    {
     "name": "stdout",
     "output_type": "stream",
     "text": [
      "Query: Find me hotels in Murree for this weekend\n",
      "Predicted: api\n",
      "Verdict: YES\n",
      "\n",
      "Average Metric: 37.00 / 37 (100.0%):  31%|███       | 37/119 [02:32<07:45,  5.68s/it]Query: How to subscribe to Bookme newsletter?\n",
      "Predicted: static\n",
      "Verdict: YES\n",
      "\n",
      "Average Metric: 38.00 / 38 (100.0%):  32%|███▏      | 38/119 [02:33<05:55,  4.38s/it]Query: What are Bookme loyalty rewards?\n",
      "Predicted: static\n",
      "Verdict: YES\n",
      "\n",
      "Average Metric: 39.00 / 39 (100.0%):  33%|███▎      | 39/119 [02:35<04:35,  3.44s/it]Query: What are the timings for customer support?\n",
      "Predicted: static\n",
      "Verdict: YES\n",
      "\n",
      "Average Metric: 40.00 / 40 (100.0%):  34%|███▎      | 40/119 [02:35<03:28,  2.64s/it]"
     ]
    },
    {
     "name": "stderr",
     "output_type": "stream",
     "text": [
      "2025/07/23 17:00:44 WARNING dspy.adapters.json_adapter: Failed to use structured output format, falling back to JSON mode.\n"
     ]
    },
    {
     "name": "stdout",
     "output_type": "stream",
     "text": [
      "Query: Can I change passenger name after booking flight from Bookme?\n",
      "Predicted: static\n",
      "Verdict: YES\n",
      "\n",
      "Average Metric: 41.00 / 41 (100.0%):  34%|███▍      | 41/119 [02:46<06:29,  4.99s/it]"
     ]
    },
    {
     "name": "stderr",
     "output_type": "stream",
     "text": [
      "2025/07/23 17:00:46 WARNING dspy.adapters.json_adapter: Failed to use structured output format, falling back to JSON mode.\n"
     ]
    },
    {
     "name": "stdout",
     "output_type": "stream",
     "text": [
      "Query: Find hotels in Gilgit for upcoming weekend\n",
      "Predicted: api\n",
      "Verdict: YES\n",
      "\n",
      "Average Metric: 42.00 / 42 (100.0%):  35%|███▌      | 42/119 [02:47<05:01,  3.92s/it]Query: List flights from Karachi to Colombo next week\n",
      "Predicted: api\n",
      "Verdict: YES\n",
      "\n",
      "Average Metric: 43.00 / 43 (100.0%):  36%|███▌      | 43/119 [02:48<03:52,  3.06s/it]"
     ]
    },
    {
     "name": "stderr",
     "output_type": "stream",
     "text": [
      "2025/07/23 17:00:59 WARNING dspy.adapters.json_adapter: Failed to use structured output format, falling back to JSON mode.\n",
      "2025/07/23 17:01:00 WARNING dspy.adapters.json_adapter: Failed to use structured output format, falling back to JSON mode.\n"
     ]
    },
    {
     "name": "stdout",
     "output_type": "stream",
     "text": [
      "Query: What is the cancellation policy for flights?\n",
      "Predicted: static\n",
      "Verdict: YES\n",
      "\n",
      "Average Metric: 44.00 / 44 (100.0%):  37%|███▋      | 44/119 [03:01<07:28,  5.98s/it]Query: How to check my booking history?\n",
      "Predicted: static\n",
      "Verdict: YES\n",
      "\n",
      "Average Metric: 45.00 / 45 (100.0%):  38%|███▊      | 45/119 [03:02<05:34,  4.53s/it]Query: List buses Lahore to Rawalpindi today\n",
      "Predicted: api\n",
      "Verdict: YES\n",
      "\n",
      "Average Metric: 46.00 / 46 (100.0%):  39%|███▊      | 46/119 [03:03<04:09,  3.42s/it]Query: Can I cancel flight booked from Bookme and get refund in my wallet?\n",
      "Predicted: static\n",
      "Verdict: YES\n",
      "\n",
      "Average Metric: 47.00 / 47 (100.0%):  39%|███▉      | 47/119 [03:04<03:11,  2.66s/it]"
     ]
    },
    {
     "name": "stderr",
     "output_type": "stream",
     "text": [
      "2025/07/23 17:01:13 WARNING dspy.adapters.json_adapter: Failed to use structured output format, falling back to JSON mode.\n"
     ]
    },
    {
     "name": "stdout",
     "output_type": "stream",
     "text": [
      "Query: I need bus tickets Lahore to Rawalpindi today and refund details.\n",
      "Predicted: api\n",
      "Verdict: YES\n",
      "\n",
      "Average Metric: 48.00 / 48 (100.0%):  40%|████      | 48/119 [03:15<06:05,  5.15s/it]"
     ]
    },
    {
     "name": "stderr",
     "output_type": "stream",
     "text": [
      "2025/07/23 17:01:16 WARNING dspy.adapters.json_adapter: Failed to use structured output format, falling back to JSON mode.\n"
     ]
    },
    {
     "name": "stdout",
     "output_type": "stream",
     "text": [
      "Query: Show me Lahore to Multan buses tomorrow morning and their refund policy.\n",
      "Predicted: api\n",
      "Verdict: YES\n",
      "\n",
      "Average Metric: 49.00 / 49 (100.0%):  41%|████      | 49/119 [03:16<04:42,  4.03s/it]Query: Show bus from Karachi to Hyderabad today\n",
      "Predicted: api\n",
      "Verdict: YES\n",
      "\n",
      "Average Metric: 50.00 / 50 (100.0%):  42%|████▏     | 50/119 [03:19<04:14,  3.68s/it]Query: List hotels in Murree for upcoming Friday\n",
      "Predicted: api\n",
      "Verdict: YES\n",
      "\n",
      "Average Metric: 51.00 / 51 (100.0%):  43%|████▎     | 51/119 [03:20<03:12,  2.83s/it]"
     ]
    },
    {
     "name": "stderr",
     "output_type": "stream",
     "text": [
      "2025/07/23 17:01:30 WARNING dspy.adapters.json_adapter: Failed to use structured output format, falling back to JSON mode.\n",
      "2025/07/23 17:01:31 WARNING dspy.adapters.json_adapter: Failed to use structured output format, falling back to JSON mode.\n"
     ]
    },
    {
     "name": "stdout",
     "output_type": "stream",
     "text": [
      "Query: I want to book a flight from Karachi to Bangkok, what is the baggage allowance?\n",
      "Predicted: api\n",
      "Verdict: YES\n",
      "\n",
      "Average Metric: 52.00 / 52 (100.0%):  44%|████▎     | 52/119 [03:32<06:15,  5.60s/it]Query: Show me Lahore to Multan buses tomorrow morning\n",
      "Predicted: api\n",
      "Verdict: YES\n",
      "\n",
      "Average Metric: 53.00 / 53 (100.0%):  45%|████▍     | 53/119 [03:33<04:37,  4.21s/it]Query: How can I cancel my bus ticket?\n",
      "Predicted: static\n",
      "Verdict: YES\n",
      "\n",
      "Average Metric: 54.00 / 54 (100.0%):  45%|████▌     | 54/119 [03:33<03:19,  3.07s/it]Query: Check flights from Karachi to Dubai on 25th July\n",
      "Predicted: api\n",
      "Verdict: YES\n",
      "\n",
      "Average Metric: 55.00 / 55 (100.0%):  46%|████▌     | 55/119 [03:39<04:04,  3.81s/it]"
     ]
    },
    {
     "name": "stderr",
     "output_type": "stream",
     "text": [
      "2025/07/23 17:01:44 WARNING dspy.adapters.json_adapter: Failed to use structured output format, falling back to JSON mode.\n"
     ]
    },
    {
     "name": "stdout",
     "output_type": "stream",
     "text": [
      "Query: Can I book movie tickets through Bookme?\n",
      "Predicted: static\n",
      "Verdict: YES\n",
      "\n",
      "Average Metric: 56.00 / 56 (100.0%):  47%|████▋     | 56/119 [03:44<04:30,  4.29s/it]Query: How can I share my booking with someone?\n",
      "Predicted: static\n",
      "Verdict: YES\n",
      "\n",
      "Average Metric: 57.00 / 57 (100.0%):  48%|████▊     | 57/119 [03:47<03:56,  3.82s/it]Query: Can I change flight date after booking on Bookme.pk?\n",
      "Predicted: static\n",
      "Verdict: YES\n",
      "\n",
      "Average Metric: 58.00 / 58 (100.0%):  49%|████▊     | 58/119 [03:48<02:53,  2.84s/it]"
     ]
    },
    {
     "name": "stderr",
     "output_type": "stream",
     "text": [
      "2025/07/23 17:01:58 WARNING dspy.adapters.json_adapter: Failed to use structured output format, falling back to JSON mode.\n",
      "2025/07/23 17:01:59 WARNING dspy.adapters.json_adapter: Failed to use structured output format, falling back to JSON mode.\n"
     ]
    },
    {
     "name": "stdout",
     "output_type": "stream",
     "text": [
      "Query: Is there any student discount?\n",
      "Predicted: static\n",
      "Verdict: YES\n",
      "\n",
      "Average Metric: 59.00 / 59 (100.0%):  50%|████▉     | 59/119 [04:00<05:37,  5.63s/it]Query: List hotels in Naran for upcoming weekend\n",
      "Predicted: api\n",
      "Verdict: YES\n",
      "Query: I want to book a hotel in Lahore, does it allow early check-in?\n",
      "Predicted: static\n",
      "Verdict: YES\n",
      "\n",
      "Average Metric: 60.00 / 60 (100.0%):  50%|████▉     | 59/119 [04:01<05:37,  5.63s/it]\n",
      "Average Metric: 61.00 / 61 (100.0%):  50%|█████     | 60/119 [04:01<04:20,  4.42s/it]Query: Does Bookme charge any service fee?\n",
      "Predicted: static\n",
      "Verdict: YES\n",
      "\n",
      "Average Metric: 62.00 / 62 (100.0%):  52%|█████▏    | 62/119 [04:07<03:24,  3.59s/it]Query: How can I delete my Bookme account?\n",
      "Predicted: static\n",
      "Verdict: YES\n",
      "\n",
      "Average Metric: 63.00 / 63 (100.0%):  53%|█████▎    | 63/119 [04:07<02:41,  2.89s/it]"
     ]
    },
    {
     "name": "stderr",
     "output_type": "stream",
     "text": [
      "2025/07/23 17:02:16 WARNING dspy.adapters.json_adapter: Failed to use structured output format, falling back to JSON mode.\n",
      "2025/07/23 17:02:18 WARNING dspy.adapters.json_adapter: Failed to use structured output format, falling back to JSON mode.\n"
     ]
    },
    {
     "name": "stdout",
     "output_type": "stream",
     "text": [
      "Query: How long does it take to receive refund?\n",
      "Predicted: static\n",
      "Verdict: YES\n",
      "\n",
      "Average Metric: 64.00 / 64 (100.0%):  54%|█████▍    | 64/119 [04:19<04:42,  5.14s/it]Query: Find bus Lahore to Bahawalpur tonight\n",
      "Predicted: api\n",
      "Verdict: YES\n",
      "\n",
      "Average Metric: 65.00 / 65 (100.0%):  55%|█████▍    | 65/119 [04:20<03:39,  4.07s/it]Query: Can I book train tickets on Bookme?\n",
      "Predicted: static\n",
      "Verdict: YES\n",
      "\n",
      "Average Metric: 66.00 / 66 (100.0%):  55%|█████▌    | 66/119 [04:21<02:44,  3.11s/it]"
     ]
    },
    {
     "name": "stderr",
     "output_type": "stream",
     "text": [
      "2025/07/23 17:02:31 WARNING dspy.adapters.json_adapter: Failed to use structured output format, falling back to JSON mode.\n"
     ]
    },
    {
     "name": "stdout",
     "output_type": "stream",
     "text": [
      "Query: Search flights from Karachi to Doha this week\n",
      "Predicted: api\n",
      "Verdict: YES\n",
      "\n",
      "Average Metric: 67.00 / 67 (100.0%):  56%|█████▋    | 67/119 [04:33<04:57,  5.72s/it]"
     ]
    },
    {
     "name": "stderr",
     "output_type": "stream",
     "text": [
      "2025/07/23 17:02:33 WARNING dspy.adapters.json_adapter: Failed to use structured output format, falling back to JSON mode.\n"
     ]
    },
    {
     "name": "stdout",
     "output_type": "stream",
     "text": [
      "Query: Can I change email linked to my account?\n",
      "Predicted: static\n",
      "Verdict: YES\n",
      "Query: Find hotels in Muzaffarabad this week with refund facility.\n",
      "Predicted: api\n",
      "Verdict: YES\n",
      "\n",
      "\n",
      "Average Metric: 69.00 / 69 (100.0%):  58%|█████▊    | 69/119 [04:36<02:51,  3.42s/it]Query: Find buses from Islamabad to Abbottabad today\n",
      "Predicted: api\n",
      "Verdict: YES\n",
      "\n",
      "Average Metric: 70.00 / 70 (100.0%):  59%|█████▉    | 70/119 [04:39<02:48,  3.44s/it]Query: How to login if I forgot my password?\n",
      "Predicted: static\n",
      "Verdict: YES\n",
      "\n",
      "Average Metric: 71.00 / 71 (100.0%):  60%|█████▉    | 71/119 [04:45<03:12,  4.02s/it]"
     ]
    },
    {
     "name": "stderr",
     "output_type": "stream",
     "text": [
      "2025/07/23 17:02:47 WARNING dspy.adapters.json_adapter: Failed to use structured output format, falling back to JSON mode.\n"
     ]
    },
    {
     "name": "stdout",
     "output_type": "stream",
     "text": [
      "Query: Is it possible to book a flight from Lahore to Karachi and then have its refund 2 days later?\n",
      "Predicted: static\n",
      "Verdict: YES\n",
      "\n",
      "Average Metric: 72.00 / 72 (100.0%):  61%|██████    | 72/119 [04:48<03:00,  3.84s/it]Query: Show flights Karachi to Doha this week with cancellation policy.\n",
      "Predicted: api\n",
      "Verdict: YES\n",
      "\n",
      "Average Metric: 73.00 / 73 (100.0%):  61%|██████▏   | 73/119 [04:51<02:49,  3.69s/it]Query: I need to book a bus ticket and know refund policy before payment.\n",
      "Predicted: api\n",
      "Verdict: YES\n",
      "\n",
      "Average Metric: 74.00 / 74 (100.0%):  62%|██████▏   | 74/119 [04:52<02:05,  2.79s/it]"
     ]
    },
    {
     "name": "stderr",
     "output_type": "stream",
     "text": [
      "2025/07/23 17:03:02 WARNING dspy.adapters.json_adapter: Failed to use structured output format, falling back to JSON mode.\n",
      "2025/07/23 17:03:04 WARNING dspy.adapters.json_adapter: Failed to use structured output format, falling back to JSON mode.\n"
     ]
    },
    {
     "name": "stdout",
     "output_type": "stream",
     "text": [
      "Query: Show movie tickets in Lahore today\n",
      "Predicted: api\n",
      "Verdict: YES\n",
      "\n",
      "Average Metric: 75.00 / 75 (100.0%):  63%|██████▎   | 75/119 [05:05<04:15,  5.82s/it]Query: Check buses from Faisalabad to Multan tonight\n",
      "Predicted: api\n",
      "Verdict: YES\n",
      "\n",
      "Average Metric: 76.00 / 76 (100.0%):  64%|██████▍   | 76/119 [05:06<03:10,  4.44s/it]Query: Find me cheap flights to Dubai and tell me luggage limit.\n",
      "Predicted: api\n",
      "Verdict: YES\n",
      "\n",
      "Average Metric: 77.00 / 77 (100.0%):  65%|██████▍   | 77/119 [05:06<02:14,  3.20s/it]Query: Show bus timings from Lahore to Faisalabad tonight\n",
      "Predicted: api\n",
      "Verdict: YES\n",
      "\n",
      "Average Metric: 78.00 / 78 (100.0%):  66%|██████▌   | 78/119 [05:12<02:38,  3.86s/it]Query: How to redeem a voucher code?\n",
      "Predicted: static\n",
      "Verdict: YES\n",
      "\n",
      "Average Metric: 79.00 / 79 (100.0%):  66%|██████▋   | 79/119 [05:12<01:56,  2.92s/it]"
     ]
    },
    {
     "name": "stderr",
     "output_type": "stream",
     "text": [
      "2025/07/23 17:03:23 WARNING dspy.adapters.json_adapter: Failed to use structured output format, falling back to JSON mode.\n"
     ]
    },
    {
     "name": "stdout",
     "output_type": "stream",
     "text": [
      "Query: Find me hotel in Islamabad today and tell me if free cancellation available.\n",
      "Predicted: api\n",
      "Verdict: YES\n",
      "\n",
      "Average Metric: 80.00 / 80 (100.0%):  67%|██████▋   | 80/119 [05:25<03:44,  5.76s/it]Query: Show me flights from Lahore to Dubai tomorrow\n",
      "Predicted: api\n",
      "Verdict: YES\n",
      "\n",
      "Average Metric: 81.00 / 81 (100.0%):  68%|██████▊   | 81/119 [05:26<02:51,  4.50s/it]"
     ]
    },
    {
     "name": "stderr",
     "output_type": "stream",
     "text": [
      "2025/07/23 17:03:26 WARNING dspy.adapters.json_adapter: Failed to use structured output format, falling back to JSON mode.\n"
     ]
    },
    {
     "name": "stdout",
     "output_type": "stream",
     "text": [
      "Query: Does Bookme offer cashback?\n",
      "Predicted: static\n",
      "Verdict: YES\n",
      "\n",
      "Average Metric: 82.00 / 82 (100.0%):  69%|██████▉   | 82/119 [05:28<02:12,  3.58s/it]Query: Can I book an event ticket and cancel later for refund?\n",
      "Predicted: static\n",
      "Verdict: YES\n",
      "\n",
      "Average Metric: 83.00 / 83 (100.0%):  70%|██████▉   | 83/119 [05:29<01:39,  2.75s/it]"
     ]
    },
    {
     "name": "stderr",
     "output_type": "stream",
     "text": [
      "2025/07/23 17:03:40 WARNING dspy.adapters.json_adapter: Failed to use structured output format, falling back to JSON mode.\n"
     ]
    },
    {
     "name": "stdout",
     "output_type": "stream",
     "text": [
      "Query: Show me hotels in Lahore for tonight\n",
      "Predicted: api\n",
      "Verdict: YES\n",
      "\n",
      "Average Metric: 84.00 / 84 (100.0%):  71%|███████   | 84/119 [05:42<03:28,  5.97s/it]"
     ]
    },
    {
     "name": "stderr",
     "output_type": "stream",
     "text": [
      "2025/07/23 17:03:42 WARNING dspy.adapters.json_adapter: Failed to use structured output format, falling back to JSON mode.\n"
     ]
    },
    {
     "name": "stdout",
     "output_type": "stream",
     "text": [
      "Query: Can I pay with EasyPaisa?\n",
      "Predicted: static\n",
      "Verdict: YES\n",
      "\n",
      "Average Metric: 85.00 / 85 (100.0%):  71%|███████▏  | 85/119 [05:44<02:37,  4.64s/it]Query: List hotels in Swat for next weekend\n",
      "Predicted: api\n",
      "Verdict: YES\n",
      "\n",
      "Average Metric: 86.00 / 86 (100.0%):  72%|███████▏  | 86/119 [05:44<01:52,  3.41s/it]Query: Book me a hotel in Islamabad for tomorrow and tell me check-in policy.\n",
      "Predicted: api\n",
      "Verdict: YES\n",
      "\n",
      "Average Metric: 87.00 / 87 (100.0%):  73%|███████▎  | 87/119 [05:45<01:26,  2.72s/it]"
     ]
    },
    {
     "name": "stderr",
     "output_type": "stream",
     "text": [
      "2025/07/23 17:03:55 WARNING dspy.adapters.json_adapter: Failed to use structured output format, falling back to JSON mode.\n"
     ]
    },
    {
     "name": "stdout",
     "output_type": "stream",
     "text": [
      "Query: Does Bookme have a mobile app?\n",
      "Predicted: static\n",
      "Verdict: YES\n",
      "\n",
      "Average Metric: 88.00 / 88 (100.0%):  74%|███████▍  | 88/119 [05:57<02:51,  5.54s/it]Query: Check flights from Islamabad to Riyadh next week\n",
      "Predicted: api\n",
      "Verdict: YES\n",
      "\n",
      "Average Metric: 89.00 / 89 (100.0%):  75%|███████▍  | 89/119 [05:59<02:09,  4.33s/it]"
     ]
    },
    {
     "name": "stderr",
     "output_type": "stream",
     "text": [
      "2025/07/23 17:04:00 WARNING dspy.adapters.json_adapter: Failed to use structured output format, falling back to JSON mode.\n"
     ]
    },
    {
     "name": "stdout",
     "output_type": "stream",
     "text": [
      "Query: Show flights from Lahore to Dubai next Monday\n",
      "Predicted: api\n",
      "Verdict: YES\n",
      "\n",
      "Average Metric: 90.00 / 90 (100.0%):  76%|███████▌  | 90/119 [06:01<01:44,  3.61s/it]Query: Search hotels in Karachi for next Friday\n",
      "Predicted: api\n",
      "Verdict: YES\n",
      "\n",
      "Average Metric: 91.00 / 91 (100.0%):  76%|███████▋  | 91/119 [06:04<01:36,  3.45s/it]Query: Does Bookme support PayPal?\n",
      "Predicted: static\n",
      "Verdict: YES\n",
      "\n",
      "Average Metric: 92.00 / 92 (100.0%):  77%|███████▋  | 92/119 [06:05<01:10,  2.61s/it]"
     ]
    },
    {
     "name": "stderr",
     "output_type": "stream",
     "text": [
      "2025/07/23 17:04:15 WARNING dspy.adapters.json_adapter: Failed to use structured output format, falling back to JSON mode.\n"
     ]
    },
    {
     "name": "stdout",
     "output_type": "stream",
     "text": [
      "Query: Check buses from Islamabad to Abbottabad today and tell me refund policy.\n",
      "Predicted: api\n",
      "Verdict: YES\n",
      "\n",
      "Average Metric: 93.00 / 93 (100.0%):  78%|███████▊  | 93/119 [06:17<02:22,  5.47s/it]Query: Find hotels in Karachi near airport tonight\n",
      "Predicted: api\n",
      "Verdict: YES\n",
      "\n",
      "Average Metric: 94.00 / 94 (100.0%):  79%|███████▉  | 94/119 [06:18<01:46,  4.25s/it]"
     ]
    },
    {
     "name": "stderr",
     "output_type": "stream",
     "text": [
      "2025/07/23 17:04:19 WARNING dspy.adapters.json_adapter: Failed to use structured output format, falling back to JSON mode.\n"
     ]
    },
    {
     "name": "stdout",
     "output_type": "stream",
     "text": [
      "Query: How do I reset my password?\n",
      "Predicted: static\n",
      "Verdict: YES\n",
      "\n",
      "Average Metric: 95.00 / 95 (100.0%):  80%|███████▉  | 95/119 [06:20<01:27,  3.65s/it]Query: Book me a flight from Karachi to Muscat tomorrow and tell me hand carry limit.\n",
      "Predicted: api\n",
      "Verdict: YES\n",
      "\n",
      "Average Metric: 96.00 / 96 (100.0%):  81%|████████  | 96/119 [06:22<01:07,  2.92s/it]Query: How can I cancel my hotel booking made on Bookme.pk?\n",
      "Predicted: static\n",
      "Verdict: YES\n",
      "\n",
      "Average Metric: 97.00 / 97 (100.0%):  82%|████████▏ | 97/119 [06:27<01:19,  3.63s/it]Query: Find flights from Karachi to Singapore and tell me cancellation charges.\n",
      "Predicted: api\n",
      "Verdict: YES\n",
      "\n",
      "Average Metric: 98.00 / 98 (100.0%):  82%|████████▏ | 98/119 [06:33<01:31,  4.35s/it]"
     ]
    },
    {
     "name": "stderr",
     "output_type": "stream",
     "text": [
      "2025/07/23 17:04:33 WARNING dspy.adapters.json_adapter: Failed to use structured output format, falling back to JSON mode.\n"
     ]
    },
    {
     "name": "stdout",
     "output_type": "stream",
     "text": [
      "Query: How do I create an account on Bookme?\n",
      "Predicted: static\n",
      "Verdict: YES\n",
      "\n",
      "Average Metric: 99.00 / 99 (100.0%):  83%|████████▎ | 99/119 [06:35<01:13,  3.67s/it]Query: Can I change my seat after booking?\n",
      "Predicted: static\n",
      "Verdict: YES\n",
      "\n",
      "Average Metric: 100.00 / 100 (100.0%):  84%|████████▍ | 100/119 [06:35<00:50,  2.63s/it]"
     ]
    },
    {
     "name": "stderr",
     "output_type": "stream",
     "text": [
      "2025/07/23 17:04:46 WARNING dspy.adapters.json_adapter: Failed to use structured output format, falling back to JSON mode.\n",
      "2025/07/23 17:04:47 WARNING dspy.adapters.json_adapter: Failed to use structured output format, falling back to JSON mode.\n"
     ]
    },
    {
     "name": "stdout",
     "output_type": "stream",
     "text": [
      "Query: How to book a hotel on Bookme?\n",
      "Predicted: static\n",
      "Verdict: YES\n",
      "\n",
      "Average Metric: 101.00 / 101 (100.0%):  85%|████████▍ | 101/119 [06:48<01:44,  5.80s/it]Query: How do I update my profile information?\n",
      "Predicted: static\n",
      "Verdict: YES\n",
      "\n",
      "Average Metric: 102.00 / 102 (100.0%):  86%|████████▌ | 102/119 [06:49<01:12,  4.25s/it]Query: List buses from Lahore to Islamabad tomorrow night\n",
      "Predicted: api\n",
      "Verdict: YES\n",
      "\n",
      "Average Metric: 103.00 / 103 (100.0%):  87%|████████▋ | 103/119 [06:50<00:51,  3.24s/it]Query: Can I book cricket tickets on Bookme?\n",
      "Predicted: static\n",
      "Verdict: YES\n",
      "\n",
      "Average Metric: 104.00 / 104 (100.0%):  87%|████████▋ | 104/119 [06:55<00:58,  3.92s/it]"
     ]
    },
    {
     "name": "stderr",
     "output_type": "stream",
     "text": [
      "2025/07/23 17:05:00 WARNING dspy.adapters.json_adapter: Failed to use structured output format, falling back to JSON mode.\n"
     ]
    },
    {
     "name": "stdout",
     "output_type": "stream",
     "text": [
      "Query: Can I cancel my flight ticket and get a full refund within 24 hours?\n",
      "Predicted: static\n",
      "Verdict: YES\n",
      "\n",
      "Average Metric: 105.00 / 105 (100.0%):  88%|████████▊ | 105/119 [07:01<01:00,  4.34s/it]Query: Can I get cashback if I book flight tickets through Bookme.pk?\n",
      "Predicted: static\n",
      "Verdict: YES\n",
      "\n",
      "Average Metric: 106.00 / 106 (100.0%):  89%|████████▉ | 106/119 [07:04<00:50,  3.88s/it]Query: Can I book a bus ticket from Islamabad to Peshawar and get refund if I cancel?\n",
      "Predicted: static\n",
      "Verdict: YES\n",
      "\n",
      "Average Metric: 107.00 / 107 (100.0%):  90%|████████▉ | 107/119 [07:04<00:35,  2.95s/it]"
     ]
    },
    {
     "name": "stderr",
     "output_type": "stream",
     "text": [
      "2025/07/23 17:05:14 WARNING dspy.adapters.json_adapter: Failed to use structured output format, falling back to JSON mode.\n",
      "2025/07/23 17:05:15 WARNING dspy.adapters.json_adapter: Failed to use structured output format, falling back to JSON mode.\n"
     ]
    },
    {
     "name": "stdout",
     "output_type": "stream",
     "text": [
      "Query: How to use my wallet balance?\n",
      "Predicted: static\n",
      "Verdict: YES\n",
      "\n",
      "Average Metric: 108.00 / 108 (100.0%):  91%|█████████ | 108/119 [07:16<01:01,  5.61s/it]Query: List events in Karachi this weekend\n",
      "Predicted: api\n",
      "Verdict: YES\n",
      "\n",
      "Average Metric: 109.00 / 109 (100.0%):  92%|█████████▏| 109/119 [07:17<00:41,  4.20s/it]Query: Find flights from Islamabad to Jeddah next month\n",
      "Predicted: api\n",
      "Verdict: YES\n",
      "\n",
      "Average Metric: 110.00 / 110 (100.0%):  92%|█████████▏| 110/119 [07:18<00:27,  3.11s/it]Query: Are there any buses from Islamabad to Multan today?\n",
      "Predicted: api\n",
      "Verdict: YES\n",
      "\n",
      "Average Metric: 111.00 / 111 (100.0%):  93%|█████████▎| 111/119 [07:24<00:32,  4.05s/it]Query: Check flights to Dubai from Karachi tomorrow and tell me fare rules.\n",
      "Predicted: api\n",
      "Verdict: YES\n",
      "\n",
      "Average Metric: 112.00 / 112 (100.0%):  94%|█████████▍| 112/119 [07:27<00:26,  3.74s/it]"
     ]
    },
    {
     "name": "stderr",
     "output_type": "stream",
     "text": [
      "2025/07/23 17:05:31 WARNING dspy.adapters.json_adapter: Failed to use structured output format, falling back to JSON mode.\n"
     ]
    },
    {
     "name": "stdout",
     "output_type": "stream",
     "text": [
      "Query: How to check event schedules?\n",
      "Predicted: static\n",
      "Verdict: YES\n",
      "\n",
      "Average Metric: 113.00 / 113 (100.0%):  95%|█████████▍| 113/119 [07:32<00:25,  4.21s/it]Query: Show me hotels in Skardu with breakfast included and free cancellation.\n",
      "Predicted: api\n",
      "Verdict: YES\n",
      "\n",
      "Average Metric: 114.00 / 114 (100.0%):  96%|█████████▌| 114/119 [07:33<00:15,  3.07s/it]"
     ]
    },
    {
     "name": "stderr",
     "output_type": "stream",
     "text": [
      "2025/07/23 17:05:43 WARNING dspy.adapters.json_adapter: Failed to use structured output format, falling back to JSON mode.\n",
      "2025/07/23 17:05:43 WARNING dspy.adapters.json_adapter: Failed to use structured output format, falling back to JSON mode.\n"
     ]
    },
    {
     "name": "stdout",
     "output_type": "stream",
     "text": [
      "Query: Can I book a bus seat and later change it to another seat?\n",
      "Predicted: static\n",
      "Verdict: YES\n",
      "\n",
      "Average Metric: 115.00 / 115 (100.0%):  97%|█████████▋| 115/119 [07:45<00:23,  5.87s/it]Query: Check flights from Lahore to Kuala Lumpur this week\n",
      "Predicted: api\n",
      "Verdict: YES\n",
      "\n",
      "Average Metric: 116.00 / 116 (100.0%):  97%|█████████▋| 116/119 [07:46<00:12,  4.33s/it]Query: Can I cancel train tickets booked via Bookme.pk?\n",
      "Predicted: static\n",
      "Verdict: YES\n",
      "\n",
      "Average Metric: 117.00 / 117 (100.0%):  98%|█████████▊| 117/119 [07:47<00:06,  3.27s/it]Query: Check flights from Lahore to Doha next week\n",
      "Predicted: api\n",
      "Verdict: YES\n",
      "\n",
      "Average Metric: 118.00 / 118 (100.0%):  99%|█████████▉| 118/119 [07:48<00:02,  2.61s/it]"
     ]
    },
    {
     "name": "stderr",
     "output_type": "stream",
     "text": [
      "2025/07/23 17:05:56 WARNING dspy.adapters.json_adapter: Failed to use structured output format, falling back to JSON mode.\n"
     ]
    },
    {
     "name": "stdout",
     "output_type": "stream",
     "text": [
      "Query: Find me cheap flights to Dubai from Karachi\n",
      "Predicted: api\n",
      "Verdict: YES\n",
      "\n",
      "Average Metric: 119.00 / 119 (100.0%): 100%|██████████| 119/119 [07:58<00:00,  4.02s/it]"
     ]
    },
    {
     "name": "stderr",
     "output_type": "stream",
     "text": [
      "2025/07/23 17:05:57 INFO dspy.evaluate.evaluate: Average Metric: 119 / 119 (100.0%)\n"
     ]
    },
    {
     "name": "stdout",
     "output_type": "stream",
     "text": [
      "\n",
      "Scores so far: [86.55, 100.0, 100.0, 100.0]\n",
      "Best score so far: 100.0\n"
     ]
    },
    {
     "name": "stderr",
     "output_type": "stream",
     "text": [
      "  1%|          | 1/119 [00:02<04:10,  2.12s/it]"
     ]
    },
    {
     "name": "stdout",
     "output_type": "stream",
     "text": [
      "Query: Find me cheap flights to Dubai from Karachi\n",
      "Predicted: api\n",
      "Verdict: YES\n",
      "\n"
     ]
    },
    {
     "name": "stderr",
     "output_type": "stream",
     "text": [
      "  2%|▏         | 2/119 [00:05<05:09,  2.64s/it]\n"
     ]
    },
    {
     "name": "stdout",
     "output_type": "stream",
     "text": [
      "Query: Show me flights from Lahore to Dubai tomorrow\n",
      "Predicted: api\n",
      "Verdict: YES\n",
      "\n",
      "Bootstrapped 2 full traces after 2 examples for up to 1 rounds, amounting to 2 attempts.\n",
      "  0%|          | 0/119 [00:00<?, ?it/s]Query: Can I use Bookme without an account?\n",
      "Predicted: static\n",
      "Verdict: YES\n",
      "\n",
      "Average Metric: 1.00 / 1 (100.0%):   1%|          | 1/119 [00:03<06:19,  3.21s/it]Query: Show flights from Karachi to Doha next week with refund option.\n",
      "Predicted: api\n",
      "Verdict: YES\n",
      "\n",
      "Average Metric: 2.00 / 2 (100.0%):   2%|▏         | 2/119 [00:08<08:10,  4.19s/it]"
     ]
    },
    {
     "name": "stderr",
     "output_type": "stream",
     "text": [
      "2025/07/23 17:06:12 WARNING dspy.adapters.json_adapter: Failed to use structured output format, falling back to JSON mode.\n"
     ]
    },
    {
     "name": "stdout",
     "output_type": "stream",
     "text": [
      "Query: Search flights from Lahore to Istanbul this month\n",
      "Predicted: api\n",
      "Verdict: YES\n",
      "\n",
      "Average Metric: 3.00 / 3 (100.0%):   3%|▎         | 3/119 [00:11<07:17,  3.78s/it]Query: Check flights from Karachi to Muscat tomorrow\n",
      "Predicted: api\n",
      "Verdict: YES\n",
      "\n",
      "Average Metric: 4.00 / 4 (100.0%):   3%|▎         | 4/119 [00:16<08:22,  4.37s/it]"
     ]
    },
    {
     "name": "stderr",
     "output_type": "stream",
     "text": [
      "2025/07/23 17:06:20 WARNING dspy.adapters.json_adapter: Failed to use structured output format, falling back to JSON mode.\n"
     ]
    },
    {
     "name": "stdout",
     "output_type": "stream",
     "text": [
      "Query: How can I know if my booking is confirmed?\n",
      "Predicted: static\n",
      "Verdict: YES\n",
      "\n",
      "Average Metric: 5.00 / 5 (100.0%):   4%|▍         | 5/119 [00:19<07:14,  3.81s/it]Query: Find buses from Islamabad to Peshawar tonight\n",
      "Predicted: api\n",
      "Verdict: YES\n",
      "\n",
      "Average Metric: 6.00 / 6 (100.0%):   5%|▌         | 6/119 [00:20<05:04,  2.70s/it]"
     ]
    },
    {
     "name": "stderr",
     "output_type": "stream",
     "text": [
      "2025/07/23 17:06:31 WARNING dspy.adapters.json_adapter: Failed to use structured output format, falling back to JSON mode.\n",
      "2025/07/23 17:06:32 WARNING dspy.adapters.json_adapter: Failed to use structured output format, falling back to JSON mode.\n"
     ]
    },
    {
     "name": "stdout",
     "output_type": "stream",
     "text": [
      "Query: Check buses from Rawalpindi to Murree today\n",
      "Predicted: api\n",
      "Verdict: YES\n",
      "\n",
      "Average Metric: 7.00 / 7 (100.0%):   6%|▌         | 7/119 [00:29<09:19,  4.99s/it]Query: Book a hotel in Murree for upcoming Friday with free cancellation.\n",
      "Predicted: api\n",
      "Verdict: YES\n",
      "\n",
      "Average Metric: 8.00 / 8 (100.0%):   7%|▋         | 8/119 [00:30<07:01,  3.80s/it]Query: Search hotels in Skardu for next weekend\n",
      "Predicted: api\n",
      "Verdict: YES\n",
      "\n",
      "Average Metric: 9.00 / 9 (100.0%):   7%|▋         | 8/119 [00:31<07:01,  3.80s/it]"
     ]
    },
    {
     "name": "stderr",
     "output_type": "stream",
     "text": [
      "2025/07/23 17:06:43 WARNING dspy.adapters.json_adapter: Failed to use structured output format, falling back to JSON mode.\n",
      "2025/07/23 17:06:43 WARNING dspy.adapters.json_adapter: Failed to use structured output format, falling back to JSON mode.\n"
     ]
    },
    {
     "name": "stdout",
     "output_type": "stream",
     "text": [
      "Query: Find flights from Islamabad to Dubai this Friday\n",
      "Predicted: api\n",
      "Verdict: YES\n",
      "\n",
      "Average Metric: 10.00 / 10 (100.0%):   8%|▊         | 10/119 [00:41<08:10,  4.50s/it]Query: Find me hotels in Karachi tonight with free cancellation.\n",
      "Predicted: api\n",
      "Verdict: YES\n",
      "\n",
      "Average Metric: 11.00 / 11 (100.0%):   9%|▉         | 11/119 [00:41<06:07,  3.41s/it]"
     ]
    },
    {
     "name": "stderr",
     "output_type": "stream",
     "text": [
      "2025/07/23 17:06:56 WARNING dspy.adapters.json_adapter: Failed to use structured output format, falling back to JSON mode.\n",
      "2025/07/23 17:06:57 WARNING dspy.adapters.json_adapter: Failed to use structured output format, falling back to JSON mode.\n"
     ]
    },
    {
     "name": "stdout",
     "output_type": "stream",
     "text": [
      "Query: How can I contact Bookme support?\n",
      "Predicted: static\n",
      "Verdict: YES\n",
      "\n",
      "Average Metric: 12.00 / 12 (100.0%):  10%|█         | 12/119 [00:55<10:53,  6.11s/it]Query: Where is Bookme.pk headquartered?\n",
      "Predicted: static\n",
      "Verdict: YES\n",
      "\n",
      "Average Metric: 13.00 / 13 (100.0%):  11%|█         | 13/119 [00:55<07:58,  4.52s/it]Query: Is there a loyalty program for bus tickets?\n",
      "Predicted: static\n",
      "Verdict: YES\n",
      "\n",
      "Average Metric: 14.00 / 14 (100.0%):  12%|█▏        | 14/119 [00:57<06:24,  3.67s/it]Query: What payment methods are accepted?\n",
      "Predicted: static\n",
      "Verdict: YES\n",
      "\n",
      "Average Metric: 15.00 / 15 (100.0%):  13%|█▎        | 15/119 [00:57<04:36,  2.66s/it]"
     ]
    },
    {
     "name": "stderr",
     "output_type": "stream",
     "text": [
      "2025/07/23 17:07:10 WARNING dspy.adapters.json_adapter: Failed to use structured output format, falling back to JSON mode.\n"
     ]
    },
    {
     "name": "stdout",
     "output_type": "stream",
     "text": [
      "Query: List buses from Lahore to Sialkot tomorrow morning\n",
      "Predicted: api\n",
      "Verdict: YES\n",
      "\n",
      "Average Metric: 16.00 / 16 (100.0%):  13%|█▎        | 16/119 [01:08<09:02,  5.27s/it]"
     ]
    },
    {
     "name": "stderr",
     "output_type": "stream",
     "text": [
      "2025/07/23 17:07:13 WARNING dspy.adapters.json_adapter: Failed to use structured output format, falling back to JSON mode.\n"
     ]
    },
    {
     "name": "stdout",
     "output_type": "stream",
     "text": [
      "Query: Find bus from Multan to Faisalabad tonight\n",
      "Predicted: api\n",
      "Verdict: YES\n",
      "\n",
      "Average Metric: 17.00 / 17 (100.0%):  14%|█▍        | 17/119 [01:10<06:57,  4.10s/it]Query: Show flights from Lahore to Istanbul next month and refund options.\n",
      "Predicted: api\n",
      "Verdict: YES\n",
      "\n",
      "Average Metric: 18.00 / 18 (100.0%):  15%|█▌        | 18/119 [01:11<05:22,  3.20s/it]Query: Show available hotels in Karachi for tonight\n",
      "Predicted: api\n",
      "Verdict: YES\n",
      "\n",
      "Average Metric: 19.00 / 19 (100.0%):  15%|█▌        | 18/119 [01:11<05:22,  3.20s/it]"
     ]
    },
    {
     "name": "stderr",
     "output_type": "stream",
     "text": [
      "2025/07/23 17:07:23 WARNING dspy.adapters.json_adapter: Failed to use structured output format, falling back to JSON mode.\n",
      "2025/07/23 17:07:24 WARNING dspy.adapters.json_adapter: Failed to use structured output format, falling back to JSON mode.\n"
     ]
    },
    {
     "name": "stdout",
     "output_type": "stream",
     "text": [
      "Query: Is there any referral program?\n",
      "Predicted: static\n",
      "Verdict: YES\n",
      "\n",
      "Average Metric: 20.00 / 20 (100.0%):  17%|█▋        | 20/119 [01:21<06:48,  4.13s/it]Query: I need a hotel in Karachi tonight, can I cancel if plans change?\n",
      "Predicted: api\n",
      "Verdict: YES\n",
      "\n",
      "Average Metric: 21.00 / 21 (100.0%):  18%|█▊        | 21/119 [01:22<05:33,  3.40s/it]Query: Check flights from Lahore to Kuala Lumpur and baggage policy.\n",
      "Predicted: api\n",
      "Verdict: YES\n",
      "\n",
      "Average Metric: 22.00 / 22 (100.0%):  18%|█▊        | 22/119 [01:23<04:08,  2.56s/it]"
     ]
    },
    {
     "name": "stderr",
     "output_type": "stream",
     "text": [
      "2025/07/23 17:07:35 WARNING dspy.adapters.json_adapter: Failed to use structured output format, falling back to JSON mode.\n",
      "2025/07/23 17:07:35 WARNING dspy.adapters.json_adapter: Failed to use structured output format, falling back to JSON mode.\n"
     ]
    },
    {
     "name": "stdout",
     "output_type": "stream",
     "text": [
      "Query: Does Bookme offer discounts on flights?\n",
      "Predicted: static\n",
      "Verdict: YES\n",
      "\n",
      "Average Metric: 23.00 / 23 (100.0%):  19%|█▉        | 23/119 [01:33<07:26,  4.65s/it]Query: Is it possible to book movie tickets and cancel them later?\n",
      "Predicted: static\n",
      "Verdict: YES\n",
      "\n",
      "Average Metric: 24.00 / 24 (100.0%):  20%|██        | 24/119 [01:33<05:22,  3.39s/it]"
     ]
    },
    {
     "name": "stderr",
     "output_type": "stream",
     "text": [
      "2025/07/23 17:07:47 WARNING dspy.adapters.json_adapter: Failed to use structured output format, falling back to JSON mode.\n",
      "2025/07/23 17:07:48 WARNING dspy.adapters.json_adapter: Failed to use structured output format, falling back to JSON mode.\n"
     ]
    },
    {
     "name": "stdout",
     "output_type": "stream",
     "text": [
      "Query: Can I pay for hotel booking via JazzCash and get refund in same account?\n",
      "Predicted: static\n",
      "Verdict: YES\n",
      "\n",
      "Average Metric: 25.00 / 25 (100.0%):  21%|██        | 25/119 [01:46<09:31,  6.08s/it]Query: Can I book a bus ticket from Multan to Faisalabad for tonight and get refund if not used?\n",
      "Predicted: static\n",
      "Verdict: YES\n",
      "\n",
      "Average Metric: 26.00 / 26 (100.0%):  22%|██▏       | 26/119 [01:46<06:47,  4.38s/it]Query: Find me flights from Karachi to Dubai and tell me if they are refundable.\n",
      "Predicted: api\n",
      "Verdict: YES\n",
      "\n",
      "Average Metric: 27.00 / 27 (100.0%):  23%|██▎       | 27/119 [01:47<05:19,  3.48s/it]Query: How can I get a refund for my booked flight ticket from Bookme?\n",
      "Predicted: static\n",
      "Verdict: YES\n",
      "\n",
      "Average Metric: 28.00 / 28 (100.0%):  24%|██▎       | 28/119 [01:48<04:03,  2.67s/it]"
     ]
    },
    {
     "name": "stderr",
     "output_type": "stream",
     "text": [
      "2025/07/23 17:07:59 WARNING dspy.adapters.json_adapter: Failed to use structured output format, falling back to JSON mode.\n"
     ]
    },
    {
     "name": "stdout",
     "output_type": "stream",
     "text": [
      "Query: How to deactivate notifications?\n",
      "Predicted: static\n",
      "Verdict: YES\n",
      "\n",
      "Average Metric: 29.00 / 29 (100.0%):  24%|██▍       | 29/119 [01:57<07:00,  4.67s/it]"
     ]
    },
    {
     "name": "stderr",
     "output_type": "stream",
     "text": [
      "2025/07/23 17:08:02 WARNING dspy.adapters.json_adapter: Failed to use structured output format, falling back to JSON mode.\n"
     ]
    },
    {
     "name": "stdout",
     "output_type": "stream",
     "text": [
      "Query: Does Bookme sell event tickets?\n",
      "Predicted: static\n",
      "Verdict: YES\n",
      "\n",
      "Average Metric: 30.00 / 30 (100.0%):  25%|██▌       | 30/119 [02:00<05:53,  3.97s/it]Query: Can I pay using JazzCash?\n",
      "Predicted: static\n",
      "Verdict: YES\n",
      "\n",
      "Average Metric: 31.00 / 31 (100.0%):  26%|██▌       | 31/119 [02:00<04:24,  3.00s/it]"
     ]
    },
    {
     "name": "stderr",
     "output_type": "stream",
     "text": [
      "2025/07/23 17:08:12 WARNING dspy.adapters.json_adapter: Failed to use structured output format, falling back to JSON mode.\n",
      "2025/07/23 17:08:13 WARNING dspy.adapters.json_adapter: Failed to use structured output format, falling back to JSON mode.\n"
     ]
    },
    {
     "name": "stdout",
     "output_type": "stream",
     "text": [
      "Query: Where can I see my e-tickets?\n",
      "Predicted: static\n",
      "Verdict: YES\n",
      "\n",
      "Average Metric: 32.00 / 32 (100.0%):  27%|██▋       | 32/119 [02:10<07:20,  5.06s/it]Query: Find hotels in Islamabad for next week\n",
      "Predicted: api\n",
      "Verdict: YES\n",
      "\n",
      "Average Metric: 33.00 / 33 (100.0%):  28%|██▊       | 33/119 [02:11<05:27,  3.81s/it]Query: Is there a customer care number?\n",
      "Predicted: static\n",
      "Verdict: YES\n",
      "\n",
      "Average Metric: 34.00 / 34 (100.0%):  29%|██▊       | 34/119 [02:12<03:58,  2.81s/it]"
     ]
    },
    {
     "name": "stderr",
     "output_type": "stream",
     "text": [
      "2025/07/23 17:08:24 WARNING dspy.adapters.json_adapter: Failed to use structured output format, falling back to JSON mode.\n",
      "2025/07/23 17:08:25 WARNING dspy.adapters.json_adapter: Failed to use structured output format, falling back to JSON mode.\n"
     ]
    },
    {
     "name": "stdout",
     "output_type": "stream",
     "text": [
      "Query: How to check loyalty tier status?\n",
      "Predicted: static\n",
      "Verdict: YES\n",
      "\n",
      "Average Metric: 35.00 / 35 (100.0%):  29%|██▉       | 35/119 [02:22<07:07,  5.09s/it]Query: Can I reserve a hotel in Naran for next week and cancel later without charges?\n",
      "Predicted: static\n",
      "Verdict: YES\n",
      "\n",
      "Average Metric: 36.00 / 36 (100.0%):  30%|███       | 36/119 [02:23<05:18,  3.83s/it]Query: Find me hotels in Murree for this weekend\n",
      "Predicted: api\n",
      "Verdict: YES\n",
      "\n",
      "Average Metric: 37.00 / 37 (100.0%):  31%|███       | 37/119 [02:24<03:58,  2.91s/it]"
     ]
    },
    {
     "name": "stderr",
     "output_type": "stream",
     "text": [
      "2025/07/23 17:08:36 WARNING dspy.adapters.json_adapter: Failed to use structured output format, falling back to JSON mode.\n",
      "2025/07/23 17:08:36 WARNING dspy.adapters.json_adapter: Failed to use structured output format, falling back to JSON mode.\n"
     ]
    },
    {
     "name": "stdout",
     "output_type": "stream",
     "text": [
      "Query: How to subscribe to Bookme newsletter?\n",
      "Predicted: static\n",
      "Verdict: YES\n",
      "\n",
      "Average Metric: 38.00 / 38 (100.0%):  32%|███▏      | 38/119 [02:34<07:01,  5.20s/it]Query: What are Bookme loyalty rewards?\n",
      "Predicted: static\n",
      "Verdict: YES\n",
      "\n",
      "Average Metric: 39.00 / 39 (100.0%):  32%|███▏      | 38/119 [02:34<07:01,  5.20s/it]Query: What are the timings for customer support?\n",
      "Predicted: static\n",
      "Verdict: YES\n",
      "\n",
      "Average Metric: 40.00 / 40 (100.0%):  34%|███▎      | 40/119 [02:36<04:03,  3.08s/it]"
     ]
    },
    {
     "name": "stderr",
     "output_type": "stream",
     "text": [
      "2025/07/23 17:13:55 WARNING dspy.adapters.json_adapter: Failed to use structured output format, falling back to JSON mode.\n"
     ]
    },
    {
     "name": "stdout",
     "output_type": "stream",
     "text": [
      "Query: Can I change passenger name after booking flight from Bookme?\n",
      "Predicted: static\n",
      "Verdict: YES\n",
      "\n",
      "Average Metric: 41.00 / 41 (100.0%):  34%|███▍      | 41/119 [08:00<1:47:35, 82.77s/it]"
     ]
    },
    {
     "name": "stderr",
     "output_type": "stream",
     "text": [
      "2025/07/23 17:14:06 WARNING dspy.adapters.json_adapter: Failed to use structured output format, falling back to JSON mode.\n"
     ]
    },
    {
     "name": "stdout",
     "output_type": "stream",
     "text": [
      "Query: Find hotels in Gilgit for upcoming weekend\n",
      "Predicted: api\n",
      "Verdict: YES\n",
      "\n",
      "Average Metric: 42.00 / 42 (100.0%):  35%|███▌      | 42/119 [08:03<1:19:34, 62.00s/it]Query: List flights from Karachi to Colombo next week\n",
      "Predicted: api\n",
      "Verdict: YES\n",
      "\n",
      "Average Metric: 43.00 / 43 (100.0%):  36%|███▌      | 43/119 [08:08<58:43, 46.37s/it]  Query: What is the cancellation policy for flights?\n",
      "Predicted: static\n",
      "Verdict: YES\n",
      "\n",
      "Average Metric: 44.00 / 44 (100.0%):  37%|███▋      | 44/119 [08:09<41:58, 33.58s/it]Query: How to check my booking history?\n",
      "Predicted: static\n",
      "Verdict: YES\n",
      "\n",
      "Average Metric: 45.00 / 45 (100.0%):  38%|███▊      | 45/119 [08:10<30:10, 24.47s/it]Query: List buses Lahore to Rawalpindi today\n",
      "Predicted: api\n",
      "Verdict: YES\n",
      "\n",
      "Average Metric: 46.00 / 46 (100.0%):  39%|███▊      | 46/119 [08:11<21:24, 17.60s/it]Query: Can I cancel flight booked from Bookme and get refund in my wallet?\n",
      "Predicted: static\n",
      "Verdict: YES\n",
      "\n",
      "Average Metric: 47.00 / 47 (100.0%):  39%|███▉      | 47/119 [08:12<15:23, 12.83s/it]Query: I need bus tickets Lahore to Rawalpindi today and refund details.\n",
      "Predicted: api\n",
      "Verdict: YES\n",
      "\n",
      "Average Metric: 48.00 / 48 (100.0%):  40%|████      | 48/119 [08:13<11:00,  9.30s/it]Query: Show me Lahore to Multan buses tomorrow morning and their refund policy.\n",
      "Predicted: api\n",
      "Verdict: YES\n",
      "\n",
      "Average Metric: 49.00 / 49 (100.0%):  41%|████      | 49/119 [08:15<08:16,  7.10s/it]Query: Show bus from Karachi to Hyderabad today\n",
      "Predicted: api\n",
      "Verdict: YES\n",
      "\n",
      "Average Metric: 50.00 / 50 (100.0%):  42%|████▏     | 50/119 [08:15<05:48,  5.06s/it]Query: I want to book a flight from Karachi to Bangkok, what is the baggage allowance?\n",
      "Predicted: api\n",
      "Verdict: YES\n",
      "\n",
      "Average Metric: 51.00 / 51 (100.0%):  43%|████▎     | 51/119 [08:20<05:32,  4.90s/it]Query: List hotels in Murree for upcoming Friday\n",
      "Predicted: api\n",
      "Verdict: YES\n",
      "\n",
      "Average Metric: 52.00 / 52 (100.0%):  44%|████▎     | 52/119 [08:20<03:56,  3.54s/it]Query: How can I cancel my bus ticket?\n",
      "Predicted: static\n",
      "Verdict: YES\n",
      "\n",
      "Average Metric: 53.00 / 53 (100.0%):  45%|████▍     | 53/119 [08:23<03:39,  3.33s/it]Query: Show me Lahore to Multan buses tomorrow morning\n",
      "Predicted: api\n",
      "Verdict: YES\n",
      "\n",
      "Average Metric: 54.00 / 54 (100.0%):  45%|████▌     | 54/119 [08:24<02:44,  2.53s/it]Query: Can I change flight date after booking on Bookme.pk?\n",
      "Predicted: static\n",
      "Verdict: YES\n",
      "\n",
      "Average Metric: 55.00 / 55 (100.0%):  46%|████▌     | 55/119 [08:27<02:55,  2.75s/it]Query: Check flights from Karachi to Dubai on 25th July\n",
      "Predicted: api\n",
      "Verdict: YES\n",
      "\n",
      "Average Metric: 56.00 / 56 (100.0%):  47%|████▋     | 56/119 [08:28<02:16,  2.17s/it]Query: Can I book movie tickets through Bookme?\n",
      "Predicted: static\n",
      "Verdict: YES\n",
      "\n",
      "Average Metric: 57.00 / 57 (100.0%):  48%|████▊     | 57/119 [08:29<01:59,  1.92s/it]Query: Is there any student discount?\n",
      "Predicted: static\n",
      "Verdict: YES\n",
      "Query: How can I share my booking with someone?\n",
      "Predicted: static\n",
      "Verdict: YES\n",
      "\n",
      "\n",
      "Average Metric: 59.00 / 59 (100.0%):  50%|████▉     | 59/119 [08:31<01:25,  1.43s/it]Query: I want to book a hotel in Lahore, does it allow early check-in?\n",
      "Predicted: static\n",
      "Verdict: YES\n",
      "\n",
      "Average Metric: 60.00 / 60 (100.0%):  50%|█████     | 60/119 [08:34<01:44,  1.78s/it]Query: List hotels in Naran for upcoming weekend\n",
      "Predicted: api\n",
      "Verdict: YES\n",
      "\n",
      "Average Metric: 61.00 / 61 (100.0%):  51%|█████▏    | 61/119 [08:35<01:35,  1.64s/it]Query: Does Bookme charge any service fee?\n",
      "Predicted: static\n",
      "Verdict: YES\n",
      "\n",
      "Average Metric: 62.00 / 62 (100.0%):  52%|█████▏    | 62/119 [08:36<01:18,  1.38s/it]Query: How long does it take to receive refund?\n",
      "Predicted: static\n",
      "Verdict: YES\n",
      "\n",
      "Average Metric: 63.00 / 63 (100.0%):  53%|█████▎    | 63/119 [08:39<01:42,  1.83s/it]Query: How can I delete my Bookme account?\n",
      "Predicted: static\n",
      "Verdict: YES\n",
      "\n",
      "Average Metric: 64.00 / 64 (100.0%):  54%|█████▍    | 64/119 [08:40<01:33,  1.69s/it]Query: Find bus Lahore to Bahawalpur tonight\n",
      "Predicted: api\n",
      "Verdict: YES\n",
      "\n",
      "Average Metric: 65.00 / 65 (100.0%):  55%|█████▍    | 65/119 [08:41<01:19,  1.47s/it]Query: Can I book train tickets on Bookme?\n",
      "Predicted: static\n",
      "Verdict: YES\n",
      "\n",
      "Average Metric: 66.00 / 66 (100.0%):  55%|█████▌    | 66/119 [08:42<01:07,  1.27s/it]Query: Search flights from Karachi to Doha this week\n",
      "Predicted: api\n",
      "Verdict: YES\n",
      "\n",
      "Average Metric: 67.00 / 67 (100.0%):  56%|█████▋    | 67/119 [08:47<02:09,  2.48s/it]Query: Find hotels in Muzaffarabad this week with refund facility.\n",
      "Predicted: api\n",
      "Verdict: YES\n",
      "\n",
      "Average Metric: 68.00 / 68 (100.0%):  56%|█████▋    | 67/119 [08:47<02:09,  2.48s/it]"
     ]
    },
    {
     "name": "stderr",
     "output_type": "stream",
     "text": [
      "2025/07/23 17:15:02 WARNING dspy.adapters.json_adapter: Failed to use structured output format, falling back to JSON mode.\n",
      "2025/07/23 17:15:03 WARNING dspy.adapters.json_adapter: Failed to use structured output format, falling back to JSON mode.\n"
     ]
    },
    {
     "name": "stdout",
     "output_type": "stream",
     "text": [
      "Query: Can I change email linked to my account?\n",
      "Predicted: static\n",
      "Verdict: YES\n",
      "\n",
      "Average Metric: 69.00 / 69 (100.0%):  58%|█████▊    | 69/119 [09:00<03:37,  4.36s/it]Query: Find buses from Islamabad to Abbottabad today\n",
      "Predicted: api\n",
      "Verdict: YES\n",
      "\n",
      "Average Metric: 70.00 / 70 (100.0%):  59%|█████▉    | 70/119 [09:02<02:55,  3.58s/it]Query: I need to book a bus ticket and know refund policy before payment.\n",
      "Predicted: api\n",
      "Verdict: YES\n",
      "\n",
      "Average Metric: 71.00 / 71 (100.0%):  60%|█████▉    | 71/119 [09:02<02:09,  2.70s/it]Query: How to login if I forgot my password?\n",
      "Predicted: static\n",
      "Verdict: YES\n",
      "\n",
      "Average Metric: 72.00 / 72 (100.0%):  61%|██████    | 72/119 [09:07<02:39,  3.39s/it]Query: Is it possible to book a flight from Lahore to Karachi and then have its refund 2 days later?\n",
      "Predicted: static\n",
      "Verdict: YES\n",
      "\n",
      "Average Metric: 73.00 / 73 (100.0%):  61%|██████▏   | 73/119 [09:08<01:58,  2.57s/it]"
     ]
    },
    {
     "name": "stderr",
     "output_type": "stream",
     "text": [
      "2025/07/23 17:15:22 WARNING dspy.adapters.json_adapter: Failed to use structured output format, falling back to JSON mode.\n",
      "2025/07/23 17:15:24 WARNING dspy.adapters.json_adapter: Failed to use structured output format, falling back to JSON mode.\n"
     ]
    },
    {
     "name": "stdout",
     "output_type": "stream",
     "text": [
      "Query: Show flights Karachi to Doha this week with cancellation policy.\n",
      "Predicted: api\n",
      "Verdict: YES\n",
      "\n",
      "Average Metric: 74.00 / 74 (100.0%):  62%|██████▏   | 74/119 [09:21<04:18,  5.74s/it]Query: Show movie tickets in Lahore today\n",
      "Predicted: api\n",
      "Verdict: YES\n",
      "\n",
      "Average Metric: 75.00 / 75 (100.0%):  63%|██████▎   | 75/119 [09:22<03:09,  4.32s/it]Query: Check buses from Faisalabad to Multan tonight\n",
      "Predicted: api\n",
      "Verdict: YES\n",
      "\n",
      "Average Metric: 76.00 / 76 (100.0%):  64%|██████▍   | 76/119 [09:23<02:21,  3.30s/it]Query: Find me cheap flights to Dubai and tell me luggage limit.\n",
      "Predicted: api\n",
      "Verdict: YES\n",
      "\n",
      "Average Metric: 77.00 / 77 (100.0%):  65%|██████▍   | 77/119 [09:24<01:47,  2.56s/it]"
     ]
    },
    {
     "name": "stderr",
     "output_type": "stream",
     "text": [
      "2025/07/23 17:15:39 WARNING dspy.adapters.json_adapter: Failed to use structured output format, falling back to JSON mode.\n"
     ]
    },
    {
     "name": "stdout",
     "output_type": "stream",
     "text": [
      "Query: Show bus timings from Lahore to Faisalabad tonight\n",
      "Predicted: api\n",
      "Verdict: YES\n",
      "\n",
      "Average Metric: 78.00 / 78 (100.0%):  66%|██████▌   | 78/119 [09:37<03:53,  5.70s/it]"
     ]
    },
    {
     "name": "stderr",
     "output_type": "stream",
     "text": [
      "2025/07/23 17:15:41 WARNING dspy.adapters.json_adapter: Failed to use structured output format, falling back to JSON mode.\n"
     ]
    },
    {
     "name": "stdout",
     "output_type": "stream",
     "text": [
      "Query: Find me hotel in Islamabad today and tell me if free cancellation available.\n",
      "Predicted: api\n",
      "Verdict: YES\n",
      "\n",
      "Average Metric: 79.00 / 79 (100.0%):  66%|██████▋   | 79/119 [09:39<02:59,  4.50s/it]Query: How to redeem a voucher code?\n",
      "Predicted: static\n",
      "Verdict: YES\n",
      "\n",
      "Average Metric: 80.00 / 80 (100.0%):  67%|██████▋   | 80/119 [09:40<02:15,  3.48s/it]Query: Can I book an event ticket and cancel later for refund?\n",
      "Predicted: static\n",
      "Verdict: YES\n",
      "\n",
      "Average Metric: 81.00 / 81 (100.0%):  68%|██████▊   | 81/119 [09:40<01:41,  2.67s/it]Query: Does Bookme offer cashback?\n",
      "Predicted: static\n",
      "Verdict: YES\n",
      "\n",
      "Average Metric: 82.00 / 82 (100.0%):  69%|██████▉   | 82/119 [09:46<02:10,  3.53s/it]"
     ]
    },
    {
     "name": "stderr",
     "output_type": "stream",
     "text": [
      "2025/07/23 17:15:55 WARNING dspy.adapters.json_adapter: Failed to use structured output format, falling back to JSON mode.\n"
     ]
    },
    {
     "name": "stdout",
     "output_type": "stream",
     "text": [
      "Query: Show me hotels in Lahore for tonight\n",
      "Predicted: api\n",
      "Verdict: YES\n",
      "\n",
      "Average Metric: 83.00 / 83 (100.0%):  70%|██████▉   | 83/119 [09:52<02:37,  4.36s/it]Query: Show me flights from Lahore to Dubai tomorrow\n",
      "Predicted: api\n",
      "Verdict: YES\n",
      "\n",
      "Average Metric: 84.00 / 84 (100.0%):  71%|███████   | 84/119 [09:53<01:59,  3.41s/it]Query: List hotels in Swat for next weekend\n",
      "Predicted: api\n",
      "Verdict: YES\n",
      "\n",
      "Average Metric: 85.00 / 85 (100.0%):  71%|███████▏  | 85/119 [09:54<01:26,  2.54s/it]"
     ]
    },
    {
     "name": "stderr",
     "output_type": "stream",
     "text": [
      "2025/07/23 17:16:09 WARNING dspy.adapters.json_adapter: Failed to use structured output format, falling back to JSON mode.\n",
      "2025/07/23 17:16:10 WARNING dspy.adapters.json_adapter: Failed to use structured output format, falling back to JSON mode.\n"
     ]
    },
    {
     "name": "stdout",
     "output_type": "stream",
     "text": [
      "Query: Can I pay with EasyPaisa?\n",
      "Predicted: static\n",
      "Verdict: YES\n",
      "\n",
      "Average Metric: 86.00 / 86 (100.0%):  72%|███████▏  | 86/119 [10:07<03:11,  5.80s/it]Query: Book me a hotel in Islamabad for tomorrow and tell me check-in policy.\n",
      "Predicted: api\n",
      "Verdict: YES\n",
      "\n",
      "Average Metric: 87.00 / 87 (100.0%):  73%|███████▎  | 87/119 [10:08<02:17,  4.31s/it]Query: Does Bookme have a mobile app?\n",
      "Predicted: static\n",
      "Verdict: YES\n",
      "\n",
      "Average Metric: 88.00 / 88 (100.0%):  74%|███████▍  | 88/119 [10:09<01:41,  3.27s/it]Query: Does Bookme support PayPal?\n",
      "Predicted: static\n",
      "Verdict: YES\n",
      "\n",
      "Average Metric: 89.00 / 89 (100.0%):  75%|███████▍  | 89/119 [10:10<01:15,  2.52s/it]"
     ]
    },
    {
     "name": "stderr",
     "output_type": "stream",
     "text": [
      "2025/07/23 17:16:23 WARNING dspy.adapters.json_adapter: Failed to use structured output format, falling back to JSON mode.\n",
      "2025/07/23 17:16:25 WARNING dspy.adapters.json_adapter: Failed to use structured output format, falling back to JSON mode.\n"
     ]
    },
    {
     "name": "stdout",
     "output_type": "stream",
     "text": [
      "Query: Check flights from Islamabad to Riyadh next week\n",
      "Predicted: api\n",
      "Verdict: YES\n",
      "\n",
      "Average Metric: 90.00 / 90 (100.0%):  76%|███████▌  | 90/119 [10:22<02:37,  5.45s/it]Query: Show flights from Lahore to Dubai next Monday\n",
      "Predicted: api\n",
      "Verdict: YES\n",
      "\n",
      "Average Metric: 91.00 / 91 (100.0%):  76%|███████▋  | 91/119 [10:23<01:54,  4.10s/it]Query: Search hotels in Karachi for next Friday\n",
      "Predicted: api\n",
      "Verdict: YES\n",
      "\n",
      "Average Metric: 92.00 / 92 (100.0%):  77%|███████▋  | 92/119 [10:24<01:22,  3.07s/it]"
     ]
    },
    {
     "name": "stderr",
     "output_type": "stream",
     "text": [
      "2025/07/23 17:16:38 WARNING dspy.adapters.json_adapter: Failed to use structured output format, falling back to JSON mode.\n"
     ]
    },
    {
     "name": "stdout",
     "output_type": "stream",
     "text": [
      "Query: Check buses from Islamabad to Abbottabad today and tell me refund policy.\n",
      "Predicted: api\n",
      "Verdict: YES\n",
      "\n",
      "Average Metric: 93.00 / 93 (100.0%):  78%|███████▊  | 93/119 [10:36<02:31,  5.84s/it]Query: Find hotels in Karachi near airport tonight\n",
      "Predicted: api\n",
      "Verdict: YES\n",
      "\n",
      "Average Metric: 94.00 / 94 (100.0%):  79%|███████▉  | 94/119 [10:38<01:54,  4.57s/it]"
     ]
    },
    {
     "name": "stderr",
     "output_type": "stream",
     "text": [
      "2025/07/23 17:16:43 WARNING dspy.adapters.json_adapter: Failed to use structured output format, falling back to JSON mode.\n"
     ]
    },
    {
     "name": "stdout",
     "output_type": "stream",
     "text": [
      "Query: How do I reset my password?\n",
      "Predicted: static\n",
      "Verdict: YES\n",
      "\n",
      "Average Metric: 95.00 / 95 (100.0%):  80%|███████▉  | 95/119 [10:40<01:31,  3.81s/it]Query: Can I change my seat after booking?\n",
      "Predicted: static\n",
      "Verdict: YES\n",
      "\n",
      "Average Metric: 96.00 / 96 (100.0%):  81%|████████  | 96/119 [10:42<01:14,  3.23s/it]"
     ]
    },
    {
     "name": "stderr",
     "output_type": "stream",
     "text": [
      "2025/07/23 17:16:48 ERROR dspy.utils.parallelizer: Error for Example({'Query': 'Book me a flight from Karachi to Muscat tomorrow and tell me hand carry limit.', 'Type': 'api'}) (input_keys={'Query'}): Both structured output format and JSON mode failed. Please choose a model that supports `response_format` argument. Original error: litellm.RateLimitError: RateLimitError: GroqException - {\"error\":{\"message\":\"Rate limit reached for model `llama3-8b-8192` in organization `org_01jhwfgpqte6as1x3p9kbavvjj` service tier `on_demand` on tokens per minute (TPM): Limit 100000, Used 93109, Requested 6941. Please try again in 29.6ms. Need more tokens? Visit https://groq.com/self-serve-support/ to request higher limits.\",\"type\":\"tokens\",\"code\":\"rate_limit_exceeded\"}}\n",
      ". Set `provide_traceback=True` for traceback.\n"
     ]
    },
    {
     "name": "stdout",
     "output_type": "stream",
     "text": [
      "Average Metric: 96.00 / 96 (100.0%):  82%|████████▏ | 97/119 [10:44<01:08,  3.10s/it]Query: Find flights from Karachi to Singapore and tell me cancellation charges.\n",
      "Predicted: api\n",
      "Verdict: YES\n",
      "\n",
      "Average Metric: 97.00 / 97 (100.0%):  82%|████████▏ | 98/119 [10:46<00:57,  2.72s/it]Query: How can I cancel my hotel booking made on Bookme.pk?\n",
      "Predicted: static\n",
      "Verdict: YES\n",
      "\n",
      "Average Metric: 98.00 / 98 (100.0%):  83%|████████▎ | 99/119 [10:48<00:46,  2.33s/it]Query: How do I update my profile information?\n",
      "Predicted: static\n",
      "Verdict: YES\n",
      "\n",
      "Average Metric: 99.00 / 99 (100.0%):  84%|████████▍ | 100/119 [10:53<01:04,  3.39s/it]"
     ]
    },
    {
     "name": "stderr",
     "output_type": "stream",
     "text": [
      "2025/07/23 17:17:01 WARNING dspy.adapters.json_adapter: Failed to use structured output format, falling back to JSON mode.\n"
     ]
    },
    {
     "name": "stdout",
     "output_type": "stream",
     "text": [
      "Query: How to book a hotel on Bookme?\n",
      "Predicted: static\n",
      "Verdict: YES\n",
      "\n",
      "Average Metric: 100.00 / 100 (100.0%):  85%|████████▍ | 101/119 [10:59<01:12,  4.04s/it]Query: How do I create an account on Bookme?\n",
      "Predicted: static\n",
      "Verdict: YES\n",
      "\n",
      "Average Metric: 101.00 / 101 (100.0%):  86%|████████▌ | 102/119 [11:00<00:52,  3.07s/it]Query: List buses from Lahore to Islamabad tomorrow night\n",
      "Predicted: api\n",
      "Verdict: YES\n",
      "\n",
      "Average Metric: 102.00 / 102 (100.0%):  87%|████████▋ | 103/119 [11:05<01:00,  3.79s/it]Query: Can I get cashback if I book flight tickets through Bookme.pk?\n",
      "Predicted: static\n",
      "Verdict: YES\n",
      "\n",
      "Average Metric: 103.00 / 103 (100.0%):  87%|████████▋ | 104/119 [11:06<00:41,  2.78s/it]"
     ]
    },
    {
     "name": "stderr",
     "output_type": "stream",
     "text": [
      "2025/07/23 17:17:20 WARNING dspy.adapters.json_adapter: Failed to use structured output format, falling back to JSON mode.\n",
      "2025/07/23 17:17:21 WARNING dspy.adapters.json_adapter: Failed to use structured output format, falling back to JSON mode.\n"
     ]
    },
    {
     "name": "stdout",
     "output_type": "stream",
     "text": [
      "Query: Can I book cricket tickets on Bookme?\n",
      "Predicted: static\n",
      "Verdict: YES\n",
      "\n",
      "Average Metric: 104.00 / 104 (100.0%):  88%|████████▊ | 105/119 [11:18<01:18,  5.58s/it]Query: Can I cancel my flight ticket and get a full refund within 24 hours?\n",
      "Predicted: static\n",
      "Verdict: YES\n",
      "\n",
      "Average Metric: 105.00 / 105 (100.0%):  89%|████████▉ | 106/119 [11:20<00:57,  4.42s/it]Query: Can I book a bus ticket from Islamabad to Peshawar and get refund if I cancel?\n",
      "Predicted: static\n",
      "Verdict: YES\n",
      "\n",
      "Average Metric: 106.00 / 106 (100.0%):  90%|████████▉ | 107/119 [11:20<00:39,  3.31s/it]Query: How to use my wallet balance?\n",
      "Predicted: static\n",
      "Verdict: YES\n",
      "\n",
      "Average Metric: 107.00 / 107 (100.0%):  91%|█████████ | 108/119 [11:21<00:28,  2.57s/it]"
     ]
    },
    {
     "name": "stderr",
     "output_type": "stream",
     "text": [
      "2025/07/23 17:17:35 WARNING dspy.adapters.json_adapter: Failed to use structured output format, falling back to JSON mode.\n",
      "2025/07/23 17:17:37 WARNING dspy.adapters.json_adapter: Failed to use structured output format, falling back to JSON mode.\n"
     ]
    },
    {
     "name": "stdout",
     "output_type": "stream",
     "text": [
      "Query: List events in Karachi this weekend\n",
      "Predicted: api\n",
      "Verdict: YES\n",
      "\n",
      "Average Metric: 108.00 / 108 (100.0%):  92%|█████████▏| 109/119 [11:34<00:55,  5.57s/it]Query: Find flights from Islamabad to Jeddah next month\n",
      "Predicted: api\n",
      "Verdict: YES\n",
      "\n",
      "Average Metric: 109.00 / 109 (100.0%):  92%|█████████▏| 110/119 [11:35<00:38,  4.26s/it]Query: Show me hotels in Skardu with breakfast included and free cancellation.\n",
      "Predicted: api\n",
      "Verdict: YES\n",
      "\n",
      "Average Metric: 110.00 / 110 (100.0%):  93%|█████████▎| 111/119 [11:36<00:25,  3.18s/it]Query: Are there any buses from Islamabad to Multan today?\n",
      "Predicted: api\n",
      "Verdict: YES\n",
      "\n",
      "Average Metric: 111.00 / 111 (100.0%):  94%|█████████▍| 112/119 [11:41<00:27,  3.95s/it]Query: Check flights to Dubai from Karachi tomorrow and tell me fare rules.\n",
      "Predicted: api\n",
      "Verdict: YES\n",
      "\n",
      "Average Metric: 112.00 / 112 (100.0%):  95%|█████████▍| 113/119 [11:42<00:17,  2.92s/it]"
     ]
    },
    {
     "name": "stderr",
     "output_type": "stream",
     "text": [
      "2025/07/23 17:17:57 WARNING dspy.adapters.json_adapter: Failed to use structured output format, falling back to JSON mode.\n",
      "2025/07/23 17:17:57 WARNING dspy.adapters.json_adapter: Failed to use structured output format, falling back to JSON mode.\n"
     ]
    },
    {
     "name": "stdout",
     "output_type": "stream",
     "text": [
      "Query: How to check event schedules?\n",
      "Predicted: static\n",
      "Verdict: YES\n",
      "\n",
      "Average Metric: 113.00 / 113 (100.0%):  96%|█████████▌| 114/119 [11:55<00:30,  6.02s/it]Query: Can I book a bus seat and later change it to another seat?\n",
      "Predicted: static\n",
      "Verdict: YES\n",
      "\n",
      "Average Metric: 114.00 / 114 (100.0%):  97%|█████████▋| 115/119 [11:55<00:17,  4.28s/it]Query: Can I cancel train tickets booked via Bookme.pk?\n",
      "Predicted: static\n",
      "Verdict: YES\n",
      "\n",
      "Average Metric: 115.00 / 115 (100.0%):  97%|█████████▋| 116/119 [11:57<00:10,  3.42s/it]Query: Check flights from Lahore to Kuala Lumpur this week\n",
      "Predicted: api\n",
      "Verdict: YES\n",
      "\n",
      "Average Metric: 116.00 / 116 (100.0%):  98%|█████████▊| 117/119 [11:57<00:05,  2.55s/it]"
     ]
    },
    {
     "name": "stderr",
     "output_type": "stream",
     "text": [
      "2025/07/23 17:18:11 WARNING dspy.adapters.json_adapter: Failed to use structured output format, falling back to JSON mode.\n",
      "2025/07/23 17:18:13 WARNING dspy.adapters.json_adapter: Failed to use structured output format, falling back to JSON mode.\n"
     ]
    },
    {
     "name": "stdout",
     "output_type": "stream",
     "text": [
      "Query: Check flights from Lahore to Doha next week\n",
      "Predicted: api\n",
      "Verdict: YES\n",
      "\n",
      "Average Metric: 117.00 / 117 (100.0%):  99%|█████████▉| 118/119 [12:10<00:05,  5.65s/it]Query: Find me cheap flights to Dubai from Karachi\n",
      "Predicted: api\n",
      "Verdict: YES\n",
      "\n",
      "Average Metric: 118.00 / 118 (100.0%): 100%|██████████| 119/119 [12:11<00:00,  6.15s/it]"
     ]
    },
    {
     "name": "stderr",
     "output_type": "stream",
     "text": [
      "2025/07/23 17:18:15 INFO dspy.evaluate.evaluate: Average Metric: 118.0 / 119 (99.2%)\n"
     ]
    },
    {
     "name": "stdout",
     "output_type": "stream",
     "text": [
      "\n",
      "Scores so far: [86.55, 100.0, 100.0, 100.0, 99.16]\n",
      "Best score so far: 100.0\n"
     ]
    },
    {
     "name": "stderr",
     "output_type": "stream",
     "text": [
      "  1%|          | 1/119 [00:01<03:51,  1.96s/it]\n"
     ]
    },
    {
     "name": "stdout",
     "output_type": "stream",
     "text": [
      "Query: Find flights from Islamabad to Jeddah next month\n",
      "Predicted: api\n",
      "Verdict: YES\n",
      "\n",
      "Bootstrapped 1 full traces after 1 examples for up to 1 rounds, amounting to 1 attempts.\n",
      "  0%|          | 0/119 [00:00<?, ?it/s]Query: Search flights from Lahore to Istanbul this month\n",
      "Predicted: api\n",
      "Verdict: YES\n",
      "\n",
      "Query: Can I use Bookme without an account?\n",
      "Predicted: static\n",
      "Verdict: YES\n",
      "\n",
      "Average Metric: 2.00 / 2 (100.0%):   1%|          | 1/119 [00:03<06:40,  3.39s/it]"
     ]
    },
    {
     "name": "stderr",
     "output_type": "stream",
     "text": [
      "2025/07/23 17:18:36 WARNING dspy.adapters.json_adapter: Failed to use structured output format, falling back to JSON mode.\n",
      "2025/07/23 17:18:37 WARNING dspy.adapters.json_adapter: Failed to use structured output format, falling back to JSON mode.\n"
     ]
    },
    {
     "name": "stdout",
     "output_type": "stream",
     "text": [
      "Query: Show flights from Karachi to Doha next week with refund option.\n",
      "Predicted: api\n",
      "Verdict: YES\n",
      "\n",
      "Average Metric: 3.00 / 3 (100.0%):   3%|▎         | 3/119 [00:19<13:10,  6.82s/it]Query: Find buses from Islamabad to Peshawar tonight\n",
      "Predicted: api\n",
      "Verdict: YES\n",
      "\n",
      "Average Metric: 4.00 / 4 (100.0%):   3%|▎         | 4/119 [00:20<09:13,  4.81s/it]Query: Check flights from Karachi to Muscat tomorrow\n",
      "Predicted: api\n",
      "Verdict: YES\n",
      "\n",
      "Average Metric: 5.00 / 5 (100.0%):   4%|▍         | 5/119 [00:20<06:18,  3.32s/it]Query: How can I know if my booking is confirmed?\n",
      "Predicted: static\n",
      "Verdict: YES\n",
      "\n",
      "Average Metric: 6.00 / 6 (100.0%):   5%|▌         | 6/119 [00:21<04:57,  2.64s/it]Query: Check buses from Rawalpindi to Murree today\n",
      "Predicted: api\n",
      "Verdict: YES\n",
      "\n",
      "Average Metric: 7.00 / 7 (100.0%):   6%|▌         | 7/119 [00:22<03:55,  2.10s/it]"
     ]
    },
    {
     "name": "stderr",
     "output_type": "stream",
     "text": [
      "2025/07/23 17:18:52 WARNING dspy.adapters.json_adapter: Failed to use structured output format, falling back to JSON mode.\n",
      "2025/07/23 17:18:52 WARNING dspy.adapters.json_adapter: Failed to use structured output format, falling back to JSON mode.\n"
     ]
    },
    {
     "name": "stdout",
     "output_type": "stream",
     "text": [
      "Query: Book a hotel in Murree for upcoming Friday with free cancellation.\n",
      "Predicted: api\n",
      "Verdict: YES\n",
      "\n",
      "Average Metric: 8.00 / 8 (100.0%):   7%|▋         | 8/119 [00:35<10:04,  5.44s/it]Query: Search hotels in Skardu for next weekend\n",
      "Predicted: api\n",
      "Verdict: YES\n",
      "\n",
      "Average Metric: 9.00 / 9 (100.0%):   8%|▊         | 9/119 [00:36<07:03,  3.85s/it]Query: Find me hotels in Karachi tonight with free cancellation.\n",
      "Predicted: api\n",
      "Verdict: YES\n",
      "\n",
      "Average Metric: 10.00 / 10 (100.0%):   8%|▊         | 10/119 [00:38<06:08,  3.38s/it]Query: Find flights from Islamabad to Dubai this Friday\n",
      "Predicted: api\n",
      "Verdict: YES\n",
      "\n",
      "Average Metric: 11.00 / 11 (100.0%):   9%|▉         | 11/119 [00:39<04:42,  2.62s/it]"
     ]
    },
    {
     "name": "stderr",
     "output_type": "stream",
     "text": [
      "2025/07/23 17:19:07 WARNING dspy.adapters.json_adapter: Failed to use structured output format, falling back to JSON mode.\n"
     ]
    },
    {
     "name": "stdout",
     "output_type": "stream",
     "text": [
      "Query: How can I contact Bookme support?\n",
      "Predicted: static\n",
      "Verdict: YES\n",
      "\n",
      "Average Metric: 12.00 / 12 (100.0%):  10%|█         | 12/119 [00:50<09:35,  5.38s/it]"
     ]
    },
    {
     "name": "stderr",
     "output_type": "stream",
     "text": [
      "2025/07/23 17:19:09 WARNING dspy.adapters.json_adapter: Failed to use structured output format, falling back to JSON mode.\n"
     ]
    },
    {
     "name": "stdout",
     "output_type": "stream",
     "text": [
      "Query: What payment methods are accepted?\n",
      "Predicted: static\n",
      "Verdict: YES\n",
      "\n",
      "Average Metric: 13.00 / 13 (100.0%):  11%|█         | 13/119 [00:52<07:26,  4.21s/it]Query: Where is Bookme.pk headquartered?\n",
      "Predicted: static\n",
      "Verdict: YES\n",
      "\n",
      "Average Metric: 14.00 / 14 (100.0%):  12%|█▏        | 14/119 [00:53<05:32,  3.17s/it]Query: Is there a loyalty program for bus tickets?\n",
      "Predicted: static\n",
      "Verdict: YES\n",
      "\n",
      "Average Metric: 15.00 / 15 (100.0%):  13%|█▎        | 15/119 [00:54<04:17,  2.47s/it]"
     ]
    },
    {
     "name": "stderr",
     "output_type": "stream",
     "text": [
      "2025/07/23 17:19:21 WARNING dspy.adapters.json_adapter: Failed to use structured output format, falling back to JSON mode.\n",
      "2025/07/23 17:19:22 WARNING dspy.adapters.json_adapter: Failed to use structured output format, falling back to JSON mode.\n"
     ]
    },
    {
     "name": "stdout",
     "output_type": "stream",
     "text": [
      "Query: Show flights from Lahore to Istanbul next month and refund options.\n",
      "Predicted: api\n",
      "Verdict: YES\n",
      "\n",
      "Average Metric: 16.00 / 16 (100.0%):  13%|█▎        | 16/119 [01:05<08:55,  5.20s/it]Query: List buses from Lahore to Sialkot tomorrow morning\n",
      "Predicted: api\n",
      "Verdict: YES\n",
      "\n",
      "Average Metric: 17.00 / 17 (100.0%):  14%|█▍        | 17/119 [01:05<06:17,  3.70s/it]Query: Find bus from Multan to Faisalabad tonight\n",
      "Predicted: api\n",
      "Verdict: YES\n",
      "\n",
      "Average Metric: 18.00 / 18 (100.0%):  15%|█▌        | 18/119 [01:11<07:05,  4.21s/it]Query: Show available hotels in Karachi for tonight\n",
      "Predicted: api\n",
      "Verdict: YES\n",
      "\n",
      "Average Metric: 19.00 / 19 (100.0%):  16%|█▌        | 19/119 [01:11<05:13,  3.14s/it]"
     ]
    },
    {
     "name": "stderr",
     "output_type": "stream",
     "text": [
      "2025/07/23 17:19:40 WARNING dspy.adapters.json_adapter: Failed to use structured output format, falling back to JSON mode.\n"
     ]
    },
    {
     "name": "stdout",
     "output_type": "stream",
     "text": [
      "Query: I need a hotel in Karachi tonight, can I cancel if plans change?\n",
      "Predicted: api\n",
      "Verdict: YES\n",
      "\n",
      "Average Metric: 20.00 / 20 (100.0%):  17%|█▋        | 20/119 [01:24<10:06,  6.13s/it]Query: Check flights from Lahore to Kuala Lumpur and baggage policy.\n",
      "Predicted: api\n",
      "Verdict: YES\n",
      "\n",
      "Average Metric: 21.00 / 21 (100.0%):  18%|█▊        | 21/119 [01:26<07:46,  4.76s/it]"
     ]
    },
    {
     "name": "stderr",
     "output_type": "stream",
     "text": [
      "2025/07/23 17:19:45 WARNING dspy.adapters.json_adapter: Failed to use structured output format, falling back to JSON mode.\n"
     ]
    },
    {
     "name": "stdout",
     "output_type": "stream",
     "text": [
      "Query: Does Bookme offer discounts on flights?\n",
      "Predicted: static\n",
      "Verdict: YES\n",
      "\n",
      "Average Metric: 22.00 / 22 (100.0%):  18%|█▊        | 22/119 [01:27<06:03,  3.75s/it]Query: Is there any referral program?\n",
      "Predicted: static\n",
      "Verdict: YES\n",
      "\n",
      "Average Metric: 23.00 / 23 (100.0%):  19%|█▉        | 23/119 [01:28<04:40,  2.92s/it]Query: Is it possible to book movie tickets and cancel them later?\n",
      "Predicted: static\n",
      "Verdict: YES\n",
      "\n",
      "Average Metric: 24.00 / 24 (100.0%):  20%|██        | 24/119 [01:29<03:28,  2.19s/it]"
     ]
    },
    {
     "name": "stderr",
     "output_type": "stream",
     "text": [
      "2025/07/23 17:19:57 WARNING dspy.adapters.json_adapter: Failed to use structured output format, falling back to JSON mode.\n"
     ]
    },
    {
     "name": "stdout",
     "output_type": "stream",
     "text": [
      "Query: Can I book a bus ticket from Multan to Faisalabad for tonight and get refund if not used?\n",
      "Predicted: static\n",
      "Verdict: YES\n",
      "\n",
      "Average Metric: 25.00 / 25 (100.0%):  21%|██        | 25/119 [01:41<07:52,  5.02s/it]"
     ]
    },
    {
     "name": "stderr",
     "output_type": "stream",
     "text": [
      "2025/07/23 17:19:59 WARNING dspy.adapters.json_adapter: Failed to use structured output format, falling back to JSON mode.\n"
     ]
    },
    {
     "name": "stdout",
     "output_type": "stream",
     "text": [
      "Query: How can I get a refund for my booked flight ticket from Bookme?\n",
      "Predicted: static\n",
      "Verdict: YES\n",
      "\n",
      "Average Metric: 26.00 / 26 (100.0%):  22%|██▏       | 26/119 [01:42<06:15,  4.03s/it]Query: Can I pay for hotel booking via JazzCash and get refund in same account?\n",
      "Predicted: static\n",
      "Verdict: YES\n",
      "\n",
      "Average Metric: 27.00 / 27 (100.0%):  23%|██▎       | 27/119 [01:42<04:25,  2.89s/it]"
     ]
    },
    {
     "name": "stderr",
     "output_type": "stream",
     "text": [
      "2025/07/23 17:20:12 WARNING dspy.adapters.json_adapter: Failed to use structured output format, falling back to JSON mode.\n",
      "2025/07/23 17:20:13 WARNING dspy.adapters.json_adapter: Failed to use structured output format, falling back to JSON mode.\n"
     ]
    },
    {
     "name": "stdout",
     "output_type": "stream",
     "text": [
      "Query: Find me flights from Karachi to Dubai and tell me if they are refundable.\n",
      "Predicted: api\n",
      "Verdict: YES\n",
      "\n",
      "Average Metric: 28.00 / 28 (100.0%):  24%|██▎       | 28/119 [01:56<09:02,  5.96s/it]Query: How to deactivate notifications?\n",
      "Predicted: static\n",
      "Verdict: YES\n",
      "\n",
      "Average Metric: 29.00 / 29 (100.0%):  24%|██▍       | 29/119 [01:57<06:45,  4.50s/it]Query: Does Bookme sell event tickets?\n",
      "Predicted: static\n",
      "Verdict: YES\n",
      "\n",
      "Average Metric: 30.00 / 30 (100.0%):  25%|██▌       | 30/119 [01:57<04:51,  3.28s/it]Query: Can I pay using JazzCash?\n",
      "Predicted: static\n",
      "Verdict: YES\n",
      "\n",
      "Average Metric: 31.00 / 31 (100.0%):  26%|██▌       | 31/119 [01:58<03:57,  2.70s/it]"
     ]
    },
    {
     "name": "stderr",
     "output_type": "stream",
     "text": [
      "2025/07/23 17:20:25 WARNING dspy.adapters.json_adapter: Failed to use structured output format, falling back to JSON mode.\n"
     ]
    },
    {
     "name": "stdout",
     "output_type": "stream",
     "text": [
      "Query: Where can I see my e-tickets?\n",
      "Predicted: static\n",
      "Verdict: YES\n",
      "\n",
      "Average Metric: 32.00 / 32 (100.0%):  27%|██▋       | 32/119 [02:09<07:11,  4.96s/it]"
     ]
    },
    {
     "name": "stderr",
     "output_type": "stream",
     "text": [
      "2025/07/23 17:20:28 WARNING dspy.adapters.json_adapter: Failed to use structured output format, falling back to JSON mode.\n"
     ]
    },
    {
     "name": "stdout",
     "output_type": "stream",
     "text": [
      "Query: Is there a customer care number?\n",
      "Predicted: static\n",
      "Verdict: YES\n",
      "\n",
      "Average Metric: 33.00 / 33 (100.0%):  28%|██▊       | 33/119 [02:10<05:42,  3.98s/it]Query: Find hotels in Islamabad for next week\n",
      "Predicted: api\n",
      "Verdict: YES\n",
      "\n",
      "Average Metric: 34.00 / 34 (100.0%):  29%|██▊       | 34/119 [02:13<05:11,  3.67s/it]Query: How to check loyalty tier status?\n",
      "Predicted: static\n",
      "Verdict: YES\n",
      "\n",
      "Average Metric: 35.00 / 35 (100.0%):  29%|██▉       | 35/119 [02:14<03:42,  2.65s/it]"
     ]
    },
    {
     "name": "stderr",
     "output_type": "stream",
     "text": [
      "2025/07/23 17:20:43 WARNING dspy.adapters.json_adapter: Failed to use structured output format, falling back to JSON mode.\n",
      "2025/07/23 17:20:43 WARNING dspy.adapters.json_adapter: Failed to use structured output format, falling back to JSON mode.\n"
     ]
    },
    {
     "name": "stdout",
     "output_type": "stream",
     "text": [
      "Query: Can I reserve a hotel in Naran for next week and cancel later without charges?\n",
      "Predicted: static\n",
      "Verdict: YES\n",
      "\n",
      "Average Metric: 36.00 / 36 (100.0%):  30%|███       | 36/119 [02:26<07:47,  5.63s/it]Query: Find me hotels in Murree for this weekend\n",
      "Predicted: api\n",
      "Verdict: YES\n",
      "\n",
      "Average Metric: 37.00 / 37 (100.0%):  31%|███       | 37/119 [02:27<05:43,  4.19s/it]Query: How to subscribe to Bookme newsletter?\n",
      "Predicted: static\n",
      "Verdict: YES\n",
      "\n",
      "Average Metric: 38.00 / 38 (100.0%):  32%|███▏      | 38/119 [02:28<04:13,  3.13s/it]Query: What are the timings for customer support?\n",
      "Predicted: static\n",
      "Verdict: YES\n",
      "\n",
      "Average Metric: 39.00 / 39 (100.0%):  33%|███▎      | 39/119 [02:34<05:21,  4.02s/it]Query: Can I change passenger name after booking flight from Bookme?\n",
      "Predicted: static\n",
      "Verdict: YES\n",
      "\n",
      "Average Metric: 40.00 / 40 (100.0%):  34%|███▎      | 40/119 [02:37<04:52,  3.70s/it]"
     ]
    },
    {
     "name": "stderr",
     "output_type": "stream",
     "text": [
      "2025/07/23 17:20:59 WARNING dspy.adapters.json_adapter: Failed to use structured output format, falling back to JSON mode.\n"
     ]
    },
    {
     "name": "stdout",
     "output_type": "stream",
     "text": [
      "Query: List flights from Karachi to Colombo next week\n",
      "Predicted: api\n",
      "Verdict: YES\n",
      "\n",
      "Average Metric: 41.00 / 41 (100.0%):  34%|███▍      | 41/119 [02:42<05:31,  4.25s/it]Query: What are Bookme loyalty rewards?\n",
      "Predicted: static\n",
      "Verdict: YES\n",
      "\n",
      "Average Metric: 42.00 / 42 (100.0%):  35%|███▌      | 42/119 [02:43<04:05,  3.19s/it]"
     ]
    },
    {
     "name": "stderr",
     "output_type": "stream",
     "text": [
      "2025/07/23 17:21:13 WARNING dspy.adapters.json_adapter: Failed to use structured output format, falling back to JSON mode.\n"
     ]
    },
    {
     "name": "stdout",
     "output_type": "stream",
     "text": [
      "Query: Find hotels in Gilgit for upcoming weekend\n",
      "Predicted: api\n",
      "Verdict: YES\n",
      "\n",
      "Average Metric: 43.00 / 43 (100.0%):  36%|███▌      | 43/119 [02:56<07:54,  6.24s/it]Query: How to check my booking history?\n",
      "Predicted: static\n",
      "Verdict: YES\n",
      "\n",
      "Average Metric: 44.00 / 44 (100.0%):  37%|███▋      | 44/119 [02:58<05:58,  4.78s/it]"
     ]
    },
    {
     "name": "stderr",
     "output_type": "stream",
     "text": [
      "2025/07/23 17:21:17 WARNING dspy.adapters.json_adapter: Failed to use structured output format, falling back to JSON mode.\n"
     ]
    },
    {
     "name": "stdout",
     "output_type": "stream",
     "text": [
      "Query: List buses Lahore to Rawalpindi today\n",
      "Predicted: api\n",
      "Verdict: YES\n",
      "\n",
      "Average Metric: 45.00 / 45 (100.0%):  38%|███▊      | 45/119 [03:00<04:51,  3.94s/it]Query: What is the cancellation policy for flights?\n",
      "Predicted: static\n",
      "Verdict: YES\n",
      "\n",
      "Average Metric: 46.00 / 46 (100.0%):  39%|███▊      | 46/119 [03:00<03:39,  3.00s/it]Query: Can I cancel flight booked from Bookme and get refund in my wallet?\n",
      "Predicted: static\n",
      "Verdict: YES\n",
      "\n",
      "Average Metric: 47.00 / 47 (100.0%):  39%|███▉      | 47/119 [03:02<02:58,  2.48s/it]"
     ]
    },
    {
     "name": "stderr",
     "output_type": "stream",
     "text": [
      "2025/07/23 17:21:28 WARNING dspy.adapters.json_adapter: Failed to use structured output format, falling back to JSON mode.\n"
     ]
    },
    {
     "name": "stdout",
     "output_type": "stream",
     "text": [
      "Query: I need bus tickets Lahore to Rawalpindi today and refund details.\n",
      "Predicted: api\n",
      "Verdict: YES\n",
      "\n",
      "Average Metric: 48.00 / 48 (100.0%):  40%|████      | 48/119 [03:12<05:37,  4.75s/it]"
     ]
    },
    {
     "name": "stderr",
     "output_type": "stream",
     "text": [
      "2025/07/23 17:21:31 WARNING dspy.adapters.json_adapter: Failed to use structured output format, falling back to JSON mode.\n"
     ]
    },
    {
     "name": "stdout",
     "output_type": "stream",
     "text": [
      "Query: Show me Lahore to Multan buses tomorrow morning and their refund policy.\n",
      "Predicted: api\n",
      "Verdict: YES\n",
      "\n",
      "Average Metric: 49.00 / 49 (100.0%):  41%|████      | 49/119 [03:13<04:23,  3.76s/it]Query: Show bus from Karachi to Hyderabad today\n",
      "Predicted: api\n",
      "Verdict: YES\n",
      "\n",
      "Average Metric: 50.00 / 50 (100.0%):  42%|████▏     | 50/119 [03:14<03:24,  2.96s/it]"
     ]
    },
    {
     "name": "stderr",
     "output_type": "stream",
     "text": [
      "2025/07/23 17:21:44 WARNING dspy.adapters.json_adapter: Failed to use structured output format, falling back to JSON mode.\n"
     ]
    },
    {
     "name": "stdout",
     "output_type": "stream",
     "text": [
      "Query: List hotels in Murree for upcoming Friday\n",
      "Predicted: api\n",
      "Verdict: YES\n",
      "\n",
      "Average Metric: 51.00 / 51 (100.0%):  43%|████▎     | 51/119 [03:27<06:36,  5.83s/it]"
     ]
    },
    {
     "name": "stderr",
     "output_type": "stream",
     "text": [
      "2025/07/23 17:21:45 WARNING dspy.adapters.json_adapter: Failed to use structured output format, falling back to JSON mode.\n"
     ]
    },
    {
     "name": "stdout",
     "output_type": "stream",
     "text": [
      "Query: Show me Lahore to Multan buses tomorrow morning\n",
      "Predicted: api\n",
      "Verdict: YES\n",
      "\n",
      "Average Metric: 52.00 / 52 (100.0%):  44%|████▎     | 52/119 [03:29<05:06,  4.58s/it]Query: I want to book a flight from Karachi to Bangkok, what is the baggage allowance?\n",
      "Predicted: api\n",
      "Verdict: YES\n",
      "\n",
      "Average Metric: 53.00 / 53 (100.0%):  45%|████▍     | 53/119 [03:29<03:40,  3.35s/it]Query: Can I change flight date after booking on Bookme.pk?\n",
      "Predicted: static\n",
      "Verdict: YES\n",
      "\n",
      "Average Metric: 54.00 / 54 (100.0%):  45%|████▌     | 54/119 [03:33<03:42,  3.42s/it]Query: How can I cancel my bus ticket?\n",
      "Predicted: static\n",
      "Verdict: YES\n",
      "\n",
      "Average Metric: 55.00 / 55 (100.0%):  46%|████▌     | 55/119 [03:33<02:45,  2.58s/it]"
     ]
    },
    {
     "name": "stderr",
     "output_type": "stream",
     "text": [
      "2025/07/23 17:22:02 WARNING dspy.adapters.json_adapter: Failed to use structured output format, falling back to JSON mode.\n",
      "2025/07/23 17:22:03 WARNING dspy.adapters.json_adapter: Failed to use structured output format, falling back to JSON mode.\n"
     ]
    },
    {
     "name": "stdout",
     "output_type": "stream",
     "text": [
      "Query: Check flights from Karachi to Dubai on 25th July\n",
      "Predicted: api\n",
      "Verdict: YES\n",
      "\n",
      "Average Metric: 56.00 / 56 (100.0%):  47%|████▋     | 56/119 [03:46<05:49,  5.55s/it]Query: Can I book movie tickets through Bookme?\n",
      "Predicted: static\n",
      "Verdict: YES\n",
      "\n",
      "Average Metric: 57.00 / 57 (100.0%):  48%|████▊     | 57/119 [03:47<04:21,  4.22s/it]Query: How can I share my booking with someone?\n",
      "Predicted: static\n",
      "Verdict: YES\n",
      "\n",
      "Average Metric: 58.00 / 58 (100.0%):  49%|████▊     | 58/119 [03:47<03:08,  3.08s/it]Query: List hotels in Naran for upcoming weekend\n",
      "Predicted: api\n",
      "Verdict: YES\n",
      "\n",
      "Average Metric: 59.00 / 59 (100.0%):  50%|████▉     | 59/119 [03:53<03:57,  3.96s/it]Query: I want to book a hotel in Lahore, does it allow early check-in?\n",
      "Predicted: static\n",
      "Verdict: YES\n",
      "\n",
      "Average Metric: 60.00 / 60 (100.0%):  50%|█████     | 60/119 [03:56<03:37,  3.68s/it]"
     ]
    },
    {
     "name": "stderr",
     "output_type": "stream",
     "text": [
      "2025/07/23 17:22:19 WARNING dspy.adapters.json_adapter: Failed to use structured output format, falling back to JSON mode.\n"
     ]
    },
    {
     "name": "stdout",
     "output_type": "stream",
     "text": [
      "Query: Does Bookme charge any service fee?\n",
      "Predicted: static\n",
      "Verdict: YES\n",
      "\n",
      "Average Metric: 61.00 / 61 (100.0%):  51%|█████▏    | 61/119 [04:02<04:01,  4.16s/it]Query: Is there any student discount?\n",
      "Predicted: static\n",
      "Verdict: YES\n",
      "\n",
      "Average Metric: 62.00 / 62 (100.0%):  52%|█████▏    | 62/119 [04:03<03:10,  3.34s/it]Query: How long does it take to receive refund?\n",
      "Predicted: static\n",
      "Verdict: YES\n",
      "\n",
      "Average Metric: 63.00 / 63 (100.0%):  53%|█████▎    | 63/119 [04:08<03:36,  3.87s/it]"
     ]
    },
    {
     "name": "stderr",
     "output_type": "stream",
     "text": [
      "2025/07/23 17:22:30 WARNING dspy.adapters.json_adapter: Failed to use structured output format, falling back to JSON mode.\n"
     ]
    },
    {
     "name": "stdout",
     "output_type": "stream",
     "text": [
      "Query: Find bus Lahore to Bahawalpur tonight\n",
      "Predicted: api\n",
      "Verdict: YES\n",
      "\n",
      "Average Metric: 64.00 / 64 (100.0%):  54%|█████▍    | 64/119 [04:13<03:53,  4.24s/it]Query: How can I delete my Bookme account?\n",
      "Predicted: static\n",
      "Verdict: YES\n",
      "\n",
      "Average Metric: 65.00 / 65 (100.0%):  55%|█████▍    | 65/119 [04:14<02:48,  3.12s/it]"
     ]
    },
    {
     "name": "stderr",
     "output_type": "stream",
     "text": [
      "2025/07/23 17:22:43 WARNING dspy.adapters.json_adapter: Failed to use structured output format, falling back to JSON mode.\n",
      "2025/07/23 17:22:45 WARNING dspy.adapters.json_adapter: Failed to use structured output format, falling back to JSON mode.\n"
     ]
    },
    {
     "name": "stdout",
     "output_type": "stream",
     "text": [
      "Query: Can I book train tickets on Bookme?\n",
      "Predicted: static\n",
      "Verdict: YES\n",
      "\n",
      "Average Metric: 66.00 / 66 (100.0%):  55%|█████▌    | 66/119 [04:27<05:24,  6.13s/it]Query: Search flights from Karachi to Doha this week\n",
      "Predicted: api\n",
      "Verdict: YES\n",
      "\n",
      "Average Metric: 67.00 / 67 (100.0%):  56%|█████▋    | 67/119 [04:28<04:02,  4.66s/it]Query: Find hotels in Muzaffarabad this week with refund facility.\n",
      "Predicted: api\n",
      "Verdict: YES\n",
      "\n",
      "Average Metric: 68.00 / 68 (100.0%):  57%|█████▋    | 68/119 [04:29<02:57,  3.48s/it]Query: Can I change email linked to my account?\n",
      "Predicted: static\n",
      "Verdict: YES\n",
      "\n",
      "Average Metric: 69.00 / 69 (100.0%):  58%|█████▊    | 69/119 [04:30<02:13,  2.67s/it]"
     ]
    },
    {
     "name": "stderr",
     "output_type": "stream",
     "text": [
      "2025/07/23 17:22:59 WARNING dspy.adapters.json_adapter: Failed to use structured output format, falling back to JSON mode.\n"
     ]
    },
    {
     "name": "stdout",
     "output_type": "stream",
     "text": [
      "Query: Find buses from Islamabad to Abbottabad today\n",
      "Predicted: api\n",
      "Verdict: YES\n",
      "\n",
      "Average Metric: 70.00 / 70 (100.0%):  59%|█████▉    | 70/119 [04:43<04:46,  5.86s/it]"
     ]
    },
    {
     "name": "stderr",
     "output_type": "stream",
     "text": [
      "2025/07/23 17:23:02 WARNING dspy.adapters.json_adapter: Failed to use structured output format, falling back to JSON mode.\n"
     ]
    },
    {
     "name": "stdout",
     "output_type": "stream",
     "text": [
      "Query: How to login if I forgot my password?\n",
      "Predicted: static\n",
      "Verdict: YES\n",
      "\n",
      "Average Metric: 71.00 / 71 (100.0%):  60%|█████▉    | 71/119 [04:44<03:38,  4.56s/it]Query: I need to book a bus ticket and know refund policy before payment.\n",
      "Predicted: api\n",
      "Verdict: YES\n",
      "\n",
      "Average Metric: 72.00 / 72 (100.0%):  61%|██████    | 72/119 [04:46<02:47,  3.57s/it]Query: Is it possible to book a flight from Lahore to Karachi and then have its refund 2 days later?\n",
      "Predicted: static\n",
      "Verdict: YES\n",
      "\n",
      "Average Metric: 73.00 / 73 (100.0%):  61%|██████▏   | 73/119 [04:46<02:05,  2.73s/it]Query: Show movie tickets in Lahore today\n",
      "Predicted: api\n",
      "Verdict: YES\n",
      "\n",
      "Average Metric: 74.00 / 74 (100.0%):  62%|██████▏   | 74/119 [04:52<02:34,  3.43s/it]"
     ]
    },
    {
     "name": "stderr",
     "output_type": "stream",
     "text": [
      "2025/07/23 17:23:16 WARNING dspy.adapters.json_adapter: Failed to use structured output format, falling back to JSON mode.\n"
     ]
    },
    {
     "name": "stdout",
     "output_type": "stream",
     "text": [
      "Query: Check buses from Faisalabad to Multan tonight\n",
      "Predicted: api\n",
      "Verdict: YES\n",
      "\n",
      "Average Metric: 75.00 / 75 (100.0%):  63%|██████▎   | 75/119 [04:58<03:11,  4.35s/it]Query: Show flights Karachi to Doha this week with cancellation policy.\n",
      "Predicted: api\n",
      "Verdict: YES\n",
      "\n",
      "Average Metric: 76.00 / 76 (100.0%):  64%|██████▍   | 76/119 [04:59<02:20,  3.26s/it]Query: Find me cheap flights to Dubai and tell me luggage limit.\n",
      "Predicted: api\n",
      "Verdict: YES\n",
      "\n",
      "Average Metric: 77.00 / 77 (100.0%):  65%|██████▍   | 77/119 [05:00<01:49,  2.61s/it]"
     ]
    },
    {
     "name": "stderr",
     "output_type": "stream",
     "text": [
      "2025/07/23 17:23:27 WARNING dspy.adapters.json_adapter: Failed to use structured output format, falling back to JSON mode.\n"
     ]
    },
    {
     "name": "stdout",
     "output_type": "stream",
     "text": [
      "Query: Show bus timings from Lahore to Faisalabad tonight\n",
      "Predicted: api\n",
      "Verdict: YES\n",
      "\n",
      "Average Metric: 78.00 / 78 (100.0%):  66%|██████▌   | 78/119 [05:11<03:29,  5.12s/it]"
     ]
    },
    {
     "name": "stderr",
     "output_type": "stream",
     "text": [
      "2025/07/23 17:23:30 WARNING dspy.adapters.json_adapter: Failed to use structured output format, falling back to JSON mode.\n"
     ]
    },
    {
     "name": "stdout",
     "output_type": "stream",
     "text": [
      "Query: Find me hotel in Islamabad today and tell me if free cancellation available.\n",
      "Predicted: api\n",
      "Verdict: YES\n",
      "\n",
      "Average Metric: 79.00 / 79 (100.0%):  66%|██████▋   | 79/119 [05:12<02:43,  4.09s/it]Query: How to redeem a voucher code?\n",
      "Predicted: static\n",
      "Verdict: YES\n",
      "\n",
      "Average Metric: 80.00 / 80 (100.0%):  67%|██████▋   | 80/119 [05:13<02:01,  3.11s/it]"
     ]
    },
    {
     "name": "stderr",
     "output_type": "stream",
     "text": [
      "2025/07/23 17:23:42 WARNING dspy.adapters.json_adapter: Failed to use structured output format, falling back to JSON mode.\n"
     ]
    },
    {
     "name": "stdout",
     "output_type": "stream",
     "text": [
      "Query: Can I book an event ticket and cancel later for refund?\n",
      "Predicted: static\n",
      "Verdict: YES\n",
      "\n",
      "Average Metric: 81.00 / 81 (100.0%):  68%|██████▊   | 81/119 [05:26<03:41,  5.84s/it]Query: Does Bookme offer cashback?\n",
      "Predicted: static\n",
      "Verdict: YES\n",
      "\n",
      "Average Metric: 82.00 / 82 (100.0%):  69%|██████▉   | 82/119 [05:27<02:46,  4.51s/it]"
     ]
    },
    {
     "name": "stderr",
     "output_type": "stream",
     "text": [
      "2025/07/23 17:23:45 WARNING dspy.adapters.json_adapter: Failed to use structured output format, falling back to JSON mode.\n"
     ]
    },
    {
     "name": "stdout",
     "output_type": "stream",
     "text": [
      "Query: Show me hotels in Lahore for tonight\n",
      "Predicted: api\n",
      "Verdict: YES\n",
      "\n",
      "Average Metric: 83.00 / 83 (100.0%):  70%|██████▉   | 83/119 [05:28<02:09,  3.59s/it]Query: Show me flights from Lahore to Dubai tomorrow\n",
      "Predicted: api\n",
      "Verdict: YES\n",
      "\n",
      "Average Metric: 84.00 / 84 (100.0%):  71%|███████   | 84/119 [05:29<01:29,  2.55s/it]"
     ]
    },
    {
     "name": "stderr",
     "output_type": "stream",
     "text": [
      "2025/07/23 17:23:58 WARNING dspy.adapters.json_adapter: Failed to use structured output format, falling back to JSON mode.\n",
      "2025/07/23 17:23:59 WARNING dspy.adapters.json_adapter: Failed to use structured output format, falling back to JSON mode.\n"
     ]
    },
    {
     "name": "stdout",
     "output_type": "stream",
     "text": [
      "Query: List hotels in Swat for next weekend\n",
      "Predicted: api\n",
      "Verdict: YES\n",
      "\n",
      "Average Metric: 85.00 / 85 (100.0%):  71%|███████▏  | 85/119 [05:42<03:13,  5.69s/it]Query: Can I pay with EasyPaisa?\n",
      "Predicted: static\n",
      "Verdict: YES\n",
      "\n",
      "Average Metric: 86.00 / 86 (100.0%):  72%|███████▏  | 86/119 [05:43<02:24,  4.37s/it]Query: Book me a hotel in Islamabad for tomorrow and tell me check-in policy.\n",
      "Predicted: api\n",
      "Verdict: YES\n",
      "\n",
      "Average Metric: 87.00 / 87 (100.0%):  73%|███████▎  | 87/119 [05:43<01:44,  3.26s/it]Query: Does Bookme have a mobile app?\n",
      "Predicted: static\n",
      "Verdict: YES\n",
      "\n",
      "Average Metric: 88.00 / 88 (100.0%):  74%|███████▍  | 88/119 [05:44<01:19,  2.56s/it]"
     ]
    },
    {
     "name": "stderr",
     "output_type": "stream",
     "text": [
      "2025/07/23 17:24:13 WARNING dspy.adapters.json_adapter: Failed to use structured output format, falling back to JSON mode.\n",
      "2025/07/23 17:24:14 WARNING dspy.adapters.json_adapter: Failed to use structured output format, falling back to JSON mode.\n"
     ]
    },
    {
     "name": "stdout",
     "output_type": "stream",
     "text": [
      "Query: Does Bookme support PayPal?\n",
      "Predicted: static\n",
      "Verdict: YES\n",
      "\n",
      "Average Metric: 89.00 / 89 (100.0%):  75%|███████▍  | 89/119 [05:56<02:42,  5.41s/it]Query: Check flights from Islamabad to Riyadh next week\n",
      "Predicted: api\n",
      "Verdict: YES\n",
      "\n",
      "Average Metric: 90.00 / 90 (100.0%):  76%|███████▌  | 90/119 [05:57<01:56,  4.02s/it]Query: Show flights from Lahore to Dubai next Monday\n",
      "Predicted: api\n",
      "Verdict: YES\n",
      "\n",
      "Average Metric: 91.00 / 91 (100.0%):  76%|███████▋  | 91/119 [05:58<01:25,  3.05s/it]Query: Check buses from Islamabad to Abbottabad today and tell me refund policy.\n",
      "Predicted: api\n",
      "Verdict: YES\n",
      "\n",
      "Average Metric: 92.00 / 92 (100.0%):  77%|███████▋  | 92/119 [06:03<01:41,  3.77s/it]"
     ]
    },
    {
     "name": "stderr",
     "output_type": "stream",
     "text": [
      "2025/07/23 17:24:27 WARNING dspy.adapters.json_adapter: Failed to use structured output format, falling back to JSON mode.\n"
     ]
    },
    {
     "name": "stdout",
     "output_type": "stream",
     "text": [
      "Query: Book me a flight from Karachi to Muscat tomorrow and tell me hand carry limit.\n",
      "Predicted: api\n",
      "Verdict: YES\n",
      "\n",
      "Average Metric: 93.00 / 93 (100.0%):  78%|███████▊  | 93/119 [06:09<01:54,  4.39s/it]Query: Search hotels in Karachi for next Friday\n",
      "Predicted: api\n",
      "Verdict: YES\n",
      "\n",
      "Average Metric: 94.00 / 94 (100.0%):  79%|███████▉  | 94/119 [06:11<01:26,  3.45s/it]"
     ]
    },
    {
     "name": "stderr",
     "output_type": "stream",
     "text": [
      "2025/07/23 17:24:38 WARNING dspy.adapters.json_adapter: Failed to use structured output format, falling back to JSON mode.\n"
     ]
    },
    {
     "name": "stdout",
     "output_type": "stream",
     "text": [
      "Query: Find hotels in Karachi near airport tonight\n",
      "Predicted: api\n",
      "Verdict: YES\n",
      "\n",
      "Average Metric: 95.00 / 95 (100.0%):  80%|███████▉  | 95/119 [06:22<02:16,  5.71s/it]"
     ]
    },
    {
     "name": "stderr",
     "output_type": "stream",
     "text": [
      "2025/07/23 17:24:41 WARNING dspy.adapters.json_adapter: Failed to use structured output format, falling back to JSON mode.\n"
     ]
    },
    {
     "name": "stdout",
     "output_type": "stream",
     "text": [
      "Query: Can I change my seat after booking?\n",
      "Predicted: static\n",
      "Verdict: YES\n",
      "\n",
      "Average Metric: 96.00 / 96 (100.0%):  81%|████████  | 96/119 [06:23<01:41,  4.41s/it]Query: How do I reset my password?\n",
      "Predicted: static\n",
      "Verdict: YES\n",
      "\n",
      "Average Metric: 97.00 / 97 (100.0%):  82%|████████▏ | 97/119 [06:24<01:15,  3.42s/it]Query: How can I cancel my hotel booking made on Bookme.pk?\n",
      "Predicted: static\n",
      "Verdict: YES\n",
      "\n",
      "Average Metric: 98.00 / 98 (100.0%):  82%|████████▏ | 98/119 [06:24<00:52,  2.48s/it]"
     ]
    },
    {
     "name": "stderr",
     "output_type": "stream",
     "text": [
      "2025/07/23 17:24:53 WARNING dspy.adapters.json_adapter: Failed to use structured output format, falling back to JSON mode.\n",
      "2025/07/23 17:24:54 WARNING dspy.adapters.json_adapter: Failed to use structured output format, falling back to JSON mode.\n"
     ]
    },
    {
     "name": "stdout",
     "output_type": "stream",
     "text": [
      "Query: How do I create an account on Bookme?\n",
      "Predicted: static\n",
      "Verdict: YES\n",
      "\n",
      "Average Metric: 99.00 / 99 (100.0%):  83%|████████▎ | 99/119 [06:37<01:49,  5.45s/it]Query: Find flights from Karachi to Singapore and tell me cancellation charges.\n",
      "Predicted: api\n",
      "Verdict: YES\n",
      "\n",
      "Average Metric: 100.00 / 100 (100.0%):  84%|████████▍ | 100/119 [06:38<01:17,  4.07s/it]Query: How do I update my profile information?\n",
      "Predicted: static\n",
      "Verdict: YES\n",
      "\n",
      "Average Metric: 101.00 / 101 (100.0%):  85%|████████▍ | 101/119 [06:38<00:53,  2.97s/it]"
     ]
    },
    {
     "name": "stderr",
     "output_type": "stream",
     "text": [
      "2025/07/23 17:25:06 WARNING dspy.adapters.json_adapter: Failed to use structured output format, falling back to JSON mode.\n"
     ]
    },
    {
     "name": "stdout",
     "output_type": "stream",
     "text": [
      "Query: How to book a hotel on Bookme?\n",
      "Predicted: static\n",
      "Verdict: YES\n",
      "\n",
      "Average Metric: 102.00 / 102 (100.0%):  86%|████████▌ | 102/119 [06:49<01:31,  5.40s/it]"
     ]
    },
    {
     "name": "stderr",
     "output_type": "stream",
     "text": [
      "2025/07/23 17:25:08 WARNING dspy.adapters.json_adapter: Failed to use structured output format, falling back to JSON mode.\n"
     ]
    },
    {
     "name": "stdout",
     "output_type": "stream",
     "text": [
      "Query: Can I get cashback if I book flight tickets through Bookme.pk?\n",
      "Predicted: static\n",
      "Verdict: YES\n",
      "\n",
      "Average Metric: 103.00 / 103 (100.0%):  87%|████████▋ | 103/119 [06:50<01:06,  4.18s/it]Query: List buses from Lahore to Islamabad tomorrow night\n",
      "Predicted: api\n",
      "Verdict: YES\n",
      "\n",
      "Average Metric: 104.00 / 104 (100.0%):  87%|████████▋ | 104/119 [06:51<00:47,  3.17s/it]Query: Can I book cricket tickets on Bookme?\n",
      "Predicted: static\n",
      "Verdict: YES\n",
      "\n",
      "Average Metric: 105.00 / 105 (100.0%):  88%|████████▊ | 105/119 [06:52<00:33,  2.36s/it]"
     ]
    },
    {
     "name": "stderr",
     "output_type": "stream",
     "text": [
      "2025/07/23 17:25:19 WARNING dspy.adapters.json_adapter: Failed to use structured output format, falling back to JSON mode.\n",
      "2025/07/23 17:25:19 WARNING dspy.adapters.json_adapter: Failed to use structured output format, falling back to JSON mode.\n"
     ]
    },
    {
     "name": "stdout",
     "output_type": "stream",
     "text": [
      "Query: Can I cancel my flight ticket and get a full refund within 24 hours?\n",
      "Predicted: static\n",
      "Verdict: YES\n",
      "\n",
      "Average Metric: 106.00 / 106 (100.0%):  89%|████████▉ | 106/119 [07:02<01:02,  4.81s/it]Query: Can I book a bus ticket from Islamabad to Peshawar and get refund if I cancel?\n",
      "Predicted: static\n",
      "Verdict: YES\n",
      "\n",
      "Average Metric: 107.00 / 107 (100.0%):  90%|████████▉ | 107/119 [07:03<00:42,  3.56s/it]Query: How to use my wallet balance?\n",
      "Predicted: static\n",
      "Verdict: YES\n",
      "\n",
      "Average Metric: 108.00 / 108 (100.0%):  91%|█████████ | 108/119 [07:04<00:30,  2.77s/it]"
     ]
    },
    {
     "name": "stderr",
     "output_type": "stream",
     "text": [
      "2025/07/23 17:25:30 WARNING dspy.adapters.json_adapter: Failed to use structured output format, falling back to JSON mode.\n",
      "2025/07/23 17:25:31 WARNING dspy.adapters.json_adapter: Failed to use structured output format, falling back to JSON mode.\n"
     ]
    },
    {
     "name": "stdout",
     "output_type": "stream",
     "text": [
      "Query: List events in Karachi this weekend\n",
      "Predicted: api\n",
      "Verdict: YES\n",
      "\n",
      "Average Metric: 109.00 / 109 (100.0%):  92%|█████████▏| 109/119 [07:13<00:46,  4.67s/it]Query: Find flights from Islamabad to Jeddah next month\n",
      "Predicted: api\n",
      "Verdict: YES\n",
      "\n",
      "Average Metric: 110.00 / 110 (100.0%):  92%|█████████▏| 110/119 [07:14<00:32,  3.63s/it]"
     ]
    },
    {
     "name": "stderr",
     "output_type": "stream",
     "text": [
      "2025/07/23 17:25:41 WARNING dspy.adapters.json_adapter: Failed to use structured output format, falling back to JSON mode.\n",
      "2025/07/23 17:25:43 WARNING dspy.adapters.json_adapter: Failed to use structured output format, falling back to JSON mode.\n"
     ]
    },
    {
     "name": "stdout",
     "output_type": "stream",
     "text": [
      "Query: Are there any buses from Islamabad to Multan today?\n",
      "Predicted: api\n",
      "Verdict: YES\n",
      "\n",
      "Average Metric: 111.00 / 111 (100.0%):  93%|█████████▎| 111/119 [07:26<00:47,  6.00s/it]Query: Show me hotels in Skardu with breakfast included and free cancellation.\n",
      "Predicted: api\n",
      "Verdict: YES\n",
      "\n",
      "Average Metric: 112.00 / 112 (100.0%):  94%|█████████▍| 112/119 [07:26<00:29,  4.24s/it]Query: Check flights to Dubai from Karachi tomorrow and tell me fare rules.\n",
      "Predicted: api\n",
      "Verdict: YES\n",
      "\n",
      "Average Metric: 113.00 / 113 (100.0%):  95%|█████████▍| 113/119 [07:27<00:19,  3.31s/it]Query: Can I book a bus seat and later change it to another seat?\n",
      "Predicted: static\n",
      "Verdict: YES\n",
      "\n",
      "Average Metric: 114.00 / 114 (100.0%):  96%|█████████▌| 114/119 [07:32<00:19,  3.88s/it]"
     ]
    },
    {
     "name": "stderr",
     "output_type": "stream",
     "text": [
      "2025/07/23 17:25:55 WARNING dspy.adapters.json_adapter: Failed to use structured output format, falling back to JSON mode.\n"
     ]
    },
    {
     "name": "stdout",
     "output_type": "stream",
     "text": [
      "Query: Check flights from Lahore to Kuala Lumpur this week\n",
      "Predicted: api\n",
      "Verdict: YES\n",
      "\n",
      "Average Metric: 115.00 / 115 (100.0%):  97%|█████████▋| 115/119 [07:37<00:16,  4.18s/it]Query: How to check event schedules?\n",
      "Predicted: static\n",
      "Verdict: YES\n",
      "\n",
      "Average Metric: 116.00 / 116 (100.0%):  97%|█████████▋| 116/119 [07:38<00:09,  3.21s/it]"
     ]
    },
    {
     "name": "stderr",
     "output_type": "stream",
     "text": [
      "2025/07/23 17:26:06 WARNING dspy.adapters.json_adapter: Failed to use structured output format, falling back to JSON mode.\n"
     ]
    },
    {
     "name": "stdout",
     "output_type": "stream",
     "text": [
      "Query: Can I cancel train tickets booked via Bookme.pk?\n",
      "Predicted: static\n",
      "Verdict: YES\n",
      "\n",
      "Average Metric: 117.00 / 117 (100.0%):  98%|█████████▊| 117/119 [07:50<00:11,  5.79s/it]Query: Find me cheap flights to Dubai from Karachi\n",
      "Predicted: api\n",
      "Verdict: YES\n",
      "\n",
      "Average Metric: 118.00 / 118 (100.0%):  99%|█████████▉| 118/119 [07:51<00:04,  4.46s/it]"
     ]
    },
    {
     "name": "stderr",
     "output_type": "stream",
     "text": [
      "2025/07/23 17:26:10 WARNING dspy.adapters.json_adapter: Failed to use structured output format, falling back to JSON mode.\n"
     ]
    },
    {
     "name": "stdout",
     "output_type": "stream",
     "text": [
      "Query: Check flights from Lahore to Doha next week\n",
      "Predicted: api\n",
      "Verdict: YES\n",
      "\n",
      "Average Metric: 119.00 / 119 (100.0%): 100%|██████████| 119/119 [07:53<00:00,  3.98s/it]"
     ]
    },
    {
     "name": "stderr",
     "output_type": "stream",
     "text": [
      "2025/07/23 17:26:12 INFO dspy.evaluate.evaluate: Average Metric: 119 / 119 (100.0%)\n"
     ]
    },
    {
     "name": "stdout",
     "output_type": "stream",
     "text": [
      "\n",
      "Scores so far: [86.55, 100.0, 100.0, 100.0, 99.16, 100.0]\n",
      "Best score so far: 100.0\n"
     ]
    },
    {
     "name": "stderr",
     "output_type": "stream",
     "text": [
      "  1%|          | 1/119 [00:02<04:06,  2.09s/it]"
     ]
    },
    {
     "name": "stdout",
     "output_type": "stream",
     "text": [
      "Query: What are the timings for customer support?\n",
      "Predicted: static\n",
      "Verdict: YES\n",
      "\n"
     ]
    },
    {
     "name": "stderr",
     "output_type": "stream",
     "text": [
      "  2%|▏         | 2/119 [00:07<07:14,  3.71s/it]\n"
     ]
    },
    {
     "name": "stdout",
     "output_type": "stream",
     "text": [
      "Query: Show me hotels in Lahore for tonight\n",
      "Predicted: api\n",
      "Verdict: YES\n",
      "\n",
      "Bootstrapped 2 full traces after 2 examples for up to 1 rounds, amounting to 2 attempts.\n",
      "  0%|          | 0/119 [00:00<?, ?it/s]Query: Can I use Bookme without an account?\n",
      "Predicted: static\n",
      "Verdict: YES\n",
      "\n",
      "Average Metric: 1.00 / 1 (100.0%):   1%|          | 1/119 [00:02<05:52,  2.99s/it]Query: Search flights from Lahore to Istanbul this month\n",
      "Predicted: api\n",
      "Verdict: YES\n",
      "\n",
      "Average Metric: 2.00 / 2 (100.0%):   2%|▏         | 2/119 [00:03<02:53,  1.48s/it]"
     ]
    },
    {
     "name": "stderr",
     "output_type": "stream",
     "text": [
      "2025/07/23 17:26:33 WARNING dspy.adapters.json_adapter: Failed to use structured output format, falling back to JSON mode.\n",
      "2025/07/23 17:26:34 WARNING dspy.adapters.json_adapter: Failed to use structured output format, falling back to JSON mode.\n"
     ]
    },
    {
     "name": "stdout",
     "output_type": "stream",
     "text": [
      "Query: Show flights from Karachi to Doha next week with refund option.\n",
      "Predicted: api\n",
      "Verdict: YES\n",
      "\n",
      "Average Metric: 3.00 / 3 (100.0%):   3%|▎         | 3/119 [00:15<12:16,  6.35s/it]Query: Find buses from Islamabad to Peshawar tonight\n",
      "Predicted: api\n",
      "Verdict: YES\n",
      "\n",
      "Average Metric: 4.00 / 4 (100.0%):   3%|▎         | 4/119 [00:16<08:16,  4.32s/it]Query: Check flights from Karachi to Muscat tomorrow\n",
      "Predicted: api\n",
      "Verdict: YES\n",
      "\n",
      "Average Metric: 5.00 / 5 (100.0%):   4%|▍         | 5/119 [00:17<05:38,  2.97s/it]Query: How can I know if my booking is confirmed?\n",
      "Predicted: static\n",
      "Verdict: YES\n",
      "\n",
      "Average Metric: 6.00 / 6 (100.0%):   5%|▌         | 6/119 [00:18<04:17,  2.28s/it]"
     ]
    },
    {
     "name": "stderr",
     "output_type": "stream",
     "text": [
      "2025/07/23 17:26:46 WARNING dspy.adapters.json_adapter: Failed to use structured output format, falling back to JSON mode.\n",
      "2025/07/23 17:26:47 WARNING dspy.adapters.json_adapter: Failed to use structured output format, falling back to JSON mode.\n"
     ]
    },
    {
     "name": "stdout",
     "output_type": "stream",
     "text": [
      "Query: Check buses from Rawalpindi to Murree today\n",
      "Predicted: api\n",
      "Verdict: YES\n",
      "\n",
      "Average Metric: 7.00 / 7 (100.0%):   6%|▌         | 7/119 [00:28<09:13,  4.94s/it]Query: Book a hotel in Murree for upcoming Friday with free cancellation.\n",
      "Predicted: api\n",
      "Verdict: YES\n",
      "\n",
      "Average Metric: 8.00 / 8 (100.0%):   7%|▋         | 8/119 [00:29<06:55,  3.74s/it]Query: Search hotels in Skardu for next weekend\n",
      "Predicted: api\n",
      "Verdict: YES\n",
      "\n",
      "Average Metric: 9.00 / 9 (100.0%):   8%|▊         | 9/119 [00:30<04:56,  2.69s/it]"
     ]
    },
    {
     "name": "stderr",
     "output_type": "stream",
     "text": [
      "2025/07/23 17:26:59 WARNING dspy.adapters.json_adapter: Failed to use structured output format, falling back to JSON mode.\n",
      "2025/07/23 17:26:59 WARNING dspy.adapters.json_adapter: Failed to use structured output format, falling back to JSON mode.\n"
     ]
    },
    {
     "name": "stdout",
     "output_type": "stream",
     "text": [
      "Query: Find flights from Islamabad to Dubai this Friday\n",
      "Predicted: api\n",
      "Verdict: YES\n",
      "\n",
      "Average Metric: 10.00 / 10 (100.0%):   8%|▊         | 10/119 [00:40<09:10,  5.05s/it]Query: Find me hotels in Karachi tonight with free cancellation.\n",
      "Predicted: api\n",
      "Verdict: YES\n",
      "\n",
      "Average Metric: 11.00 / 11 (100.0%):   9%|▉         | 11/119 [00:41<06:45,  3.75s/it]"
     ]
    },
    {
     "name": "stderr",
     "output_type": "stream",
     "text": [
      "2025/07/23 17:27:11 WARNING dspy.adapters.json_adapter: Failed to use structured output format, falling back to JSON mode.\n"
     ]
    },
    {
     "name": "stdout",
     "output_type": "stream",
     "text": [
      "Query: How can I contact Bookme support?\n",
      "Predicted: static\n",
      "Verdict: YES\n",
      "\n",
      "Average Metric: 12.00 / 12 (100.0%):  10%|█         | 12/119 [00:53<11:02,  6.19s/it]"
     ]
    },
    {
     "name": "stderr",
     "output_type": "stream",
     "text": [
      "2025/07/23 17:27:13 WARNING dspy.adapters.json_adapter: Failed to use structured output format, falling back to JSON mode.\n"
     ]
    },
    {
     "name": "stdout",
     "output_type": "stream",
     "text": [
      "Query: What payment methods are accepted?\n",
      "Predicted: static\n",
      "Verdict: YES\n",
      "\n",
      "Average Metric: 13.00 / 13 (100.0%):  11%|█         | 13/119 [00:54<08:21,  4.73s/it]Query: Where is Bookme.pk headquartered?\n",
      "Predicted: static\n",
      "Verdict: YES\n",
      "\n",
      "Average Metric: 14.00 / 14 (100.0%):  12%|█▏        | 14/119 [00:55<06:07,  3.50s/it]Query: Is there a loyalty program for bus tickets?\n",
      "Predicted: static\n",
      "Verdict: YES\n",
      "\n",
      "Average Metric: 15.00 / 15 (100.0%):  13%|█▎        | 15/119 [00:56<04:43,  2.73s/it]"
     ]
    },
    {
     "name": "stderr",
     "output_type": "stream",
     "text": [
      "2025/07/23 17:27:23 WARNING dspy.adapters.json_adapter: Failed to use structured output format, falling back to JSON mode.\n"
     ]
    },
    {
     "name": "stdout",
     "output_type": "stream",
     "text": [
      "Query: List buses from Lahore to Sialkot tomorrow morning\n",
      "Predicted: api\n",
      "Verdict: YES\n",
      "\n",
      "Average Metric: 16.00 / 16 (100.0%):  13%|█▎        | 16/119 [01:05<08:04,  4.71s/it]Query: Find bus from Multan to Faisalabad tonight\n",
      "Predicted: api\n",
      "Verdict: YES\n",
      "\n",
      "Average Metric: 17.00 / 17 (100.0%):  14%|█▍        | 17/119 [01:06<06:15,  3.68s/it]"
     ]
    },
    {
     "name": "stderr",
     "output_type": "stream",
     "text": [
      "2025/07/23 17:27:26 WARNING dspy.adapters.json_adapter: Failed to use structured output format, falling back to JSON mode.\n"
     ]
    },
    {
     "name": "stdout",
     "output_type": "stream",
     "text": [
      "Query: Show available hotels in Karachi for tonight\n",
      "Predicted: api\n",
      "Verdict: YES\n",
      "\n",
      "Average Metric: 18.00 / 18 (100.0%):  15%|█▌        | 18/119 [01:11<06:40,  3.96s/it]Query: Show flights from Lahore to Istanbul next month and refund options.\n",
      "Predicted: api\n",
      "Verdict: YES\n",
      "\n",
      "Average Metric: 19.00 / 19 (100.0%):  16%|█▌        | 19/119 [01:12<04:57,  2.98s/it]"
     ]
    },
    {
     "name": "stderr",
     "output_type": "stream",
     "text": [
      "2025/07/23 17:27:41 WARNING dspy.adapters.json_adapter: Failed to use structured output format, falling back to JSON mode.\n",
      "2025/07/23 17:27:41 WARNING dspy.adapters.json_adapter: Failed to use structured output format, falling back to JSON mode.\n"
     ]
    },
    {
     "name": "stdout",
     "output_type": "stream",
     "text": [
      "Query: I need a hotel in Karachi tonight, can I cancel if plans change?\n",
      "Predicted: api\n",
      "Verdict: YES\n",
      "\n",
      "Average Metric: 20.00 / 20 (100.0%):  17%|█▋        | 20/119 [01:23<08:56,  5.42s/it]Query: Is there any referral program?\n",
      "Predicted: static\n",
      "Verdict: YES\n",
      "\n",
      "Average Metric: 21.00 / 21 (100.0%):  18%|█▊        | 21/119 [01:23<06:30,  3.99s/it]Query: Check flights from Lahore to Kuala Lumpur and baggage policy.\n",
      "Predicted: api\n",
      "Verdict: YES\n",
      "\n",
      "Average Metric: 22.00 / 22 (100.0%):  18%|█▊        | 22/119 [01:24<04:56,  3.06s/it]"
     ]
    },
    {
     "name": "stderr",
     "output_type": "stream",
     "text": [
      "2025/07/23 17:27:53 WARNING dspy.adapters.json_adapter: Failed to use structured output format, falling back to JSON mode.\n"
     ]
    },
    {
     "name": "stdout",
     "output_type": "stream",
     "text": [
      "Query: Does Bookme offer discounts on flights?\n",
      "Predicted: static\n",
      "Verdict: YES\n",
      "\n",
      "Average Metric: 23.00 / 23 (100.0%):  19%|█▉        | 23/119 [01:35<08:40,  5.42s/it]Query: Can I book a bus ticket from Multan to Faisalabad for tonight and get refund if not used?\n",
      "Predicted: api\n",
      "Verdict: YES\n",
      "\n",
      "Average Metric: 24.00 / 24 (100.0%):  20%|██        | 24/119 [01:37<06:45,  4.27s/it]Query: Can I pay for hotel booking via JazzCash and get refund in same account?\n",
      "Predicted: static\n",
      "Verdict: YES\n",
      "\n",
      "Average Metric: 25.00 / 25 (100.0%):  21%|██        | 25/119 [01:38<05:23,  3.44s/it]"
     ]
    },
    {
     "name": "stderr",
     "output_type": "stream",
     "text": [
      "2025/07/23 17:28:00 WARNING dspy.adapters.json_adapter: Failed to use structured output format, falling back to JSON mode.\n"
     ]
    },
    {
     "name": "stdout",
     "output_type": "stream",
     "text": [
      "Query: Is it possible to book movie tickets and cancel them later?\n",
      "Predicted: static\n",
      "Verdict: YES\n",
      "\n",
      "Average Metric: 26.00 / 26 (100.0%):  22%|██▏       | 26/119 [01:42<05:17,  3.41s/it]Query: Find me flights from Karachi to Dubai and tell me if they are refundable.\n",
      "Predicted: api\n",
      "Verdict: YES\n",
      "\n",
      "Average Metric: 27.00 / 27 (100.0%):  23%|██▎       | 27/119 [01:47<06:13,  4.06s/it]"
     ]
    },
    {
     "name": "stderr",
     "output_type": "stream",
     "text": [
      "2025/07/23 17:28:07 WARNING dspy.adapters.json_adapter: Failed to use structured output format, falling back to JSON mode.\n"
     ]
    },
    {
     "name": "stdout",
     "output_type": "stream",
     "text": [
      "Query: How to deactivate notifications?\n",
      "Predicted: static\n",
      "Verdict: YES\n",
      "\n",
      "Average Metric: 28.00 / 28 (100.0%):  24%|██▎       | 28/119 [01:51<05:56,  3.92s/it]Query: How can I get a refund for my booked flight ticket from Bookme?\n",
      "Predicted: static\n",
      "Verdict: YES\n",
      "\n",
      "Average Metric: 29.00 / 29 (100.0%):  24%|██▍       | 29/119 [01:51<04:10,  2.78s/it]"
     ]
    },
    {
     "name": "stderr",
     "output_type": "stream",
     "text": [
      "2025/07/23 17:28:21 WARNING dspy.adapters.json_adapter: Failed to use structured output format, falling back to JSON mode.\n"
     ]
    },
    {
     "name": "stdout",
     "output_type": "stream",
     "text": [
      "Query: Can I pay using JazzCash?\n",
      "Predicted: static\n",
      "Verdict: YES\n",
      "\n",
      "Average Metric: 30.00 / 30 (100.0%):  25%|██▌       | 30/119 [02:03<08:10,  5.51s/it]"
     ]
    },
    {
     "name": "stderr",
     "output_type": "stream",
     "text": [
      "2025/07/23 17:28:23 WARNING dspy.adapters.json_adapter: Failed to use structured output format, falling back to JSON mode.\n"
     ]
    },
    {
     "name": "stdout",
     "output_type": "stream",
     "text": [
      "Query: Where can I see my e-tickets?\n",
      "Predicted: static\n",
      "Verdict: YES\n",
      "\n",
      "Average Metric: 31.00 / 31 (100.0%):  26%|██▌       | 31/119 [02:04<06:23,  4.36s/it]Query: Does Bookme sell event tickets?\n",
      "Predicted: static\n",
      "Verdict: YES\n",
      "\n",
      "Average Metric: 32.00 / 32 (100.0%):  27%|██▋       | 32/119 [02:05<04:46,  3.30s/it]Query: Find hotels in Islamabad for next week\n",
      "Predicted: api\n",
      "Verdict: YES\n",
      "\n",
      "Average Metric: 33.00 / 33 (100.0%):  28%|██▊       | 33/119 [02:06<03:33,  2.49s/it]"
     ]
    },
    {
     "name": "stderr",
     "output_type": "stream",
     "text": [
      "2025/07/23 17:28:35 WARNING dspy.adapters.json_adapter: Failed to use structured output format, falling back to JSON mode.\n",
      "2025/07/23 17:28:36 WARNING dspy.adapters.json_adapter: Failed to use structured output format, falling back to JSON mode.\n"
     ]
    },
    {
     "name": "stdout",
     "output_type": "stream",
     "text": [
      "Query: Is there a customer care number?\n",
      "Predicted: static\n",
      "Verdict: YES\n",
      "\n",
      "Average Metric: 34.00 / 34 (100.0%):  29%|██▊       | 34/119 [02:16<06:55,  4.89s/it]Query: How to check loyalty tier status?\n",
      "Predicted: static\n",
      "Verdict: YES\n",
      "\n",
      "Average Metric: 35.00 / 35 (100.0%):  29%|██▉       | 35/119 [02:18<05:21,  3.82s/it]Query: Can I reserve a hotel in Naran for next week and cancel later without charges?\n",
      "Predicted: static\n",
      "Verdict: YES\n",
      "\n",
      "Average Metric: 36.00 / 36 (100.0%):  30%|███       | 36/119 [02:18<03:50,  2.78s/it]"
     ]
    },
    {
     "name": "stderr",
     "output_type": "stream",
     "text": [
      "2025/07/23 17:28:48 WARNING dspy.adapters.json_adapter: Failed to use structured output format, falling back to JSON mode.\n",
      "2025/07/23 17:28:49 WARNING dspy.adapters.json_adapter: Failed to use structured output format, falling back to JSON mode.\n"
     ]
    },
    {
     "name": "stdout",
     "output_type": "stream",
     "text": [
      "Query: Find me hotels in Murree for this weekend\n",
      "Predicted: api\n",
      "Verdict: YES\n",
      "\n",
      "Average Metric: 37.00 / 37 (100.0%):  31%|███       | 37/119 [02:29<07:21,  5.39s/it]Query: How to subscribe to Bookme newsletter?\n",
      "Predicted: static\n",
      "Verdict: YES\n",
      "\n",
      "Average Metric: 38.00 / 38 (100.0%):  32%|███▏      | 38/119 [02:31<05:36,  4.16s/it]Query: What are Bookme loyalty rewards?\n",
      "Predicted: static\n",
      "Verdict: YES\n",
      "\n",
      "Average Metric: 39.00 / 39 (100.0%):  33%|███▎      | 39/119 [02:31<03:58,  2.98s/it]"
     ]
    },
    {
     "name": "stderr",
     "output_type": "stream",
     "text": [
      "2025/07/23 17:29:01 WARNING dspy.adapters.json_adapter: Failed to use structured output format, falling back to JSON mode.\n"
     ]
    },
    {
     "name": "stdout",
     "output_type": "stream",
     "text": [
      "Query: What are the timings for customer support?\n",
      "Predicted: static\n",
      "Verdict: YES\n",
      "\n",
      "Average Metric: 40.00 / 40 (100.0%):  34%|███▎      | 40/119 [02:43<07:26,  5.65s/it]"
     ]
    },
    {
     "name": "stderr",
     "output_type": "stream",
     "text": [
      "2025/07/23 17:29:03 WARNING dspy.adapters.json_adapter: Failed to use structured output format, falling back to JSON mode.\n"
     ]
    },
    {
     "name": "stdout",
     "output_type": "stream",
     "text": [
      "Query: List flights from Karachi to Colombo next week\n",
      "Predicted: api\n",
      "Verdict: YES\n",
      "\n",
      "Average Metric: 41.00 / 41 (100.0%):  34%|███▍      | 41/119 [02:44<05:40,  4.36s/it]Query: Can I change passenger name after booking flight from Bookme?\n",
      "Predicted: static\n",
      "Verdict: YES\n",
      "\n",
      "Average Metric: 42.00 / 42 (100.0%):  35%|███▌      | 42/119 [02:45<04:13,  3.29s/it]"
     ]
    },
    {
     "name": "stderr",
     "output_type": "stream",
     "text": [
      "2025/07/23 17:29:15 WARNING dspy.adapters.json_adapter: Failed to use structured output format, falling back to JSON mode.\n"
     ]
    },
    {
     "name": "stdout",
     "output_type": "stream",
     "text": [
      "Query: Find hotels in Gilgit for upcoming weekend\n",
      "Predicted: api\n",
      "Verdict: YES\n",
      "\n",
      "Average Metric: 43.00 / 43 (100.0%):  36%|███▌      | 43/119 [02:57<07:29,  5.92s/it]"
     ]
    },
    {
     "name": "stderr",
     "output_type": "stream",
     "text": [
      "2025/07/23 17:29:17 WARNING dspy.adapters.json_adapter: Failed to use structured output format, falling back to JSON mode.\n"
     ]
    },
    {
     "name": "stdout",
     "output_type": "stream",
     "text": [
      "Query: What is the cancellation policy for flights?\n",
      "Predicted: static\n",
      "Verdict: YES\n",
      "\n",
      "Average Metric: 44.00 / 44 (100.0%):  37%|███▋      | 44/119 [02:59<05:55,  4.74s/it]Query: How to check my booking history?\n",
      "Predicted: static\n",
      "Verdict: YES\n",
      "\n",
      "Average Metric: 45.00 / 45 (100.0%):  38%|███▊      | 45/119 [02:59<04:13,  3.42s/it]Query: List buses Lahore to Rawalpindi today\n",
      "Predicted: api\n",
      "Verdict: YES\n",
      "\n",
      "Average Metric: 46.00 / 46 (100.0%):  39%|███▊      | 46/119 [03:02<03:54,  3.22s/it]Query: Can I cancel flight booked from Bookme and get refund in my wallet?\n",
      "Predicted: static\n",
      "Verdict: YES\n",
      "\n",
      "Average Metric: 47.00 / 47 (100.0%):  39%|███▉      | 47/119 [03:03<02:51,  2.38s/it]"
     ]
    },
    {
     "name": "stderr",
     "output_type": "stream",
     "text": [
      "2025/07/23 17:29:35 WARNING dspy.adapters.json_adapter: Failed to use structured output format, falling back to JSON mode.\n"
     ]
    },
    {
     "name": "stdout",
     "output_type": "stream",
     "text": [
      "Query: I need bus tickets Lahore to Rawalpindi today and refund details.\n",
      "Predicted: api\n",
      "Verdict: YES\n",
      "\n",
      "Average Metric: 48.00 / 48 (100.0%):  40%|████      | 48/119 [03:17<06:58,  5.89s/it]Query: Show me Lahore to Multan buses tomorrow morning and their refund policy.\n",
      "Predicted: api\n",
      "Verdict: YES\n",
      "\n",
      "Average Metric: 49.00 / 49 (100.0%):  41%|████      | 49/119 [03:18<05:19,  4.57s/it]"
     ]
    },
    {
     "name": "stderr",
     "output_type": "stream",
     "text": [
      "2025/07/23 17:29:39 WARNING dspy.adapters.json_adapter: Failed to use structured output format, falling back to JSON mode.\n"
     ]
    },
    {
     "name": "stdout",
     "output_type": "stream",
     "text": [
      "Query: List hotels in Murree for upcoming Friday\n",
      "Predicted: api\n",
      "Verdict: YES\n",
      "\n",
      "Average Metric: 50.00 / 50 (100.0%):  42%|████▏     | 50/119 [03:20<04:15,  3.71s/it]Query: Show bus from Karachi to Hyderabad today\n",
      "Predicted: api\n",
      "Verdict: YES\n",
      "\n",
      "Average Metric: 51.00 / 51 (100.0%):  43%|████▎     | 51/119 [03:21<03:20,  2.95s/it]Query: Show me Lahore to Multan buses tomorrow morning\n",
      "Predicted: api\n",
      "Verdict: YES\n",
      "\n",
      "Average Metric: 52.00 / 52 (100.0%):  44%|████▎     | 52/119 [03:26<03:59,  3.58s/it]"
     ]
    },
    {
     "name": "stderr",
     "output_type": "stream",
     "text": [
      "2025/07/23 17:29:50 WARNING dspy.adapters.json_adapter: Failed to use structured output format, falling back to JSON mode.\n"
     ]
    },
    {
     "name": "stdout",
     "output_type": "stream",
     "text": [
      "Query: How can I cancel my bus ticket?\n",
      "Predicted: static\n",
      "Verdict: YES\n",
      "\n",
      "Average Metric: 53.00 / 53 (100.0%):  45%|████▍     | 53/119 [03:31<04:24,  4.01s/it]Query: I want to book a flight from Karachi to Bangkok, what is the baggage allowance?\n",
      "Predicted: static\n",
      "Verdict: YES\n",
      "\n",
      "Average Metric: 54.00 / 54 (100.0%):  45%|████▌     | 54/119 [03:33<03:31,  3.25s/it]"
     ]
    },
    {
     "name": "stderr",
     "output_type": "stream",
     "text": [
      "2025/07/23 17:30:02 WARNING dspy.adapters.json_adapter: Failed to use structured output format, falling back to JSON mode.\n"
     ]
    },
    {
     "name": "stdout",
     "output_type": "stream",
     "text": [
      "Query: Can I change flight date after booking on Bookme.pk?\n",
      "Predicted: static\n",
      "Verdict: YES\n",
      "\n",
      "Average Metric: 55.00 / 55 (100.0%):  46%|████▌     | 55/119 [03:43<05:51,  5.49s/it]Query: Can I book movie tickets through Bookme?\n",
      "Predicted: static\n",
      "Verdict: YES\n",
      "\n",
      "Average Metric: 56.00 / 56 (100.0%):  47%|████▋     | 56/119 [03:45<04:28,  4.25s/it]"
     ]
    },
    {
     "name": "stderr",
     "output_type": "stream",
     "text": [
      "2025/07/23 17:30:05 WARNING dspy.adapters.json_adapter: Failed to use structured output format, falling back to JSON mode.\n"
     ]
    },
    {
     "name": "stdout",
     "output_type": "stream",
     "text": [
      "Query: How can I share my booking with someone?\n",
      "Predicted: static\n",
      "Verdict: YES\n",
      "\n",
      "Average Metric: 57.00 / 57 (100.0%):  48%|████▊     | 57/119 [03:46<03:29,  3.38s/it]Query: Check flights from Karachi to Dubai on 25th July\n",
      "Predicted: api\n",
      "Verdict: YES\n",
      "\n",
      "Average Metric: 58.00 / 58 (100.0%):  49%|████▊     | 58/119 [03:47<02:48,  2.77s/it]"
     ]
    },
    {
     "name": "stderr",
     "output_type": "stream",
     "text": [
      "2025/07/23 17:30:16 WARNING dspy.adapters.json_adapter: Failed to use structured output format, falling back to JSON mode.\n"
     ]
    },
    {
     "name": "stdout",
     "output_type": "stream",
     "text": [
      "Query: Is there any student discount?\n",
      "Predicted: static\n",
      "Verdict: YES\n",
      "\n",
      "Average Metric: 59.00 / 59 (100.0%):  50%|████▉     | 59/119 [03:58<05:02,  5.04s/it]"
     ]
    },
    {
     "name": "stderr",
     "output_type": "stream",
     "text": [
      "2025/07/23 17:30:18 WARNING dspy.adapters.json_adapter: Failed to use structured output format, falling back to JSON mode.\n"
     ]
    },
    {
     "name": "stdout",
     "output_type": "stream",
     "text": [
      "Query: I want to book a hotel in Lahore, does it allow early check-in?\n",
      "Predicted: static\n",
      "Verdict: YES\n",
      "\n",
      "Average Metric: 60.00 / 60 (100.0%):  50%|█████     | 60/119 [03:59<03:54,  3.97s/it]Query: List hotels in Naran for upcoming weekend\n",
      "Predicted: api\n",
      "Verdict: YES\n",
      "\n",
      "Average Metric: 61.00 / 61 (100.0%):  51%|█████▏    | 61/119 [04:02<03:34,  3.69s/it]Query: Does Bookme charge any service fee?\n",
      "Predicted: static\n",
      "Verdict: YES\n",
      "\n",
      "Average Metric: 62.00 / 62 (100.0%):  52%|█████▏    | 62/119 [04:02<02:30,  2.64s/it]"
     ]
    },
    {
     "name": "stderr",
     "output_type": "stream",
     "text": [
      "2025/07/23 17:30:32 WARNING dspy.adapters.json_adapter: Failed to use structured output format, falling back to JSON mode.\n",
      "2025/07/23 17:30:32 WARNING dspy.adapters.json_adapter: Failed to use structured output format, falling back to JSON mode.\n"
     ]
    },
    {
     "name": "stdout",
     "output_type": "stream",
     "text": [
      "Query: How can I delete my Bookme account?\n",
      "Predicted: static\n",
      "Verdict: YES\n",
      "\n",
      "Average Metric: 63.00 / 63 (100.0%):  53%|█████▎    | 63/119 [04:14<04:58,  5.33s/it]Query: How long does it take to receive refund?\n",
      "Predicted: static\n",
      "Verdict: YES\n",
      "\n",
      "Average Metric: 64.00 / 64 (100.0%):  54%|█████▍    | 64/119 [04:14<03:28,  3.80s/it]Query: Find bus Lahore to Bahawalpur tonight\n",
      "Predicted: api\n",
      "Verdict: YES\n",
      "\n",
      "Average Metric: 65.00 / 65 (100.0%):  55%|█████▍    | 65/119 [04:19<03:46,  4.20s/it]Query: Can I book train tickets on Bookme?\n",
      "Predicted: static\n",
      "Verdict: YES\n",
      "\n",
      "Average Metric: 66.00 / 66 (100.0%):  55%|█████▌    | 66/119 [04:20<02:41,  3.04s/it]"
     ]
    },
    {
     "name": "stderr",
     "output_type": "stream",
     "text": [
      "2025/07/23 17:30:51 WARNING dspy.adapters.json_adapter: Failed to use structured output format, falling back to JSON mode.\n",
      "2025/07/23 17:30:52 WARNING dspy.adapters.json_adapter: Failed to use structured output format, falling back to JSON mode.\n"
     ]
    },
    {
     "name": "stdout",
     "output_type": "stream",
     "text": [
      "Query: Find hotels in Muzaffarabad this week with refund facility.\n",
      "Predicted: api\n",
      "Verdict: YES\n",
      "\n",
      "Average Metric: 67.00 / 67 (100.0%):  56%|█████▋    | 67/119 [04:33<05:13,  6.02s/it]Query: Search flights from Karachi to Doha this week\n",
      "Predicted: api\n",
      "Verdict: YES\n",
      "\n",
      "Average Metric: 68.00 / 68 (100.0%):  57%|█████▋    | 68/119 [04:33<03:42,  4.37s/it]Query: Can I change email linked to my account?\n",
      "Predicted: static\n",
      "Verdict: YES\n",
      "\n",
      "Average Metric: 69.00 / 69 (100.0%):  58%|█████▊    | 69/119 [04:35<02:56,  3.53s/it]Query: Find buses from Islamabad to Abbottabad today\n",
      "Predicted: api\n",
      "Verdict: YES\n",
      "\n",
      "Average Metric: 70.00 / 70 (100.0%):  59%|█████▉    | 70/119 [04:35<02:03,  2.52s/it]"
     ]
    },
    {
     "name": "stderr",
     "output_type": "stream",
     "text": [
      "2025/07/23 17:31:06 WARNING dspy.adapters.json_adapter: Failed to use structured output format, falling back to JSON mode.\n",
      "2025/07/23 17:31:07 WARNING dspy.adapters.json_adapter: Failed to use structured output format, falling back to JSON mode.\n"
     ]
    },
    {
     "name": "stdout",
     "output_type": "stream",
     "text": [
      "Query: I need to book a bus ticket and know refund policy before payment.\n",
      "Predicted: api\n",
      "Verdict: YES\n",
      "\n",
      "Average Metric: 71.00 / 71 (100.0%):  60%|█████▉    | 71/119 [04:48<04:29,  5.61s/it]Query: How to login if I forgot my password?\n",
      "Predicted: static\n",
      "Verdict: YES\n",
      "\n",
      "Average Metric: 72.00 / 72 (100.0%):  61%|██████    | 72/119 [04:49<03:20,  4.27s/it]Query: Is it possible to book a flight from Lahore to Karachi and then have its refund 2 days later?\n",
      "Predicted: static\n",
      "Verdict: YES\n",
      "\n",
      "Average Metric: 73.00 / 73 (100.0%):  61%|██████▏   | 73/119 [04:49<02:25,  3.17s/it]Query: Show flights Karachi to Doha this week with cancellation policy.\n",
      "Predicted: api\n",
      "Verdict: YES\n",
      "\n",
      "Average Metric: 74.00 / 74 (100.0%):  62%|██████▏   | 74/119 [04:51<01:54,  2.55s/it]"
     ]
    },
    {
     "name": "stderr",
     "output_type": "stream",
     "text": [
      "2025/07/23 17:31:19 WARNING dspy.adapters.json_adapter: Failed to use structured output format, falling back to JSON mode.\n"
     ]
    },
    {
     "name": "stdout",
     "output_type": "stream",
     "text": [
      "Query: Show movie tickets in Lahore today\n",
      "Predicted: api\n",
      "Verdict: YES\n",
      "\n",
      "Average Metric: 75.00 / 75 (100.0%):  63%|██████▎   | 75/119 [05:01<03:37,  4.94s/it]"
     ]
    },
    {
     "name": "stderr",
     "output_type": "stream",
     "text": [
      "2025/07/23 17:31:22 WARNING dspy.adapters.json_adapter: Failed to use structured output format, falling back to JSON mode.\n"
     ]
    },
    {
     "name": "stdout",
     "output_type": "stream",
     "text": [
      "Query: Find me cheap flights to Dubai and tell me luggage limit.\n",
      "Predicted: api\n",
      "Verdict: YES\n",
      "\n",
      "Average Metric: 76.00 / 76 (100.0%):  64%|██████▍   | 76/119 [05:02<02:45,  3.84s/it]Query: Check buses from Faisalabad to Multan tonight\n",
      "Predicted: api\n",
      "Verdict: YES\n",
      "\n",
      "Average Metric: 77.00 / 77 (100.0%):  65%|██████▍   | 77/119 [05:04<02:10,  3.10s/it]"
     ]
    },
    {
     "name": "stderr",
     "output_type": "stream",
     "text": [
      "2025/07/23 17:31:32 WARNING dspy.adapters.json_adapter: Failed to use structured output format, falling back to JSON mode.\n"
     ]
    },
    {
     "name": "stdout",
     "output_type": "stream",
     "text": [
      "Query: Show bus timings from Lahore to Faisalabad tonight\n",
      "Predicted: api\n",
      "Verdict: YES\n",
      "\n",
      "Average Metric: 78.00 / 78 (100.0%):  66%|██████▌   | 78/119 [05:14<03:31,  5.16s/it]"
     ]
    },
    {
     "name": "stderr",
     "output_type": "stream",
     "text": [
      "2025/07/23 17:31:34 WARNING dspy.adapters.json_adapter: Failed to use structured output format, falling back to JSON mode.\n"
     ]
    },
    {
     "name": "stdout",
     "output_type": "stream",
     "text": [
      "Query: Find me hotel in Islamabad today and tell me if free cancellation available.\n",
      "Predicted: api\n",
      "Verdict: YES\n",
      "\n",
      "Average Metric: 79.00 / 79 (100.0%):  66%|██████▋   | 79/119 [05:15<02:41,  4.04s/it]Query: How to redeem a voucher code?\n",
      "Predicted: static\n",
      "Verdict: YES\n",
      "\n",
      "Average Metric: 80.00 / 80 (100.0%):  67%|██████▋   | 80/119 [05:16<01:55,  2.96s/it]"
     ]
    },
    {
     "name": "stderr",
     "output_type": "stream",
     "text": [
      "2025/07/23 17:31:44 WARNING dspy.adapters.json_adapter: Failed to use structured output format, falling back to JSON mode.\n"
     ]
    },
    {
     "name": "stdout",
     "output_type": "stream",
     "text": [
      "Query: Can I book an event ticket and cancel later for refund?\n",
      "Predicted: static\n",
      "Verdict: YES\n",
      "\n",
      "Average Metric: 81.00 / 81 (100.0%):  68%|██████▊   | 81/119 [05:26<03:14,  5.13s/it]Query: Does Bookme offer cashback?\n",
      "Predicted: static\n",
      "Verdict: YES\n",
      "\n",
      "Average Metric: 82.00 / 82 (100.0%):  69%|██████▉   | 82/119 [05:27<02:28,  4.02s/it]"
     ]
    },
    {
     "name": "stderr",
     "output_type": "stream",
     "text": [
      "2025/07/23 17:31:47 WARNING dspy.adapters.json_adapter: Failed to use structured output format, falling back to JSON mode.\n"
     ]
    },
    {
     "name": "stdout",
     "output_type": "stream",
     "text": [
      "Query: Show me flights from Lahore to Dubai tomorrow\n",
      "Predicted: api\n",
      "Verdict: YES\n",
      "\n",
      "Average Metric: 83.00 / 83 (100.0%):  70%|██████▉   | 83/119 [05:30<02:15,  3.77s/it]Query: List hotels in Swat for next weekend\n",
      "Predicted: api\n",
      "Verdict: YES\n",
      "\n",
      "Average Metric: 84.00 / 84 (100.0%):  71%|███████   | 84/119 [05:35<02:24,  4.12s/it]"
     ]
    },
    {
     "name": "stderr",
     "output_type": "stream",
     "text": [
      "2025/07/23 17:31:56 WARNING dspy.adapters.json_adapter: Failed to use structured output format, falling back to JSON mode.\n"
     ]
    },
    {
     "name": "stdout",
     "output_type": "stream",
     "text": [
      "Query: Show me hotels in Lahore for tonight\n",
      "Predicted: api\n",
      "Verdict: YES\n",
      "\n",
      "Average Metric: 85.00 / 85 (100.0%):  71%|███████▏  | 85/119 [05:38<02:06,  3.72s/it]Query: Book me a hotel in Islamabad for tomorrow and tell me check-in policy.\n",
      "Predicted: api\n",
      "Verdict: YES\n",
      "\n",
      "Average Metric: 86.00 / 86 (100.0%):  72%|███████▏  | 86/119 [05:44<02:23,  4.34s/it]"
     ]
    },
    {
     "name": "stderr",
     "output_type": "stream",
     "text": [
      "2025/07/23 17:32:05 WARNING dspy.adapters.json_adapter: Failed to use structured output format, falling back to JSON mode.\n"
     ]
    },
    {
     "name": "stdout",
     "output_type": "stream",
     "text": [
      "Query: Can I pay with EasyPaisa?\n",
      "Predicted: static\n",
      "Verdict: YES\n",
      "\n",
      "Average Metric: 87.00 / 87 (100.0%):  73%|███████▎  | 87/119 [05:46<01:58,  3.70s/it]Query: Does Bookme have a mobile app?\n",
      "Predicted: static\n",
      "Verdict: YES\n",
      "\n",
      "Average Metric: 88.00 / 88 (100.0%):  74%|███████▍  | 88/119 [05:47<01:25,  2.75s/it]"
     ]
    },
    {
     "name": "stderr",
     "output_type": "stream",
     "text": [
      "2025/07/23 17:32:15 WARNING dspy.adapters.json_adapter: Failed to use structured output format, falling back to JSON mode.\n",
      "2025/07/23 17:32:15 WARNING dspy.adapters.json_adapter: Failed to use structured output format, falling back to JSON mode.\n"
     ]
    },
    {
     "name": "stdout",
     "output_type": "stream",
     "text": [
      "Query: Does Bookme support PayPal?\n",
      "Predicted: static\n",
      "Verdict: YES\n",
      "\n",
      "Average Metric: 89.00 / 89 (100.0%):  75%|███████▍  | 89/119 [05:56<02:26,  4.88s/it]Query: Check flights from Islamabad to Riyadh next week\n",
      "Predicted: api\n",
      "Verdict: YES\n",
      "\n",
      "Average Metric: 90.00 / 90 (100.0%):  76%|███████▌  | 90/119 [05:58<01:52,  3.88s/it]Query: Show flights from Lahore to Dubai next Monday\n",
      "Predicted: api\n",
      "Verdict: YES\n",
      "\n",
      "Average Metric: 91.00 / 91 (100.0%):  76%|███████▋  | 91/119 [05:59<01:25,  3.04s/it]"
     ]
    },
    {
     "name": "stderr",
     "output_type": "stream",
     "text": [
      "2025/07/23 17:32:28 WARNING dspy.adapters.json_adapter: Failed to use structured output format, falling back to JSON mode.\n",
      "2025/07/23 17:32:29 WARNING dspy.adapters.json_adapter: Failed to use structured output format, falling back to JSON mode.\n"
     ]
    },
    {
     "name": "stdout",
     "output_type": "stream",
     "text": [
      "Query: Search hotels in Karachi for next Friday\n",
      "Predicted: api\n",
      "Verdict: YES\n",
      "\n",
      "Average Metric: 92.00 / 92 (100.0%):  77%|███████▋  | 92/119 [06:09<02:19,  5.16s/it]Query: Check buses from Islamabad to Abbottabad today and tell me refund policy.\n",
      "Predicted: api\n",
      "Verdict: YES\n",
      "\n",
      "Average Metric: 93.00 / 93 (100.0%):  78%|███████▊  | 93/119 [06:10<01:43,  3.99s/it]Query: Book me a flight from Karachi to Muscat tomorrow and tell me hand carry limit.\n",
      "Predicted: api\n",
      "Verdict: YES\n",
      "\n",
      "Average Metric: 94.00 / 94 (100.0%):  79%|███████▉  | 94/119 [06:11<01:17,  3.10s/it]"
     ]
    },
    {
     "name": "stderr",
     "output_type": "stream",
     "text": [
      "2025/07/23 17:32:39 WARNING dspy.adapters.json_adapter: Failed to use structured output format, falling back to JSON mode.\n"
     ]
    },
    {
     "name": "stdout",
     "output_type": "stream",
     "text": [
      "Query: Find hotels in Karachi near airport tonight\n",
      "Predicted: api\n",
      "Verdict: YES\n",
      "\n",
      "Average Metric: 95.00 / 95 (100.0%):  80%|███████▉  | 95/119 [06:20<01:55,  4.80s/it]"
     ]
    },
    {
     "name": "stderr",
     "output_type": "stream",
     "text": [
      "2025/07/23 17:32:41 WARNING dspy.adapters.json_adapter: Failed to use structured output format, falling back to JSON mode.\n"
     ]
    },
    {
     "name": "stdout",
     "output_type": "stream",
     "text": [
      "Query: How do I reset my password?\n",
      "Predicted: static\n",
      "Verdict: YES\n",
      "\n",
      "Average Metric: 96.00 / 96 (100.0%):  81%|████████  | 96/119 [06:22<01:31,  3.99s/it]Query: Can I change my seat after booking?\n",
      "Predicted: static\n",
      "Verdict: YES\n",
      "\n",
      "Average Metric: 97.00 / 97 (100.0%):  82%|████████▏ | 97/119 [06:23<01:08,  3.09s/it]"
     ]
    },
    {
     "name": "stderr",
     "output_type": "stream",
     "text": [
      "2025/07/23 17:32:51 WARNING dspy.adapters.json_adapter: Failed to use structured output format, falling back to JSON mode.\n",
      "2025/07/23 17:32:53 WARNING dspy.adapters.json_adapter: Failed to use structured output format, falling back to JSON mode.\n"
     ]
    },
    {
     "name": "stdout",
     "output_type": "stream",
     "text": [
      "Query: How can I cancel my hotel booking made on Bookme.pk?\n",
      "Predicted: static\n",
      "Verdict: YES\n",
      "\n",
      "Average Metric: 98.00 / 98 (100.0%):  82%|████████▏ | 98/119 [06:33<01:49,  5.21s/it]Query: Find flights from Karachi to Singapore and tell me cancellation charges.\n",
      "Predicted: api\n",
      "Verdict: YES\n",
      "\n",
      "Average Metric: 99.00 / 99 (100.0%):  83%|████████▎ | 99/119 [06:35<01:20,  4.03s/it]Query: How do I create an account on Bookme?\n",
      "Predicted: static\n",
      "Verdict: YES\n",
      "\n",
      "Average Metric: 100.00 / 100 (100.0%):  84%|████████▍ | 100/119 [06:35<00:57,  3.03s/it]"
     ]
    },
    {
     "name": "stderr",
     "output_type": "stream",
     "text": [
      "2025/07/23 17:33:05 WARNING dspy.adapters.json_adapter: Failed to use structured output format, falling back to JSON mode.\n",
      "2025/07/23 17:33:06 WARNING dspy.adapters.json_adapter: Failed to use structured output format, falling back to JSON mode.\n"
     ]
    },
    {
     "name": "stdout",
     "output_type": "stream",
     "text": [
      "Query: How do I update my profile information?\n",
      "Predicted: static\n",
      "Verdict: YES\n",
      "\n",
      "Average Metric: 101.00 / 101 (100.0%):  85%|████████▍ | 101/119 [06:47<01:42,  5.72s/it]Query: How to book a hotel on Bookme?\n",
      "Predicted: static\n",
      "Verdict: YES\n",
      "\n",
      "Average Metric: 102.00 / 102 (100.0%):  86%|████████▌ | 102/119 [06:49<01:15,  4.46s/it]Query: List buses from Lahore to Islamabad tomorrow night\n",
      "Predicted: api\n",
      "Verdict: YES\n",
      "\n",
      "Average Metric: 103.00 / 103 (100.0%):  87%|████████▋ | 103/119 [06:50<00:55,  3.48s/it]Query: Can I get cashback if I book flight tickets through Bookme.pk?\n",
      "Predicted: static\n",
      "Verdict: YES\n",
      "\n",
      "Average Metric: 104.00 / 104 (100.0%):  87%|████████▋ | 104/119 [06:52<00:45,  3.05s/it]"
     ]
    },
    {
     "name": "stderr",
     "output_type": "stream",
     "text": [
      "2025/07/23 17:33:20 WARNING dspy.adapters.json_adapter: Failed to use structured output format, falling back to JSON mode.\n",
      "2025/07/23 17:33:22 WARNING dspy.adapters.json_adapter: Failed to use structured output format, falling back to JSON mode.\n"
     ]
    },
    {
     "name": "stdout",
     "output_type": "stream",
     "text": [
      "Query: Can I book cricket tickets on Bookme?\n",
      "Predicted: static\n",
      "Verdict: YES\n",
      "\n",
      "Average Metric: 105.00 / 105 (100.0%):  88%|████████▊ | 105/119 [07:02<01:12,  5.20s/it]Query: Can I cancel my flight ticket and get a full refund within 24 hours?\n",
      "Predicted: static\n",
      "Verdict: YES\n",
      "\n",
      "Average Metric: 106.00 / 106 (100.0%):  89%|████████▉ | 106/119 [07:04<00:53,  4.13s/it]Query: Can I book a bus ticket from Islamabad to Peshawar and get refund if I cancel?\n",
      "Predicted: static\n",
      "Verdict: YES\n",
      "\n",
      "Average Metric: 107.00 / 107 (100.0%):  90%|████████▉ | 107/119 [07:05<00:38,  3.19s/it]"
     ]
    },
    {
     "name": "stderr",
     "output_type": "stream",
     "text": [
      "2025/07/23 17:33:35 WARNING dspy.adapters.json_adapter: Failed to use structured output format, falling back to JSON mode.\n",
      "2025/07/23 17:33:35 WARNING dspy.adapters.json_adapter: Failed to use structured output format, falling back to JSON mode.\n"
     ]
    },
    {
     "name": "stdout",
     "output_type": "stream",
     "text": [
      "Query: How to use my wallet balance?\n",
      "Predicted: static\n",
      "Verdict: YES\n",
      "\n",
      "Average Metric: 108.00 / 108 (100.0%):  91%|█████████ | 108/119 [07:17<01:03,  5.73s/it]Query: List events in Karachi this weekend\n",
      "Predicted: api\n",
      "Verdict: YES\n",
      "\n",
      "Average Metric: 109.00 / 109 (100.0%):  92%|█████████▏| 109/119 [07:17<00:41,  4.11s/it]Query: Find flights from Islamabad to Jeddah next month\n",
      "Predicted: api\n",
      "Verdict: YES\n",
      "\n",
      "Average Metric: 110.00 / 110 (100.0%):  92%|█████████▏| 110/119 [07:18<00:28,  3.21s/it]Query: Are there any buses from Islamabad to Multan today?\n",
      "Predicted: api\n",
      "Verdict: YES\n",
      "\n",
      "Average Metric: 111.00 / 111 (100.0%):  93%|█████████▎| 111/119 [07:23<00:30,  3.76s/it]"
     ]
    },
    {
     "name": "stderr",
     "output_type": "stream",
     "text": [
      "2025/07/23 17:33:47 WARNING dspy.adapters.json_adapter: Failed to use structured output format, falling back to JSON mode.\n"
     ]
    },
    {
     "name": "stdout",
     "output_type": "stream",
     "text": [
      "Query: Check flights to Dubai from Karachi tomorrow and tell me fare rules.\n",
      "Predicted: api\n",
      "Verdict: YES\n",
      "\n",
      "Average Metric: 112.00 / 112 (100.0%):  94%|█████████▍| 112/119 [07:28<00:28,  4.11s/it]Query: Show me hotels in Skardu with breakfast included and free cancellation.\n",
      "Predicted: api\n",
      "Verdict: YES\n",
      "\n",
      "Average Metric: 113.00 / 113 (100.0%):  95%|█████████▍| 113/119 [07:28<00:17,  2.98s/it]"
     ]
    },
    {
     "name": "stderr",
     "output_type": "stream",
     "text": [
      "2025/07/23 17:33:58 WARNING dspy.adapters.json_adapter: Failed to use structured output format, falling back to JSON mode.\n",
      "2025/07/23 17:33:59 WARNING dspy.adapters.json_adapter: Failed to use structured output format, falling back to JSON mode.\n"
     ]
    },
    {
     "name": "stdout",
     "output_type": "stream",
     "text": [
      "Query: How to check event schedules?\n",
      "Predicted: static\n",
      "Verdict: YES\n",
      "\n",
      "Average Metric: 114.00 / 114 (100.0%):  96%|█████████▌| 114/119 [07:40<00:27,  5.50s/it]Query: Can I book a bus seat and later change it to another seat?\n",
      "Predicted: static\n",
      "Verdict: YES\n",
      "\n",
      "Average Metric: 115.00 / 115 (100.0%):  97%|█████████▋| 115/119 [07:40<00:15,  3.99s/it]Query: Check flights from Lahore to Kuala Lumpur this week\n",
      "Predicted: api\n",
      "Verdict: YES\n",
      "\n",
      "Average Metric: 116.00 / 116 (100.0%):  97%|█████████▋| 116/119 [07:41<00:09,  3.11s/it]"
     ]
    },
    {
     "name": "stderr",
     "output_type": "stream",
     "text": [
      "2025/07/23 17:34:10 WARNING dspy.adapters.json_adapter: Failed to use structured output format, falling back to JSON mode.\n"
     ]
    },
    {
     "name": "stdout",
     "output_type": "stream",
     "text": [
      "Query: Can I cancel train tickets booked via Bookme.pk?\n",
      "Predicted: static\n",
      "Verdict: YES\n",
      "\n",
      "Average Metric: 117.00 / 117 (100.0%):  98%|█████████▊| 117/119 [07:52<00:10,  5.29s/it]Query: Find me cheap flights to Dubai from Karachi\n",
      "Predicted: api\n",
      "Verdict: YES\n",
      "\n",
      "Average Metric: 118.00 / 118 (100.0%):  99%|█████████▉| 118/119 [07:53<00:04,  4.08s/it]"
     ]
    },
    {
     "name": "stderr",
     "output_type": "stream",
     "text": [
      "2025/07/23 17:34:13 WARNING dspy.adapters.json_adapter: Failed to use structured output format, falling back to JSON mode.\n"
     ]
    },
    {
     "name": "stdout",
     "output_type": "stream",
     "text": [
      "Query: Check flights from Lahore to Doha next week\n",
      "Predicted: api\n",
      "Verdict: YES\n",
      "\n",
      "Average Metric: 119.00 / 119 (100.0%): 100%|██████████| 119/119 [07:55<00:00,  3.99s/it]"
     ]
    },
    {
     "name": "stderr",
     "output_type": "stream",
     "text": [
      "2025/07/23 17:34:15 INFO dspy.evaluate.evaluate: Average Metric: 119 / 119 (100.0%)\n"
     ]
    },
    {
     "name": "stdout",
     "output_type": "stream",
     "text": [
      "\n",
      "Scores so far: [86.55, 100.0, 100.0, 100.0, 99.16, 100.0, 100.0]\n",
      "Best score so far: 100.0\n",
      "7 candidate programs found.\n"
     ]
    }
   ],
   "source": [
    "from dspy.teleprompt import BootstrapFewShot, MIPROv2\n",
    "\n",
    "from dspy.teleprompt import BootstrapFewShotWithRandomSearch\n",
    "teleprompter = BootstrapFewShotWithRandomSearch( metric=metric,\n",
    "    max_labeled_demos=100,  # Reduced from 16 to 8 for speed\n",
    "    max_bootstrapped_demos=4,  # Reduced from 6\n",
    "    num_candidate_programs=4,  # Reduced from 6\n",
    "    num_threads=2)  # Parallel processing)\n",
    "compiled_pred = teleprompter.compile(generator, trainset=train_examples)"
   ]
  },
  {
   "cell_type": "code",
   "execution_count": null,
   "id": "c956f976-3950-4d2e-8886-598f60389701",
   "metadata": {},
   "outputs": [],
   "source": [
    "current_directory = \"Agent_Decision\"\n",
    "\n",
    "# Save the generator model with the valid path\n",
    "compiled_pred.save(current_directory,save_program=True)"
   ]
  },
  {
   "cell_type": "code",
   "execution_count": 3,
   "id": "88ee7df1-3a31-49e3-aa29-7fab319308ad",
   "metadata": {},
   "outputs": [],
   "source": [
    "current_directory = \"Agent_Decision\"\n",
    "loaded_dspy_program = dspy.load(current_directory)"
   ]
  },
  {
   "cell_type": "code",
   "execution_count": 25,
   "id": "e225a355-c49b-43ac-b7f0-182bd15402ce",
   "metadata": {},
   "outputs": [
    {
     "name": "stdout",
     "output_type": "stream",
     "text": [
      "Answer: static\n"
     ]
    }
   ],
   "source": [
    "test_example = dspy.Example(input=\"please tell me the possibility , i will book a ticket and refund after landing\")\n",
    "# I booked a flight yesterday from Lahore to Islamabad, and now I want to cancel it and get a refund\n",
    "result = loaded_dspy_program(test_example)\n",
    "\n",
    "print(\"Answer:\", result.Type)"
   ]
  }
 ],
 "metadata": {
  "kernelspec": {
   "display_name": "Python 3 (ipykernel)",
   "language": "python",
   "name": "python3"
  },
  "language_info": {
   "codemirror_mode": {
    "name": "ipython",
    "version": 3
   },
   "file_extension": ".py",
   "mimetype": "text/x-python",
   "name": "python",
   "nbconvert_exporter": "python",
   "pygments_lexer": "ipython3",
   "version": "3.12.7"
  }
 },
 "nbformat": 4,
 "nbformat_minor": 5
}
